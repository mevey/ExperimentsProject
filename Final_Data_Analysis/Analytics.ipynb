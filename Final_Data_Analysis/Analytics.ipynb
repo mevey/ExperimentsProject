{
 "cells": [
  {
   "cell_type": "code",
   "execution_count": 4,
   "metadata": {},
   "outputs": [],
   "source": [
    "## Libraries\n",
    "import pandas as pd\n",
    "import numpy as np\n",
    "import matplotlib.pyplot as plt\n",
    "import seaborn as sns\n",
    "\n",
    "import statsmodels as sm\n",
    "import statsmodels.formula.api as smf"
   ]
  },
  {
   "cell_type": "code",
   "execution_count": 53,
   "metadata": {},
   "outputs": [],
   "source": [
    "## Importing data\n",
    "path = 'experiments_data_Dec5.csv'\n",
    "df = pd.read_csv(path)"
   ]
  },
  {
   "cell_type": "code",
   "execution_count": 54,
   "metadata": {},
   "outputs": [
    {
     "data": {
      "text/html": [
       "<div>\n",
       "<style scoped>\n",
       "    .dataframe tbody tr th:only-of-type {\n",
       "        vertical-align: middle;\n",
       "    }\n",
       "\n",
       "    .dataframe tbody tr th {\n",
       "        vertical-align: top;\n",
       "    }\n",
       "\n",
       "    .dataframe thead th {\n",
       "        text-align: right;\n",
       "    }\n",
       "</style>\n",
       "<table border=\"1\" class=\"dataframe\">\n",
       "  <thead>\n",
       "    <tr style=\"text-align: right;\">\n",
       "      <th></th>\n",
       "      <th>respondent_id</th>\n",
       "      <th>age</th>\n",
       "      <th>gender</th>\n",
       "      <th>location</th>\n",
       "      <th>education</th>\n",
       "      <th>group</th>\n",
       "      <th>enrolled</th>\n",
       "      <th>last_update</th>\n",
       "      <th>level</th>\n",
       "      <th>number_check</th>\n",
       "      <th>...</th>\n",
       "      <th>pre_determined</th>\n",
       "      <th>post_determined</th>\n",
       "      <th>pre_attentive</th>\n",
       "      <th>post_attentive</th>\n",
       "      <th>pre_jittery</th>\n",
       "      <th>post_jittery</th>\n",
       "      <th>pre_active</th>\n",
       "      <th>post_active</th>\n",
       "      <th>pre_afraid</th>\n",
       "      <th>post_afraid</th>\n",
       "    </tr>\n",
       "  </thead>\n",
       "  <tbody>\n",
       "    <tr>\n",
       "      <th>0</th>\n",
       "      <td>24</td>\n",
       "      <td>26</td>\n",
       "      <td>female</td>\n",
       "      <td>United States</td>\n",
       "      <td>5</td>\n",
       "      <td>ROO</td>\n",
       "      <td>2018-11-17 01:18:38.708246+00:00</td>\n",
       "      <td>2018-11-17 01:21:51.608501+00:00</td>\n",
       "      <td>7</td>\n",
       "      <td>0</td>\n",
       "      <td>...</td>\n",
       "      <td>4</td>\n",
       "      <td>4</td>\n",
       "      <td>4</td>\n",
       "      <td>3</td>\n",
       "      <td>2</td>\n",
       "      <td>0</td>\n",
       "      <td>3</td>\n",
       "      <td>2</td>\n",
       "      <td>2</td>\n",
       "      <td>2</td>\n",
       "    </tr>\n",
       "    <tr>\n",
       "      <th>1</th>\n",
       "      <td>25</td>\n",
       "      <td>25</td>\n",
       "      <td>male</td>\n",
       "      <td>United States</td>\n",
       "      <td>5</td>\n",
       "      <td>RO</td>\n",
       "      <td>2018-11-17 01:22:27.974986+00:00</td>\n",
       "      <td>2018-11-17 01:23:18.119645+00:00</td>\n",
       "      <td>6</td>\n",
       "      <td>0</td>\n",
       "      <td>...</td>\n",
       "      <td>0</td>\n",
       "      <td>0</td>\n",
       "      <td>0</td>\n",
       "      <td>0</td>\n",
       "      <td>0</td>\n",
       "      <td>0</td>\n",
       "      <td>0</td>\n",
       "      <td>0</td>\n",
       "      <td>0</td>\n",
       "      <td>0</td>\n",
       "    </tr>\n",
       "    <tr>\n",
       "      <th>2</th>\n",
       "      <td>26</td>\n",
       "      <td>25</td>\n",
       "      <td>female</td>\n",
       "      <td>United States</td>\n",
       "      <td>5</td>\n",
       "      <td>RO</td>\n",
       "      <td>2018-11-17 01:32:38.782377+00:00</td>\n",
       "      <td>2018-11-17 01:36:05.459238+00:00</td>\n",
       "      <td>7</td>\n",
       "      <td>0</td>\n",
       "      <td>...</td>\n",
       "      <td>0</td>\n",
       "      <td>2</td>\n",
       "      <td>0</td>\n",
       "      <td>3</td>\n",
       "      <td>0</td>\n",
       "      <td>1</td>\n",
       "      <td>0</td>\n",
       "      <td>4</td>\n",
       "      <td>0</td>\n",
       "      <td>1</td>\n",
       "    </tr>\n",
       "    <tr>\n",
       "      <th>3</th>\n",
       "      <td>27</td>\n",
       "      <td>32</td>\n",
       "      <td>male</td>\n",
       "      <td>Kenya</td>\n",
       "      <td>4</td>\n",
       "      <td>ROXO</td>\n",
       "      <td>2018-11-17 01:46:18.703943+00:00</td>\n",
       "      <td>2018-11-17 01:46:18.917251+00:00</td>\n",
       "      <td>2</td>\n",
       "      <td>0</td>\n",
       "      <td>...</td>\n",
       "      <td>0</td>\n",
       "      <td>0</td>\n",
       "      <td>0</td>\n",
       "      <td>0</td>\n",
       "      <td>0</td>\n",
       "      <td>0</td>\n",
       "      <td>0</td>\n",
       "      <td>0</td>\n",
       "      <td>0</td>\n",
       "      <td>0</td>\n",
       "    </tr>\n",
       "    <tr>\n",
       "      <th>4</th>\n",
       "      <td>28</td>\n",
       "      <td>28</td>\n",
       "      <td>female</td>\n",
       "      <td>United States</td>\n",
       "      <td>4</td>\n",
       "      <td>ROXO</td>\n",
       "      <td>2018-11-17 01:47:34.454053+00:00</td>\n",
       "      <td>2018-11-17 01:53:51.607042+00:00</td>\n",
       "      <td>6</td>\n",
       "      <td>0</td>\n",
       "      <td>...</td>\n",
       "      <td>5</td>\n",
       "      <td>0</td>\n",
       "      <td>3</td>\n",
       "      <td>0</td>\n",
       "      <td>1</td>\n",
       "      <td>0</td>\n",
       "      <td>4</td>\n",
       "      <td>0</td>\n",
       "      <td>2</td>\n",
       "      <td>0</td>\n",
       "    </tr>\n",
       "  </tbody>\n",
       "</table>\n",
       "<p>5 rows × 55 columns</p>\n",
       "</div>"
      ],
      "text/plain": [
       "   respondent_id  age  gender       location  education group  \\\n",
       "0             24   26  female  United States          5   ROO   \n",
       "1             25   25    male  United States          5    RO   \n",
       "2             26   25  female  United States          5    RO   \n",
       "3             27   32    male          Kenya          4  ROXO   \n",
       "4             28   28  female  United States          4  ROXO   \n",
       "\n",
       "                           enrolled                       last_update  level  \\\n",
       "0  2018-11-17 01:18:38.708246+00:00  2018-11-17 01:21:51.608501+00:00      7   \n",
       "1  2018-11-17 01:22:27.974986+00:00  2018-11-17 01:23:18.119645+00:00      6   \n",
       "2  2018-11-17 01:32:38.782377+00:00  2018-11-17 01:36:05.459238+00:00      7   \n",
       "3  2018-11-17 01:46:18.703943+00:00  2018-11-17 01:46:18.917251+00:00      2   \n",
       "4  2018-11-17 01:47:34.454053+00:00  2018-11-17 01:53:51.607042+00:00      6   \n",
       "\n",
       "   number_check     ...       pre_determined  post_determined  pre_attentive  \\\n",
       "0             0     ...                    4                4              4   \n",
       "1             0     ...                    0                0              0   \n",
       "2             0     ...                    0                2              0   \n",
       "3             0     ...                    0                0              0   \n",
       "4             0     ...                    5                0              3   \n",
       "\n",
       "   post_attentive  pre_jittery  post_jittery  pre_active  post_active  \\\n",
       "0               3            2             0           3            2   \n",
       "1               0            0             0           0            0   \n",
       "2               3            0             1           0            4   \n",
       "3               0            0             0           0            0   \n",
       "4               0            1             0           4            0   \n",
       "\n",
       "   pre_afraid  post_afraid  \n",
       "0           2            2  \n",
       "1           0            0  \n",
       "2           0            1  \n",
       "3           0            0  \n",
       "4           2            0  \n",
       "\n",
       "[5 rows x 55 columns]"
      ]
     },
     "execution_count": 54,
     "metadata": {},
     "output_type": "execute_result"
    }
   ],
   "source": [
    "df.head()"
   ]
  },
  {
   "cell_type": "code",
   "execution_count": null,
   "metadata": {},
   "outputs": [],
   "source": []
  },
  {
   "cell_type": "markdown",
   "metadata": {},
   "source": [
    "# EDA"
   ]
  },
  {
   "cell_type": "code",
   "execution_count": 55,
   "metadata": {},
   "outputs": [
    {
     "data": {
      "text/html": [
       "<div>\n",
       "<style scoped>\n",
       "    .dataframe tbody tr th:only-of-type {\n",
       "        vertical-align: middle;\n",
       "    }\n",
       "\n",
       "    .dataframe tbody tr th {\n",
       "        vertical-align: top;\n",
       "    }\n",
       "\n",
       "    .dataframe thead th {\n",
       "        text-align: right;\n",
       "    }\n",
       "</style>\n",
       "<table border=\"1\" class=\"dataframe\">\n",
       "  <thead>\n",
       "    <tr style=\"text-align: right;\">\n",
       "      <th></th>\n",
       "      <th>respondent_id</th>\n",
       "      <th>age</th>\n",
       "      <th>education</th>\n",
       "      <th>level</th>\n",
       "      <th>number_check</th>\n",
       "      <th>time_spent_in_treatment_or_control</th>\n",
       "      <th>pre_positive_affect</th>\n",
       "      <th>pre_negative_affect</th>\n",
       "      <th>post_positive_affect</th>\n",
       "      <th>post_negative_affect</th>\n",
       "      <th>...</th>\n",
       "      <th>pre_determined</th>\n",
       "      <th>post_determined</th>\n",
       "      <th>pre_attentive</th>\n",
       "      <th>post_attentive</th>\n",
       "      <th>pre_jittery</th>\n",
       "      <th>post_jittery</th>\n",
       "      <th>pre_active</th>\n",
       "      <th>post_active</th>\n",
       "      <th>pre_afraid</th>\n",
       "      <th>post_afraid</th>\n",
       "    </tr>\n",
       "  </thead>\n",
       "  <tbody>\n",
       "    <tr>\n",
       "      <th>count</th>\n",
       "      <td>216.000</td>\n",
       "      <td>216.000000</td>\n",
       "      <td>216.000000</td>\n",
       "      <td>216.000000</td>\n",
       "      <td>216.000000</td>\n",
       "      <td>216.000000</td>\n",
       "      <td>216.000000</td>\n",
       "      <td>216.000000</td>\n",
       "      <td>216.000000</td>\n",
       "      <td>216.000000</td>\n",
       "      <td>...</td>\n",
       "      <td>216.000000</td>\n",
       "      <td>216.000000</td>\n",
       "      <td>216.000000</td>\n",
       "      <td>216.000000</td>\n",
       "      <td>216.000000</td>\n",
       "      <td>216.000000</td>\n",
       "      <td>216.000000</td>\n",
       "      <td>216.000000</td>\n",
       "      <td>216.000000</td>\n",
       "      <td>216.000000</td>\n",
       "    </tr>\n",
       "    <tr>\n",
       "      <th>mean</th>\n",
       "      <td>131.500</td>\n",
       "      <td>29.518519</td>\n",
       "      <td>4.324074</td>\n",
       "      <td>5.814815</td>\n",
       "      <td>1.523148</td>\n",
       "      <td>-506.799683</td>\n",
       "      <td>18.837963</td>\n",
       "      <td>11.791667</td>\n",
       "      <td>18.458333</td>\n",
       "      <td>11.356481</td>\n",
       "      <td>...</td>\n",
       "      <td>2.083333</td>\n",
       "      <td>2.004630</td>\n",
       "      <td>1.990741</td>\n",
       "      <td>2.129630</td>\n",
       "      <td>1.115741</td>\n",
       "      <td>1.074074</td>\n",
       "      <td>1.763889</td>\n",
       "      <td>1.819444</td>\n",
       "      <td>1.222222</td>\n",
       "      <td>1.171296</td>\n",
       "    </tr>\n",
       "    <tr>\n",
       "      <th>std</th>\n",
       "      <td>62.498</td>\n",
       "      <td>11.359644</td>\n",
       "      <td>0.903005</td>\n",
       "      <td>1.870944</td>\n",
       "      <td>2.885315</td>\n",
       "      <td>11847.484556</td>\n",
       "      <td>17.120004</td>\n",
       "      <td>11.448901</td>\n",
       "      <td>15.523070</td>\n",
       "      <td>10.266122</td>\n",
       "      <td>...</td>\n",
       "      <td>1.998255</td>\n",
       "      <td>1.782336</td>\n",
       "      <td>1.904684</td>\n",
       "      <td>1.802286</td>\n",
       "      <td>1.276089</td>\n",
       "      <td>1.118169</td>\n",
       "      <td>1.777061</td>\n",
       "      <td>1.619587</td>\n",
       "      <td>1.359434</td>\n",
       "      <td>1.217435</td>\n",
       "    </tr>\n",
       "    <tr>\n",
       "      <th>min</th>\n",
       "      <td>24.000</td>\n",
       "      <td>-26.000000</td>\n",
       "      <td>1.000000</td>\n",
       "      <td>2.000000</td>\n",
       "      <td>0.000000</td>\n",
       "      <td>-171805.884524</td>\n",
       "      <td>0.000000</td>\n",
       "      <td>0.000000</td>\n",
       "      <td>0.000000</td>\n",
       "      <td>0.000000</td>\n",
       "      <td>...</td>\n",
       "      <td>0.000000</td>\n",
       "      <td>0.000000</td>\n",
       "      <td>0.000000</td>\n",
       "      <td>0.000000</td>\n",
       "      <td>0.000000</td>\n",
       "      <td>0.000000</td>\n",
       "      <td>0.000000</td>\n",
       "      <td>0.000000</td>\n",
       "      <td>0.000000</td>\n",
       "      <td>0.000000</td>\n",
       "    </tr>\n",
       "    <tr>\n",
       "      <th>25%</th>\n",
       "      <td>77.750</td>\n",
       "      <td>25.000000</td>\n",
       "      <td>4.000000</td>\n",
       "      <td>5.000000</td>\n",
       "      <td>0.000000</td>\n",
       "      <td>0.000000</td>\n",
       "      <td>0.000000</td>\n",
       "      <td>0.000000</td>\n",
       "      <td>0.000000</td>\n",
       "      <td>0.000000</td>\n",
       "      <td>...</td>\n",
       "      <td>0.000000</td>\n",
       "      <td>0.000000</td>\n",
       "      <td>0.000000</td>\n",
       "      <td>0.000000</td>\n",
       "      <td>0.000000</td>\n",
       "      <td>0.000000</td>\n",
       "      <td>0.000000</td>\n",
       "      <td>0.000000</td>\n",
       "      <td>0.000000</td>\n",
       "      <td>0.000000</td>\n",
       "    </tr>\n",
       "    <tr>\n",
       "      <th>50%</th>\n",
       "      <td>131.500</td>\n",
       "      <td>28.000000</td>\n",
       "      <td>4.000000</td>\n",
       "      <td>7.000000</td>\n",
       "      <td>0.000000</td>\n",
       "      <td>0.000000</td>\n",
       "      <td>24.000000</td>\n",
       "      <td>12.000000</td>\n",
       "      <td>21.000000</td>\n",
       "      <td>10.000000</td>\n",
       "      <td>...</td>\n",
       "      <td>2.000000</td>\n",
       "      <td>2.000000</td>\n",
       "      <td>2.000000</td>\n",
       "      <td>2.000000</td>\n",
       "      <td>1.000000</td>\n",
       "      <td>1.000000</td>\n",
       "      <td>1.500000</td>\n",
       "      <td>2.000000</td>\n",
       "      <td>1.000000</td>\n",
       "      <td>1.000000</td>\n",
       "    </tr>\n",
       "    <tr>\n",
       "      <th>75%</th>\n",
       "      <td>185.250</td>\n",
       "      <td>30.000000</td>\n",
       "      <td>5.000000</td>\n",
       "      <td>7.000000</td>\n",
       "      <td>0.000000</td>\n",
       "      <td>170.969470</td>\n",
       "      <td>33.000000</td>\n",
       "      <td>21.000000</td>\n",
       "      <td>31.000000</td>\n",
       "      <td>18.000000</td>\n",
       "      <td>...</td>\n",
       "      <td>4.000000</td>\n",
       "      <td>4.000000</td>\n",
       "      <td>4.000000</td>\n",
       "      <td>4.000000</td>\n",
       "      <td>2.000000</td>\n",
       "      <td>2.000000</td>\n",
       "      <td>3.000000</td>\n",
       "      <td>3.000000</td>\n",
       "      <td>2.000000</td>\n",
       "      <td>2.000000</td>\n",
       "    </tr>\n",
       "    <tr>\n",
       "      <th>max</th>\n",
       "      <td>239.000</td>\n",
       "      <td>99.000000</td>\n",
       "      <td>6.000000</td>\n",
       "      <td>7.000000</td>\n",
       "      <td>7.000000</td>\n",
       "      <td>24735.092758</td>\n",
       "      <td>50.000000</td>\n",
       "      <td>42.000000</td>\n",
       "      <td>50.000000</td>\n",
       "      <td>41.000000</td>\n",
       "      <td>...</td>\n",
       "      <td>5.000000</td>\n",
       "      <td>5.000000</td>\n",
       "      <td>5.000000</td>\n",
       "      <td>5.000000</td>\n",
       "      <td>5.000000</td>\n",
       "      <td>5.000000</td>\n",
       "      <td>5.000000</td>\n",
       "      <td>5.000000</td>\n",
       "      <td>5.000000</td>\n",
       "      <td>5.000000</td>\n",
       "    </tr>\n",
       "  </tbody>\n",
       "</table>\n",
       "<p>8 rows × 50 columns</p>\n",
       "</div>"
      ],
      "text/plain": [
       "       respondent_id         age   education       level  number_check  \\\n",
       "count        216.000  216.000000  216.000000  216.000000    216.000000   \n",
       "mean         131.500   29.518519    4.324074    5.814815      1.523148   \n",
       "std           62.498   11.359644    0.903005    1.870944      2.885315   \n",
       "min           24.000  -26.000000    1.000000    2.000000      0.000000   \n",
       "25%           77.750   25.000000    4.000000    5.000000      0.000000   \n",
       "50%          131.500   28.000000    4.000000    7.000000      0.000000   \n",
       "75%          185.250   30.000000    5.000000    7.000000      0.000000   \n",
       "max          239.000   99.000000    6.000000    7.000000      7.000000   \n",
       "\n",
       "       time_spent_in_treatment_or_control  pre_positive_affect  \\\n",
       "count                          216.000000           216.000000   \n",
       "mean                          -506.799683            18.837963   \n",
       "std                          11847.484556            17.120004   \n",
       "min                        -171805.884524             0.000000   \n",
       "25%                              0.000000             0.000000   \n",
       "50%                              0.000000            24.000000   \n",
       "75%                            170.969470            33.000000   \n",
       "max                          24735.092758            50.000000   \n",
       "\n",
       "       pre_negative_affect  post_positive_affect  post_negative_affect  \\\n",
       "count           216.000000            216.000000            216.000000   \n",
       "mean             11.791667             18.458333             11.356481   \n",
       "std              11.448901             15.523070             10.266122   \n",
       "min               0.000000              0.000000              0.000000   \n",
       "25%               0.000000              0.000000              0.000000   \n",
       "50%              12.000000             21.000000             10.000000   \n",
       "75%              21.000000             31.000000             18.000000   \n",
       "max              42.000000             50.000000             41.000000   \n",
       "\n",
       "          ...       pre_determined  post_determined  pre_attentive  \\\n",
       "count     ...           216.000000       216.000000     216.000000   \n",
       "mean      ...             2.083333         2.004630       1.990741   \n",
       "std       ...             1.998255         1.782336       1.904684   \n",
       "min       ...             0.000000         0.000000       0.000000   \n",
       "25%       ...             0.000000         0.000000       0.000000   \n",
       "50%       ...             2.000000         2.000000       2.000000   \n",
       "75%       ...             4.000000         4.000000       4.000000   \n",
       "max       ...             5.000000         5.000000       5.000000   \n",
       "\n",
       "       post_attentive  pre_jittery  post_jittery  pre_active  post_active  \\\n",
       "count      216.000000   216.000000    216.000000  216.000000   216.000000   \n",
       "mean         2.129630     1.115741      1.074074    1.763889     1.819444   \n",
       "std          1.802286     1.276089      1.118169    1.777061     1.619587   \n",
       "min          0.000000     0.000000      0.000000    0.000000     0.000000   \n",
       "25%          0.000000     0.000000      0.000000    0.000000     0.000000   \n",
       "50%          2.000000     1.000000      1.000000    1.500000     2.000000   \n",
       "75%          4.000000     2.000000      2.000000    3.000000     3.000000   \n",
       "max          5.000000     5.000000      5.000000    5.000000     5.000000   \n",
       "\n",
       "       pre_afraid  post_afraid  \n",
       "count  216.000000   216.000000  \n",
       "mean     1.222222     1.171296  \n",
       "std      1.359434     1.217435  \n",
       "min      0.000000     0.000000  \n",
       "25%      0.000000     0.000000  \n",
       "50%      1.000000     1.000000  \n",
       "75%      2.000000     2.000000  \n",
       "max      5.000000     5.000000  \n",
       "\n",
       "[8 rows x 50 columns]"
      ]
     },
     "execution_count": 55,
     "metadata": {},
     "output_type": "execute_result"
    }
   ],
   "source": [
    "df.describe()"
   ]
  },
  {
   "cell_type": "code",
   "execution_count": null,
   "metadata": {},
   "outputs": [],
   "source": []
  },
  {
   "cell_type": "code",
   "execution_count": 56,
   "metadata": {},
   "outputs": [
    {
     "data": {
      "text/plain": [
       "Text(0.5, 1.0, 'Participant Age Distribution')"
      ]
     },
     "execution_count": 56,
     "metadata": {},
     "output_type": "execute_result"
    },
    {
     "data": {
      "image/png": "[encoded data removed]",
      "text/plain": [
       "<Figure size 432x288 with 1 Axes>"
      ]
     },
     "metadata": {
      "needs_background": "light"
     },
     "output_type": "display_data"
    }
   ],
   "source": [
    "# plotting distribution of age\n",
    "df.age.hist(grid=False)\n",
    "plt.xlabel('Participants Age')\n",
    "plt.ylabel('Frequency')\n",
    "plt.title('Participant Age Distribution')"
   ]
  },
  {
   "cell_type": "code",
   "execution_count": null,
   "metadata": {},
   "outputs": [],
   "source": []
  },
  {
   "cell_type": "code",
   "execution_count": 57,
   "metadata": {},
   "outputs": [
    {
     "data": {
      "text/plain": [
       "Text(0.5, 1.0, 'Participant Group Distribution')"
      ]
     },
     "execution_count": 57,
     "metadata": {},
     "output_type": "execute_result"
    },
    {
     "data": {
      "image/png": "[encoded data removed]",
      "text/plain": [
       "<Figure size 432x288 with 1 Axes>"
      ]
     },
     "metadata": {
      "needs_background": "light"
     },
     "output_type": "display_data"
    }
   ],
   "source": [
    "# plotting distribution of groups\n",
    "ratio_of_groups = df['group'].value_counts()/sum(df['group'].value_counts())\n",
    "ratio_of_groups.plot(kind='bar')\n",
    "plt.xlabel('Group Assignment')\n",
    "plt.ylabel('Frequency')\n",
    "plt.title('Participant Group Distribution')"
   ]
  },
  {
   "cell_type": "code",
   "execution_count": 58,
   "metadata": {},
   "outputs": [
    {
     "data": {
      "text/html": [
       "<div>\n",
       "<style scoped>\n",
       "    .dataframe tbody tr th:only-of-type {\n",
       "        vertical-align: middle;\n",
       "    }\n",
       "\n",
       "    .dataframe tbody tr th {\n",
       "        vertical-align: top;\n",
       "    }\n",
       "\n",
       "    .dataframe thead th {\n",
       "        text-align: right;\n",
       "    }\n",
       "</style>\n",
       "<table border=\"1\" class=\"dataframe\">\n",
       "  <thead>\n",
       "    <tr style=\"text-align: right;\">\n",
       "      <th></th>\n",
       "      <th>respondent_id</th>\n",
       "      <th>age</th>\n",
       "      <th>gender</th>\n",
       "      <th>location</th>\n",
       "      <th>education</th>\n",
       "      <th>group</th>\n",
       "      <th>enrolled</th>\n",
       "      <th>last_update</th>\n",
       "      <th>level</th>\n",
       "      <th>number_check</th>\n",
       "      <th>...</th>\n",
       "      <th>pre_determined</th>\n",
       "      <th>post_determined</th>\n",
       "      <th>pre_attentive</th>\n",
       "      <th>post_attentive</th>\n",
       "      <th>pre_jittery</th>\n",
       "      <th>post_jittery</th>\n",
       "      <th>pre_active</th>\n",
       "      <th>post_active</th>\n",
       "      <th>pre_afraid</th>\n",
       "      <th>post_afraid</th>\n",
       "    </tr>\n",
       "  </thead>\n",
       "  <tbody>\n",
       "    <tr>\n",
       "      <th>0</th>\n",
       "      <td>24</td>\n",
       "      <td>26</td>\n",
       "      <td>female</td>\n",
       "      <td>United States</td>\n",
       "      <td>5</td>\n",
       "      <td>ROO</td>\n",
       "      <td>2018-11-17 01:18:38.708246+00:00</td>\n",
       "      <td>2018-11-17 01:21:51.608501+00:00</td>\n",
       "      <td>7</td>\n",
       "      <td>0</td>\n",
       "      <td>...</td>\n",
       "      <td>4</td>\n",
       "      <td>4</td>\n",
       "      <td>4</td>\n",
       "      <td>3</td>\n",
       "      <td>2</td>\n",
       "      <td>0</td>\n",
       "      <td>3</td>\n",
       "      <td>2</td>\n",
       "      <td>2</td>\n",
       "      <td>2</td>\n",
       "    </tr>\n",
       "    <tr>\n",
       "      <th>1</th>\n",
       "      <td>25</td>\n",
       "      <td>25</td>\n",
       "      <td>male</td>\n",
       "      <td>United States</td>\n",
       "      <td>5</td>\n",
       "      <td>RO</td>\n",
       "      <td>2018-11-17 01:22:27.974986+00:00</td>\n",
       "      <td>2018-11-17 01:23:18.119645+00:00</td>\n",
       "      <td>6</td>\n",
       "      <td>0</td>\n",
       "      <td>...</td>\n",
       "      <td>0</td>\n",
       "      <td>0</td>\n",
       "      <td>0</td>\n",
       "      <td>0</td>\n",
       "      <td>0</td>\n",
       "      <td>0</td>\n",
       "      <td>0</td>\n",
       "      <td>0</td>\n",
       "      <td>0</td>\n",
       "      <td>0</td>\n",
       "    </tr>\n",
       "    <tr>\n",
       "      <th>2</th>\n",
       "      <td>26</td>\n",
       "      <td>25</td>\n",
       "      <td>female</td>\n",
       "      <td>United States</td>\n",
       "      <td>5</td>\n",
       "      <td>RO</td>\n",
       "      <td>2018-11-17 01:32:38.782377+00:00</td>\n",
       "      <td>2018-11-17 01:36:05.459238+00:00</td>\n",
       "      <td>7</td>\n",
       "      <td>0</td>\n",
       "      <td>...</td>\n",
       "      <td>0</td>\n",
       "      <td>2</td>\n",
       "      <td>0</td>\n",
       "      <td>3</td>\n",
       "      <td>0</td>\n",
       "      <td>1</td>\n",
       "      <td>0</td>\n",
       "      <td>4</td>\n",
       "      <td>0</td>\n",
       "      <td>1</td>\n",
       "    </tr>\n",
       "    <tr>\n",
       "      <th>3</th>\n",
       "      <td>27</td>\n",
       "      <td>32</td>\n",
       "      <td>male</td>\n",
       "      <td>Kenya</td>\n",
       "      <td>4</td>\n",
       "      <td>ROXO</td>\n",
       "      <td>2018-11-17 01:46:18.703943+00:00</td>\n",
       "      <td>2018-11-17 01:46:18.917251+00:00</td>\n",
       "      <td>2</td>\n",
       "      <td>0</td>\n",
       "      <td>...</td>\n",
       "      <td>0</td>\n",
       "      <td>0</td>\n",
       "      <td>0</td>\n",
       "      <td>0</td>\n",
       "      <td>0</td>\n",
       "      <td>0</td>\n",
       "      <td>0</td>\n",
       "      <td>0</td>\n",
       "      <td>0</td>\n",
       "      <td>0</td>\n",
       "    </tr>\n",
       "    <tr>\n",
       "      <th>4</th>\n",
       "      <td>28</td>\n",
       "      <td>28</td>\n",
       "      <td>female</td>\n",
       "      <td>United States</td>\n",
       "      <td>4</td>\n",
       "      <td>ROXO</td>\n",
       "      <td>2018-11-17 01:47:34.454053+00:00</td>\n",
       "      <td>2018-11-17 01:53:51.607042+00:00</td>\n",
       "      <td>6</td>\n",
       "      <td>0</td>\n",
       "      <td>...</td>\n",
       "      <td>5</td>\n",
       "      <td>0</td>\n",
       "      <td>3</td>\n",
       "      <td>0</td>\n",
       "      <td>1</td>\n",
       "      <td>0</td>\n",
       "      <td>4</td>\n",
       "      <td>0</td>\n",
       "      <td>2</td>\n",
       "      <td>0</td>\n",
       "    </tr>\n",
       "  </tbody>\n",
       "</table>\n",
       "<p>5 rows × 55 columns</p>\n",
       "</div>"
      ],
      "text/plain": [
       "   respondent_id  age  gender       location  education group  \\\n",
       "0             24   26  female  United States          5   ROO   \n",
       "1             25   25    male  United States          5    RO   \n",
       "2             26   25  female  United States          5    RO   \n",
       "3             27   32    male          Kenya          4  ROXO   \n",
       "4             28   28  female  United States          4  ROXO   \n",
       "\n",
       "                           enrolled                       last_update  level  \\\n",
       "0  2018-11-17 01:18:38.708246+00:00  2018-11-17 01:21:51.608501+00:00      7   \n",
       "1  2018-11-17 01:22:27.974986+00:00  2018-11-17 01:23:18.119645+00:00      6   \n",
       "2  2018-11-17 01:32:38.782377+00:00  2018-11-17 01:36:05.459238+00:00      7   \n",
       "3  2018-11-17 01:46:18.703943+00:00  2018-11-17 01:46:18.917251+00:00      2   \n",
       "4  2018-11-17 01:47:34.454053+00:00  2018-11-17 01:53:51.607042+00:00      6   \n",
       "\n",
       "   number_check     ...       pre_determined  post_determined  pre_attentive  \\\n",
       "0             0     ...                    4                4              4   \n",
       "1             0     ...                    0                0              0   \n",
       "2             0     ...                    0                2              0   \n",
       "3             0     ...                    0                0              0   \n",
       "4             0     ...                    5                0              3   \n",
       "\n",
       "   post_attentive  pre_jittery  post_jittery  pre_active  post_active  \\\n",
       "0               3            2             0           3            2   \n",
       "1               0            0             0           0            0   \n",
       "2               3            0             1           0            4   \n",
       "3               0            0             0           0            0   \n",
       "4               0            1             0           4            0   \n",
       "\n",
       "   pre_afraid  post_afraid  \n",
       "0           2            2  \n",
       "1           0            0  \n",
       "2           0            1  \n",
       "3           0            0  \n",
       "4           2            0  \n",
       "\n",
       "[5 rows x 55 columns]"
      ]
     },
     "execution_count": 58,
     "metadata": {},
     "output_type": "execute_result"
    }
   ],
   "source": [
    "df.head()"
   ]
  },
  {
   "cell_type": "code",
   "execution_count": null,
   "metadata": {},
   "outputs": [],
   "source": []
  },
  {
   "cell_type": "code",
   "execution_count": null,
   "metadata": {},
   "outputs": [],
   "source": []
  },
  {
   "cell_type": "code",
   "execution_count": 59,
   "metadata": {},
   "outputs": [],
   "source": [
    "## Looking into Attrition"
   ]
  },
  {
   "cell_type": "code",
   "execution_count": 60,
   "metadata": {},
   "outputs": [],
   "source": [
    "df_ROXO = df[(df.group.isin(['ROXO']))]"
   ]
  },
  {
   "cell_type": "code",
   "execution_count": 61,
   "metadata": {},
   "outputs": [
    {
     "data": {
      "text/html": [
       "<div>\n",
       "<style scoped>\n",
       "    .dataframe tbody tr th:only-of-type {\n",
       "        vertical-align: middle;\n",
       "    }\n",
       "\n",
       "    .dataframe tbody tr th {\n",
       "        vertical-align: top;\n",
       "    }\n",
       "\n",
       "    .dataframe thead th {\n",
       "        text-align: right;\n",
       "    }\n",
       "</style>\n",
       "<table border=\"1\" class=\"dataframe\">\n",
       "  <thead>\n",
       "    <tr style=\"text-align: right;\">\n",
       "      <th></th>\n",
       "      <th>respondent_id</th>\n",
       "      <th>age</th>\n",
       "      <th>location</th>\n",
       "      <th>education</th>\n",
       "      <th>group</th>\n",
       "      <th>enrolled</th>\n",
       "      <th>last_update</th>\n",
       "      <th>level</th>\n",
       "      <th>number_check</th>\n",
       "      <th>time_spent_in_treatment_or_control</th>\n",
       "      <th>...</th>\n",
       "      <th>pre_determined</th>\n",
       "      <th>post_determined</th>\n",
       "      <th>pre_attentive</th>\n",
       "      <th>post_attentive</th>\n",
       "      <th>pre_jittery</th>\n",
       "      <th>post_jittery</th>\n",
       "      <th>pre_active</th>\n",
       "      <th>post_active</th>\n",
       "      <th>pre_afraid</th>\n",
       "      <th>post_afraid</th>\n",
       "    </tr>\n",
       "    <tr>\n",
       "      <th>gender</th>\n",
       "      <th></th>\n",
       "      <th></th>\n",
       "      <th></th>\n",
       "      <th></th>\n",
       "      <th></th>\n",
       "      <th></th>\n",
       "      <th></th>\n",
       "      <th></th>\n",
       "      <th></th>\n",
       "      <th></th>\n",
       "      <th></th>\n",
       "      <th></th>\n",
       "      <th></th>\n",
       "      <th></th>\n",
       "      <th></th>\n",
       "      <th></th>\n",
       "      <th></th>\n",
       "      <th></th>\n",
       "      <th></th>\n",
       "      <th></th>\n",
       "      <th></th>\n",
       "    </tr>\n",
       "  </thead>\n",
       "  <tbody>\n",
       "    <tr>\n",
       "      <th>female</th>\n",
       "      <td>33</td>\n",
       "      <td>33</td>\n",
       "      <td>33</td>\n",
       "      <td>33</td>\n",
       "      <td>33</td>\n",
       "      <td>33</td>\n",
       "      <td>33</td>\n",
       "      <td>33</td>\n",
       "      <td>33</td>\n",
       "      <td>33</td>\n",
       "      <td>...</td>\n",
       "      <td>33</td>\n",
       "      <td>33</td>\n",
       "      <td>33</td>\n",
       "      <td>33</td>\n",
       "      <td>33</td>\n",
       "      <td>33</td>\n",
       "      <td>33</td>\n",
       "      <td>33</td>\n",
       "      <td>33</td>\n",
       "      <td>33</td>\n",
       "    </tr>\n",
       "    <tr>\n",
       "      <th>male</th>\n",
       "      <td>48</td>\n",
       "      <td>48</td>\n",
       "      <td>48</td>\n",
       "      <td>48</td>\n",
       "      <td>48</td>\n",
       "      <td>48</td>\n",
       "      <td>48</td>\n",
       "      <td>48</td>\n",
       "      <td>48</td>\n",
       "      <td>48</td>\n",
       "      <td>...</td>\n",
       "      <td>48</td>\n",
       "      <td>48</td>\n",
       "      <td>48</td>\n",
       "      <td>48</td>\n",
       "      <td>48</td>\n",
       "      <td>48</td>\n",
       "      <td>48</td>\n",
       "      <td>48</td>\n",
       "      <td>48</td>\n",
       "      <td>48</td>\n",
       "    </tr>\n",
       "  </tbody>\n",
       "</table>\n",
       "<p>2 rows × 54 columns</p>\n",
       "</div>"
      ],
      "text/plain": [
       "        respondent_id  age  location  education  group  enrolled  last_update  \\\n",
       "gender                                                                          \n",
       "female             33   33        33         33     33        33           33   \n",
       "male               48   48        48         48     48        48           48   \n",
       "\n",
       "        level  number_check  time_spent_in_treatment_or_control     ...       \\\n",
       "gender                                                              ...        \n",
       "female     33            33                                  33     ...        \n",
       "male       48            48                                  48     ...        \n",
       "\n",
       "        pre_determined  post_determined  pre_attentive  post_attentive  \\\n",
       "gender                                                                   \n",
       "female              33               33             33              33   \n",
       "male                48               48             48              48   \n",
       "\n",
       "        pre_jittery  post_jittery  pre_active  post_active  pre_afraid  \\\n",
       "gender                                                                   \n",
       "female           33            33          33           33          33   \n",
       "male             48            48          48           48          48   \n",
       "\n",
       "        post_afraid  \n",
       "gender               \n",
       "female           33  \n",
       "male             48  \n",
       "\n",
       "[2 rows x 54 columns]"
      ]
     },
     "execution_count": 61,
     "metadata": {},
     "output_type": "execute_result"
    }
   ],
   "source": [
    "df_ROXO.groupby('gender').count()"
   ]
  },
  {
   "cell_type": "code",
   "execution_count": 62,
   "metadata": {},
   "outputs": [],
   "source": [
    "df_ROXO_v1 = df[((df.group.isin(['ROXO'])) & (df.level == 7))]"
   ]
  },
  {
   "cell_type": "code",
   "execution_count": 63,
   "metadata": {},
   "outputs": [
    {
     "data": {
      "text/html": [
       "<div>\n",
       "<style scoped>\n",
       "    .dataframe tbody tr th:only-of-type {\n",
       "        vertical-align: middle;\n",
       "    }\n",
       "\n",
       "    .dataframe tbody tr th {\n",
       "        vertical-align: top;\n",
       "    }\n",
       "\n",
       "    .dataframe thead th {\n",
       "        text-align: right;\n",
       "    }\n",
       "</style>\n",
       "<table border=\"1\" class=\"dataframe\">\n",
       "  <thead>\n",
       "    <tr style=\"text-align: right;\">\n",
       "      <th></th>\n",
       "      <th>respondent_id</th>\n",
       "      <th>age</th>\n",
       "      <th>location</th>\n",
       "      <th>education</th>\n",
       "      <th>group</th>\n",
       "      <th>enrolled</th>\n",
       "      <th>last_update</th>\n",
       "      <th>level</th>\n",
       "      <th>number_check</th>\n",
       "      <th>time_spent_in_treatment_or_control</th>\n",
       "      <th>...</th>\n",
       "      <th>pre_determined</th>\n",
       "      <th>post_determined</th>\n",
       "      <th>pre_attentive</th>\n",
       "      <th>post_attentive</th>\n",
       "      <th>pre_jittery</th>\n",
       "      <th>post_jittery</th>\n",
       "      <th>pre_active</th>\n",
       "      <th>post_active</th>\n",
       "      <th>pre_afraid</th>\n",
       "      <th>post_afraid</th>\n",
       "    </tr>\n",
       "    <tr>\n",
       "      <th>gender</th>\n",
       "      <th></th>\n",
       "      <th></th>\n",
       "      <th></th>\n",
       "      <th></th>\n",
       "      <th></th>\n",
       "      <th></th>\n",
       "      <th></th>\n",
       "      <th></th>\n",
       "      <th></th>\n",
       "      <th></th>\n",
       "      <th></th>\n",
       "      <th></th>\n",
       "      <th></th>\n",
       "      <th></th>\n",
       "      <th></th>\n",
       "      <th></th>\n",
       "      <th></th>\n",
       "      <th></th>\n",
       "      <th></th>\n",
       "      <th></th>\n",
       "      <th></th>\n",
       "    </tr>\n",
       "  </thead>\n",
       "  <tbody>\n",
       "    <tr>\n",
       "      <th>female</th>\n",
       "      <td>16</td>\n",
       "      <td>16</td>\n",
       "      <td>16</td>\n",
       "      <td>16</td>\n",
       "      <td>16</td>\n",
       "      <td>16</td>\n",
       "      <td>16</td>\n",
       "      <td>16</td>\n",
       "      <td>16</td>\n",
       "      <td>16</td>\n",
       "      <td>...</td>\n",
       "      <td>16</td>\n",
       "      <td>16</td>\n",
       "      <td>16</td>\n",
       "      <td>16</td>\n",
       "      <td>16</td>\n",
       "      <td>16</td>\n",
       "      <td>16</td>\n",
       "      <td>16</td>\n",
       "      <td>16</td>\n",
       "      <td>16</td>\n",
       "    </tr>\n",
       "    <tr>\n",
       "      <th>male</th>\n",
       "      <td>30</td>\n",
       "      <td>30</td>\n",
       "      <td>30</td>\n",
       "      <td>30</td>\n",
       "      <td>30</td>\n",
       "      <td>30</td>\n",
       "      <td>30</td>\n",
       "      <td>30</td>\n",
       "      <td>30</td>\n",
       "      <td>30</td>\n",
       "      <td>...</td>\n",
       "      <td>30</td>\n",
       "      <td>30</td>\n",
       "      <td>30</td>\n",
       "      <td>30</td>\n",
       "      <td>30</td>\n",
       "      <td>30</td>\n",
       "      <td>30</td>\n",
       "      <td>30</td>\n",
       "      <td>30</td>\n",
       "      <td>30</td>\n",
       "    </tr>\n",
       "  </tbody>\n",
       "</table>\n",
       "<p>2 rows × 54 columns</p>\n",
       "</div>"
      ],
      "text/plain": [
       "        respondent_id  age  location  education  group  enrolled  last_update  \\\n",
       "gender                                                                          \n",
       "female             16   16        16         16     16        16           16   \n",
       "male               30   30        30         30     30        30           30   \n",
       "\n",
       "        level  number_check  time_spent_in_treatment_or_control     ...       \\\n",
       "gender                                                              ...        \n",
       "female     16            16                                  16     ...        \n",
       "male       30            30                                  30     ...        \n",
       "\n",
       "        pre_determined  post_determined  pre_attentive  post_attentive  \\\n",
       "gender                                                                   \n",
       "female              16               16             16              16   \n",
       "male                30               30             30              30   \n",
       "\n",
       "        pre_jittery  post_jittery  pre_active  post_active  pre_afraid  \\\n",
       "gender                                                                   \n",
       "female           16            16          16           16          16   \n",
       "male             30            30          30           30          30   \n",
       "\n",
       "        post_afraid  \n",
       "gender               \n",
       "female           16  \n",
       "male             30  \n",
       "\n",
       "[2 rows x 54 columns]"
      ]
     },
     "execution_count": 63,
     "metadata": {},
     "output_type": "execute_result"
    }
   ],
   "source": [
    "df_ROXO_v1.groupby('gender').count()"
   ]
  },
  {
   "cell_type": "code",
   "execution_count": null,
   "metadata": {},
   "outputs": [],
   "source": []
  },
  {
   "cell_type": "code",
   "execution_count": null,
   "metadata": {},
   "outputs": [],
   "source": []
  },
  {
   "cell_type": "code",
   "execution_count": null,
   "metadata": {},
   "outputs": [],
   "source": []
  },
  {
   "cell_type": "markdown",
   "metadata": {},
   "source": [
    "# Data Cleaning"
   ]
  },
  {
   "cell_type": "code",
   "execution_count": 64,
   "metadata": {},
   "outputs": [],
   "source": [
    "## Remove age 99, 1"
   ]
  },
  {
   "cell_type": "code",
   "execution_count": 65,
   "metadata": {},
   "outputs": [],
   "source": [
    "df = df[df.age != 99]\n",
    "df = df[df.age != 1]"
   ]
  },
  {
   "cell_type": "code",
   "execution_count": 66,
   "metadata": {},
   "outputs": [],
   "source": [
    "## Change -26 age value to 26. The person completed the survey might be a mistake in entry."
   ]
  },
  {
   "cell_type": "code",
   "execution_count": 67,
   "metadata": {},
   "outputs": [],
   "source": [
    "df['age'] = np.where(df['age']== -26, 26, df['age'])"
   ]
  },
  {
   "cell_type": "code",
   "execution_count": null,
   "metadata": {},
   "outputs": [],
   "source": []
  },
  {
   "cell_type": "markdown",
   "metadata": {},
   "source": [
    "Notes:\n",
    "* 1. Remove people assigned to treatment but did not get the correct number check and who do not get to level 7\n",
    "* 2. Remove people in the control group who did not get to level 7"
   ]
  },
  {
   "cell_type": "code",
   "execution_count": null,
   "metadata": {},
   "outputs": [],
   "source": []
  },
  {
   "cell_type": "markdown",
   "metadata": {},
   "source": [
    "### 1"
   ]
  },
  {
   "cell_type": "code",
   "execution_count": 68,
   "metadata": {},
   "outputs": [],
   "source": [
    "df_ROXO = df[((df.group.isin(['ROXO'])) & (df.level == 7))]"
   ]
  },
  {
   "cell_type": "code",
   "execution_count": 69,
   "metadata": {},
   "outputs": [],
   "source": [
    "df_RXO = df[((df.group.isin(['RXO'])) &  (df.level == 7))]"
   ]
  },
  {
   "cell_type": "code",
   "execution_count": null,
   "metadata": {},
   "outputs": [],
   "source": []
  },
  {
   "cell_type": "markdown",
   "metadata": {},
   "source": [
    "### 2."
   ]
  },
  {
   "cell_type": "code",
   "execution_count": 70,
   "metadata": {},
   "outputs": [],
   "source": [
    "df_ROO =  df[((df.group.isin(['ROO'])) & (df.level == 7) ) ]"
   ]
  },
  {
   "cell_type": "code",
   "execution_count": 71,
   "metadata": {},
   "outputs": [],
   "source": [
    "df_RO = df[((df.group.isin(['RO'])) & (df.level == 7) ) ]"
   ]
  },
  {
   "cell_type": "code",
   "execution_count": null,
   "metadata": {},
   "outputs": [],
   "source": []
  },
  {
   "cell_type": "code",
   "execution_count": null,
   "metadata": {},
   "outputs": [],
   "source": []
  },
  {
   "cell_type": "code",
   "execution_count": 72,
   "metadata": {},
   "outputs": [],
   "source": [
    "## Calculating Treatment effect, y"
   ]
  },
  {
   "cell_type": "code",
   "execution_count": 73,
   "metadata": {
    "scrolled": true
   },
   "outputs": [
    {
     "name": "stderr",
     "output_type": "stream",
     "text": [
      "/Library/Frameworks/Python.framework/Versions/3.6/lib/python3.6/site-packages/ipykernel_launcher.py:1: SettingWithCopyWarning: \n",
      "A value is trying to be set on a copy of a slice from a DataFrame.\n",
      "Try using .loc[row_indexer,col_indexer] = value instead\n",
      "\n",
      "See the caveats in the documentation: http://pandas.pydata.org/pandas-docs/stable/indexing.html#indexing-view-versus-copy\n",
      "  \"\"\"Entry point for launching an IPython kernel.\n",
      "/Library/Frameworks/Python.framework/Versions/3.6/lib/python3.6/site-packages/ipykernel_launcher.py:2: SettingWithCopyWarning: \n",
      "A value is trying to be set on a copy of a slice from a DataFrame.\n",
      "Try using .loc[row_indexer,col_indexer] = value instead\n",
      "\n",
      "See the caveats in the documentation: http://pandas.pydata.org/pandas-docs/stable/indexing.html#indexing-view-versus-copy\n",
      "  \n",
      "/Library/Frameworks/Python.framework/Versions/3.6/lib/python3.6/site-packages/ipykernel_launcher.py:3: SettingWithCopyWarning: \n",
      "A value is trying to be set on a copy of a slice from a DataFrame.\n",
      "Try using .loc[row_indexer,col_indexer] = value instead\n",
      "\n",
      "See the caveats in the documentation: http://pandas.pydata.org/pandas-docs/stable/indexing.html#indexing-view-versus-copy\n",
      "  This is separate from the ipykernel package so we can avoid doing imports until\n",
      "/Library/Frameworks/Python.framework/Versions/3.6/lib/python3.6/site-packages/ipykernel_launcher.py:4: SettingWithCopyWarning: \n",
      "A value is trying to be set on a copy of a slice from a DataFrame.\n",
      "Try using .loc[row_indexer,col_indexer] = value instead\n",
      "\n",
      "See the caveats in the documentation: http://pandas.pydata.org/pandas-docs/stable/indexing.html#indexing-view-versus-copy\n",
      "  after removing the cwd from sys.path.\n",
      "/Library/Frameworks/Python.framework/Versions/3.6/lib/python3.6/site-packages/ipykernel_launcher.py:6: SettingWithCopyWarning: \n",
      "A value is trying to be set on a copy of a slice from a DataFrame.\n",
      "Try using .loc[row_indexer,col_indexer] = value instead\n",
      "\n",
      "See the caveats in the documentation: http://pandas.pydata.org/pandas-docs/stable/indexing.html#indexing-view-versus-copy\n",
      "  \n",
      "/Library/Frameworks/Python.framework/Versions/3.6/lib/python3.6/site-packages/ipykernel_launcher.py:7: SettingWithCopyWarning: \n",
      "A value is trying to be set on a copy of a slice from a DataFrame.\n",
      "Try using .loc[row_indexer,col_indexer] = value instead\n",
      "\n",
      "See the caveats in the documentation: http://pandas.pydata.org/pandas-docs/stable/indexing.html#indexing-view-versus-copy\n",
      "  import sys\n",
      "/Library/Frameworks/Python.framework/Versions/3.6/lib/python3.6/site-packages/ipykernel_launcher.py:8: SettingWithCopyWarning: \n",
      "A value is trying to be set on a copy of a slice from a DataFrame.\n",
      "Try using .loc[row_indexer,col_indexer] = value instead\n",
      "\n",
      "See the caveats in the documentation: http://pandas.pydata.org/pandas-docs/stable/indexing.html#indexing-view-versus-copy\n",
      "  \n",
      "/Library/Frameworks/Python.framework/Versions/3.6/lib/python3.6/site-packages/ipykernel_launcher.py:9: SettingWithCopyWarning: \n",
      "A value is trying to be set on a copy of a slice from a DataFrame.\n",
      "Try using .loc[row_indexer,col_indexer] = value instead\n",
      "\n",
      "See the caveats in the documentation: http://pandas.pydata.org/pandas-docs/stable/indexing.html#indexing-view-versus-copy\n",
      "  if __name__ == '__main__':\n",
      "/Library/Frameworks/Python.framework/Versions/3.6/lib/python3.6/site-packages/ipykernel_launcher.py:12: SettingWithCopyWarning: \n",
      "A value is trying to be set on a copy of a slice from a DataFrame.\n",
      "Try using .loc[row_indexer,col_indexer] = value instead\n",
      "\n",
      "See the caveats in the documentation: http://pandas.pydata.org/pandas-docs/stable/indexing.html#indexing-view-versus-copy\n",
      "  if sys.path[0] == '':\n",
      "/Library/Frameworks/Python.framework/Versions/3.6/lib/python3.6/site-packages/ipykernel_launcher.py:13: SettingWithCopyWarning: \n",
      "A value is trying to be set on a copy of a slice from a DataFrame.\n",
      "Try using .loc[row_indexer,col_indexer] = value instead\n",
      "\n",
      "See the caveats in the documentation: http://pandas.pydata.org/pandas-docs/stable/indexing.html#indexing-view-versus-copy\n",
      "  del sys.path[0]\n",
      "/Library/Frameworks/Python.framework/Versions/3.6/lib/python3.6/site-packages/ipykernel_launcher.py:14: SettingWithCopyWarning: \n",
      "A value is trying to be set on a copy of a slice from a DataFrame.\n",
      "Try using .loc[row_indexer,col_indexer] = value instead\n",
      "\n",
      "See the caveats in the documentation: http://pandas.pydata.org/pandas-docs/stable/indexing.html#indexing-view-versus-copy\n",
      "  \n",
      "/Library/Frameworks/Python.framework/Versions/3.6/lib/python3.6/site-packages/ipykernel_launcher.py:15: SettingWithCopyWarning: \n",
      "A value is trying to be set on a copy of a slice from a DataFrame.\n",
      "Try using .loc[row_indexer,col_indexer] = value instead\n",
      "\n",
      "See the caveats in the documentation: http://pandas.pydata.org/pandas-docs/stable/indexing.html#indexing-view-versus-copy\n",
      "  from ipykernel import kernelapp as app\n"
     ]
    }
   ],
   "source": [
    "df_ROXO['y_positive'] = df_ROXO['post_positive_affect'] -  df_ROXO['pre_positive_affect']\n",
    "df_RXO['y_positive'] = df_RXO['post_positive_affect'] -  df_RXO['pre_positive_affect']\n",
    "df_ROO['y_positive'] = df_ROO['post_positive_affect'] -  df_ROO['pre_positive_affect']\n",
    "df_RO['y_positive'] = df_RO['post_positive_affect'] -  df_RO['pre_positive_affect']\n",
    "\n",
    "df_ROXO['y_negative'] = df_ROXO['post_negative_affect'] -  df_ROXO['pre_negative_affect']\n",
    "df_RXO['y_negative'] = df_RXO['post_negative_affect'] -  df_RXO['pre_negative_affect']\n",
    "df_ROO['y_negative'] = df_ROO['post_negative_affect'] -  df_ROO['pre_negative_affect']\n",
    "df_RO['y_negative'] = df_RO['post_negative_affect'] -  df_RO['pre_negative_affect']\n",
    "\n",
    "\n",
    "df_ROXO['y_net'] = df_ROXO['y_positive'] -  df_ROXO['y_negative']\n",
    "df_RXO['y_net'] = df_RXO['y_positive'] -  df_RXO['y_negative']\n",
    "df_ROO['y_net'] = df_ROO['y_positive'] -  df_ROO['y_negative']\n",
    "df_RO['y_net'] = df_RO['y_positive'] -  df_RO['y_negative']\n"
   ]
  },
  {
   "cell_type": "code",
   "execution_count": null,
   "metadata": {},
   "outputs": [],
   "source": []
  },
  {
   "cell_type": "code",
   "execution_count": null,
   "metadata": {},
   "outputs": [],
   "source": []
  },
  {
   "cell_type": "code",
   "execution_count": 74,
   "metadata": {},
   "outputs": [],
   "source": [
    "## Recombining all the dataframes\n",
    "df_clean = pd.concat([df_RO, df_ROO, df_ROXO, df_RXO])"
   ]
  },
  {
   "cell_type": "code",
   "execution_count": null,
   "metadata": {},
   "outputs": [],
   "source": []
  },
  {
   "cell_type": "markdown",
   "metadata": {},
   "source": [
    "# Analysis"
   ]
  },
  {
   "cell_type": "code",
   "execution_count": 75,
   "metadata": {},
   "outputs": [
    {
     "data": {
      "text/plain": [
       "group\n",
       "RO      13.043478\n",
       "ROO      2.771930\n",
       "ROXO    -4.413043\n",
       "RXO      1.250000\n",
       "Name: y_net, dtype: float64"
      ]
     },
     "execution_count": 75,
     "metadata": {},
     "output_type": "execute_result"
    }
   ],
   "source": [
    "df_clean.groupby('group')['y_net'].mean()"
   ]
  },
  {
   "cell_type": "code",
   "execution_count": null,
   "metadata": {},
   "outputs": [],
   "source": []
  },
  {
   "cell_type": "code",
   "execution_count": 76,
   "metadata": {},
   "outputs": [],
   "source": [
    "## Attempting to normalize the distributions to have a better t test analysis"
   ]
  },
  {
   "cell_type": "code",
   "execution_count": 77,
   "metadata": {},
   "outputs": [
    {
     "data": {
      "text/plain": [
       "(array([4., 2., 3., 2., 1., 2., 0., 4., 3., 2.]),\n",
       " array([-2. ,  1.2,  4.4,  7.6, 10.8, 14. , 17.2, 20.4, 23.6, 26.8, 30. ]),\n",
       " <a list of 10 Patch objects>)"
      ]
     },
     "execution_count": 77,
     "metadata": {},
     "output_type": "execute_result"
    },
    {
     "data": {
      "image/png": "[encoded data removed]",
      "text/plain": [
       "<Figure size 432x288 with 1 Axes>"
      ]
     },
     "metadata": {
      "needs_background": "light"
     },
     "output_type": "display_data"
    }
   ],
   "source": [
    "plt.hist(df_RO.y_net)"
   ]
  },
  {
   "cell_type": "code",
   "execution_count": 78,
   "metadata": {},
   "outputs": [
    {
     "data": {
      "text/plain": [
       "(array([21.,  0.,  0.,  1.,  0.,  0.,  0.,  0.,  0.,  1.]),\n",
       " array([1.35335283e-01, 1.06864746e+12, 2.13729492e+12, 3.20594237e+12,\n",
       "        4.27458983e+12, 5.34323729e+12, 6.41188475e+12, 7.48053221e+12,\n",
       "        8.54917967e+12, 9.61782712e+12, 1.06864746e+13]),\n",
       " <a list of 10 Patch objects>)"
      ]
     },
     "execution_count": 78,
     "metadata": {},
     "output_type": "execute_result"
    },
    {
     "data": {
      "image/png": "[encoded data removed]",
      "text/plain": [
       "<Figure size 432x288 with 1 Axes>"
      ]
     },
     "metadata": {
      "needs_background": "light"
     },
     "output_type": "display_data"
    }
   ],
   "source": [
    "ro_normal = df_RO.y_net.apply(lambda x: np.exp(x))\n",
    "ro_normal.replace([np.inf, -np.inf], np.nan, inplace=True)\n",
    "ro_normal.dropna(inplace=True)\n",
    "\n",
    "plt.hist(ro_normal)"
   ]
  },
  {
   "cell_type": "code",
   "execution_count": null,
   "metadata": {},
   "outputs": [],
   "source": []
  },
  {
   "cell_type": "code",
   "execution_count": null,
   "metadata": {},
   "outputs": [],
   "source": []
  },
  {
   "cell_type": "code",
   "execution_count": 79,
   "metadata": {},
   "outputs": [],
   "source": [
    "## T Test to look into the different groups and determine if we can collapse them"
   ]
  },
  {
   "cell_type": "code",
   "execution_count": 80,
   "metadata": {},
   "outputs": [],
   "source": [
    "## Control groups"
   ]
  },
  {
   "cell_type": "code",
   "execution_count": 81,
   "metadata": {},
   "outputs": [
    {
     "data": {
      "text/plain": [
       "Ttest_indResult(statistic=-0.5455336409750448, pvalue=0.5889985200914156)"
      ]
     },
     "execution_count": 81,
     "metadata": {},
     "output_type": "execute_result"
    }
   ],
   "source": [
    "## We reject the Ho, means are not equal\n",
    "import scipy\n",
    "scipy.stats.ttest_ind(df_RO.post_positive_affect, df_ROO.post_positive_affect, equal_var=False)"
   ]
  },
  {
   "cell_type": "code",
   "execution_count": 82,
   "metadata": {},
   "outputs": [
    {
     "data": {
      "text/plain": [
       "Ttest_indResult(statistic=-0.2406628328487015, pvalue=0.8106365737048619)"
      ]
     },
     "execution_count": 82,
     "metadata": {},
     "output_type": "execute_result"
    }
   ],
   "source": [
    "scipy.stats.ttest_ind(df_RO.post_negative_affect, df_ROO.post_negative_affect, equal_var=False)"
   ]
  },
  {
   "cell_type": "code",
   "execution_count": 83,
   "metadata": {},
   "outputs": [],
   "source": [
    "## Treatment groups"
   ]
  },
  {
   "cell_type": "code",
   "execution_count": 84,
   "metadata": {},
   "outputs": [
    {
     "data": {
      "text/plain": [
       "Ttest_indResult(statistic=0.7942903552190325, pvalue=0.433938438092911)"
      ]
     },
     "execution_count": 84,
     "metadata": {},
     "output_type": "execute_result"
    }
   ],
   "source": [
    "## We cannot reject the Ho, so we can assume the means are equal\n",
    "scipy.stats.ttest_ind(df_ROXO.post_positive_affect, df_RXO.post_positive_affect, equal_var=False)"
   ]
  },
  {
   "cell_type": "code",
   "execution_count": 85,
   "metadata": {},
   "outputs": [
    {
     "data": {
      "text/plain": [
       "Ttest_indResult(statistic=-1.9445042646773587, pvalue=0.06507728109941102)"
      ]
     },
     "execution_count": 85,
     "metadata": {},
     "output_type": "execute_result"
    }
   ],
   "source": [
    "scipy.stats.ttest_ind(df_ROXO.post_negative_affect, df_RXO.post_negative_affect, equal_var=False)"
   ]
  },
  {
   "cell_type": "code",
   "execution_count": null,
   "metadata": {},
   "outputs": [],
   "source": []
  },
  {
   "cell_type": "code",
   "execution_count": 86,
   "metadata": {},
   "outputs": [
    {
     "data": {
      "text/html": [
       "<table class=\"simpletable\">\n",
       "<tr>\n",
       "        <td></td>           <th>coef</th>     <th>std err</th>      <th>z</th>      <th>P>|z|</th>  <th>[0.025</th>    <th>0.975]</th>  \n",
       "</tr>\n",
       "<tr>\n",
       "  <th>Intercept</th>     <td>   13.0435</td> <td>    2.279</td> <td>    5.724</td> <td> 0.000</td> <td>    8.577</td> <td>   17.509</td>\n",
       "</tr>\n",
       "<tr>\n",
       "  <th>group[T.ROO]</th>  <td>  -10.2715</td> <td>    2.445</td> <td>   -4.200</td> <td> 0.000</td> <td>  -15.065</td> <td>   -5.479</td>\n",
       "</tr>\n",
       "<tr>\n",
       "  <th>group[T.ROXO]</th> <td>  -17.4565</td> <td>    2.601</td> <td>   -6.712</td> <td> 0.000</td> <td>  -22.554</td> <td>  -12.359</td>\n",
       "</tr>\n",
       "<tr>\n",
       "  <th>group[T.RXO]</th>  <td>  -11.7935</td> <td>    4.710</td> <td>   -2.504</td> <td> 0.012</td> <td>  -21.025</td> <td>   -2.562</td>\n",
       "</tr>\n",
       "</table>"
      ],
      "text/plain": [
       "<class 'statsmodels.iolib.table.SimpleTable'>"
      ]
     },
     "execution_count": 86,
     "metadata": {},
     "output_type": "execute_result"
    }
   ],
   "source": [
    "a = smf.ols('y_net ~   group ', data= df_clean).fit(cov_type='HC3')\n",
    "a.summary().tables[1]"
   ]
  },
  {
   "cell_type": "code",
   "execution_count": 87,
   "metadata": {},
   "outputs": [
    {
     "data": {
      "text/html": [
       "<table class=\"simpletable\">\n",
       "<tr>\n",
       "                       <td></td>                         <th>coef</th>     <th>std err</th>      <th>z</th>      <th>P>|z|</th>  <th>[0.025</th>    <th>0.975]</th>  \n",
       "</tr>\n",
       "<tr>\n",
       "  <th>Intercept</th>                                  <td>    9.8304</td> <td>   20.135</td> <td>    0.488</td> <td> 0.625</td> <td>  -29.634</td> <td>   49.295</td>\n",
       "</tr>\n",
       "<tr>\n",
       "  <th>group[T.ROO]</th>                               <td>   -3.2304</td> <td>   20.368</td> <td>   -0.159</td> <td> 0.874</td> <td>  -43.150</td> <td>   36.690</td>\n",
       "</tr>\n",
       "<tr>\n",
       "  <th>group[T.ROXO]</th>                              <td>   -8.3304</td> <td>   20.290</td> <td>   -0.411</td> <td> 0.681</td> <td>  -48.098</td> <td>   31.437</td>\n",
       "</tr>\n",
       "<tr>\n",
       "  <th>group[T.RXO]</th>                               <td>   -8.8304</td> <td>   60.045</td> <td>   -0.147</td> <td> 0.883</td> <td> -126.517</td> <td>  108.856</td>\n",
       "</tr>\n",
       "<tr>\n",
       "  <th>C(location)[T.Kenya]</th>                       <td>    7.4196</td> <td>   20.216</td> <td>    0.367</td> <td> 0.714</td> <td>  -32.204</td> <td>   47.043</td>\n",
       "</tr>\n",
       "<tr>\n",
       "  <th>C(location)[T.United States]</th>               <td>   -1.3758</td> <td>   20.208</td> <td>   -0.068</td> <td> 0.946</td> <td>  -40.983</td> <td>   38.232</td>\n",
       "</tr>\n",
       "<tr>\n",
       "  <th>group[T.ROO]:C(location)[T.Kenya]</th>          <td>  -10.4482</td> <td>   20.504</td> <td>   -0.510</td> <td> 0.610</td> <td>  -50.635</td> <td>   29.739</td>\n",
       "</tr>\n",
       "<tr>\n",
       "  <th>group[T.ROXO]:C(location)[T.Kenya]</th>         <td>  -14.1196</td> <td>   20.511</td> <td>   -0.688</td> <td> 0.491</td> <td>  -54.320</td> <td>   26.081</td>\n",
       "</tr>\n",
       "<tr>\n",
       "  <th>group[T.RXO]:C(location)[T.Kenya]</th>          <td>   11.5804</td> <td>   61.271</td> <td>    0.189</td> <td> 0.850</td> <td> -108.508</td> <td>  131.669</td>\n",
       "</tr>\n",
       "<tr>\n",
       "  <th>group[T.ROO]:C(location)[T.United States]</th>  <td>   -3.6113</td> <td>   20.461</td> <td>   -0.176</td> <td> 0.860</td> <td>  -43.714</td> <td>   36.492</td>\n",
       "</tr>\n",
       "<tr>\n",
       "  <th>group[T.ROXO]:C(location)[T.United States]</th> <td>   -4.5380</td> <td>   20.408</td> <td>   -0.222</td> <td> 0.824</td> <td>  -44.536</td> <td>   35.460</td>\n",
       "</tr>\n",
       "<tr>\n",
       "  <th>group[T.RXO]:C(location)[T.United States]</th>  <td>   -3.0409</td> <td>   60.173</td> <td>   -0.051</td> <td> 0.960</td> <td> -120.978</td> <td>  114.897</td>\n",
       "</tr>\n",
       "</table>"
      ],
      "text/plain": [
       "<class 'statsmodels.iolib.table.SimpleTable'>"
      ]
     },
     "execution_count": 87,
     "metadata": {},
     "output_type": "execute_result"
    }
   ],
   "source": [
    "a = smf.ols('y_net ~ group + C(location) + group*C(location)', data= df_clean).fit(cov_type='HC3')\n",
    "a.summary().tables[1]"
   ]
  },
  {
   "cell_type": "code",
   "execution_count": null,
   "metadata": {},
   "outputs": [],
   "source": []
  },
  {
   "cell_type": "code",
   "execution_count": 88,
   "metadata": {},
   "outputs": [],
   "source": [
    "## Since we are assuming all the means are equal when running t test for only the post survey, we will collapse the post positive and negative\n",
    "## responses and look at the treatment effect"
   ]
  },
  {
   "cell_type": "code",
   "execution_count": null,
   "metadata": {},
   "outputs": [],
   "source": []
  },
  {
   "cell_type": "code",
   "execution_count": 89,
   "metadata": {
    "scrolled": false
   },
   "outputs": [
    {
     "name": "stderr",
     "output_type": "stream",
     "text": [
      "/Library/Frameworks/Python.framework/Versions/3.6/lib/python3.6/site-packages/ipykernel_launcher.py:1: SettingWithCopyWarning: \n",
      "A value is trying to be set on a copy of a slice from a DataFrame.\n",
      "Try using .loc[row_indexer,col_indexer] = value instead\n",
      "\n",
      "See the caveats in the documentation: http://pandas.pydata.org/pandas-docs/stable/indexing.html#indexing-view-versus-copy\n",
      "  \"\"\"Entry point for launching an IPython kernel.\n",
      "/Library/Frameworks/Python.framework/Versions/3.6/lib/python3.6/site-packages/ipykernel_launcher.py:2: SettingWithCopyWarning: \n",
      "A value is trying to be set on a copy of a slice from a DataFrame.\n",
      "Try using .loc[row_indexer,col_indexer] = value instead\n",
      "\n",
      "See the caveats in the documentation: http://pandas.pydata.org/pandas-docs/stable/indexing.html#indexing-view-versus-copy\n",
      "  \n",
      "/Library/Frameworks/Python.framework/Versions/3.6/lib/python3.6/site-packages/ipykernel_launcher.py:7: SettingWithCopyWarning: \n",
      "A value is trying to be set on a copy of a slice from a DataFrame.\n",
      "Try using .loc[row_indexer,col_indexer] = value instead\n",
      "\n",
      "See the caveats in the documentation: http://pandas.pydata.org/pandas-docs/stable/indexing.html#indexing-view-versus-copy\n",
      "  import sys\n",
      "/Library/Frameworks/Python.framework/Versions/3.6/lib/python3.6/site-packages/ipykernel_launcher.py:8: SettingWithCopyWarning: \n",
      "A value is trying to be set on a copy of a slice from a DataFrame.\n",
      "Try using .loc[row_indexer,col_indexer] = value instead\n",
      "\n",
      "See the caveats in the documentation: http://pandas.pydata.org/pandas-docs/stable/indexing.html#indexing-view-versus-copy\n",
      "  \n"
     ]
    }
   ],
   "source": [
    "df_ROXO['y_post'] = df_ROXO['post_positive_affect'] - df_ROXO['post_negative_affect']\n",
    "df_RXO['y_post'] = df_RXO['post_positive_affect'] - df_RXO['post_negative_affect']\n",
    "df_treatment = pd.concat([df_ROXO, df_RXO])\n",
    "df_treatment['assign'] = 't'\n",
    "\n",
    "\n",
    "df_ROO['y_post'] = df_ROO['post_positive_affect'] - df_ROO['post_negative_affect']\n",
    "df_RO['y_post'] = df_RO['post_positive_affect'] - df_RO['post_negative_affect']\n",
    "df_control = pd.concat([df_ROO, df_RO])\n",
    "df_control['assign'] = 'c'"
   ]
  },
  {
   "cell_type": "code",
   "execution_count": 90,
   "metadata": {},
   "outputs": [],
   "source": [
    "## combine treatment and control df to one df\n",
    "df_clean = pd.concat([df_treatment, df_control])"
   ]
  },
  {
   "cell_type": "code",
   "execution_count": null,
   "metadata": {},
   "outputs": [],
   "source": []
  },
  {
   "cell_type": "code",
   "execution_count": 91,
   "metadata": {},
   "outputs": [
    {
     "data": {
      "text/html": [
       "<table class=\"simpletable\">\n",
       "<tr>\n",
       "       <td></td>          <th>coef</th>     <th>std err</th>      <th>z</th>      <th>P>|z|</th>  <th>[0.025</th>    <th>0.975]</th>  \n",
       "</tr>\n",
       "<tr>\n",
       "  <th>Intercept</th>   <td>   13.8250</td> <td>    1.301</td> <td>   10.623</td> <td> 0.000</td> <td>   11.274</td> <td>   16.376</td>\n",
       "</tr>\n",
       "<tr>\n",
       "  <th>assign[T.t]</th> <td>   -6.9218</td> <td>    2.153</td> <td>   -3.215</td> <td> 0.001</td> <td>  -11.141</td> <td>   -2.702</td>\n",
       "</tr>\n",
       "</table>"
      ],
      "text/plain": [
       "<class 'statsmodels.iolib.table.SimpleTable'>"
      ]
     },
     "execution_count": 91,
     "metadata": {},
     "output_type": "execute_result"
    }
   ],
   "source": [
    "a = smf.ols('y_post ~   assign ', data= df_clean).fit(cov_type='HC3')\n",
    "a.summary().tables[1]"
   ]
  },
  {
   "cell_type": "code",
   "execution_count": null,
   "metadata": {},
   "outputs": [],
   "source": []
  },
  {
   "cell_type": "code",
   "execution_count": 92,
   "metadata": {},
   "outputs": [
    {
     "data": {
      "text/html": [
       "<table class=\"simpletable\">\n",
       "<tr>\n",
       "          <td></td>             <th>coef</th>     <th>std err</th>      <th>z</th>      <th>P>|z|</th>  <th>[0.025</th>    <th>0.975]</th>  \n",
       "</tr>\n",
       "<tr>\n",
       "  <th>Intercept</th>         <td>   13.8802</td> <td>    1.522</td> <td>    9.119</td> <td> 0.000</td> <td>   10.897</td> <td>   16.863</td>\n",
       "</tr>\n",
       "<tr>\n",
       "  <th>assign[T.t]</th>       <td>   -6.9037</td> <td>    2.218</td> <td>   -3.112</td> <td> 0.002</td> <td>  -11.251</td> <td>   -2.556</td>\n",
       "</tr>\n",
       "<tr>\n",
       "  <th>C(gender)[T.male]</th> <td>   -0.1262</td> <td>    2.160</td> <td>   -0.058</td> <td> 0.953</td> <td>   -4.360</td> <td>    4.108</td>\n",
       "</tr>\n",
       "</table>"
      ],
      "text/plain": [
       "<class 'statsmodels.iolib.table.SimpleTable'>"
      ]
     },
     "execution_count": 92,
     "metadata": {},
     "output_type": "execute_result"
    }
   ],
   "source": [
    "a = smf.ols('y_post ~   assign + C(gender)', data= df_clean).fit(cov_type='HC3')\n",
    "a.summary().tables[1]"
   ]
  },
  {
   "cell_type": "code",
   "execution_count": null,
   "metadata": {},
   "outputs": [],
   "source": []
  },
  {
   "cell_type": "code",
   "execution_count": 93,
   "metadata": {},
   "outputs": [
    {
     "data": {
      "text/html": [
       "<table class=\"simpletable\">\n",
       "<tr>\n",
       "                <td></td>                  <th>coef</th>     <th>std err</th>      <th>z</th>      <th>P>|z|</th>  <th>[0.025</th>    <th>0.975]</th>  \n",
       "</tr>\n",
       "<tr>\n",
       "  <th>Intercept</th>                    <td>   13.4226</td> <td>    4.913</td> <td>    2.732</td> <td> 0.006</td> <td>    3.794</td> <td>   23.051</td>\n",
       "</tr>\n",
       "<tr>\n",
       "  <th>assign[T.t]</th>                  <td>   -6.0043</td> <td>    2.134</td> <td>   -2.813</td> <td> 0.005</td> <td>  -10.188</td> <td>   -1.821</td>\n",
       "</tr>\n",
       "<tr>\n",
       "  <th>C(gender)[T.male]</th>            <td>    0.8774</td> <td>    2.134</td> <td>    0.411</td> <td> 0.681</td> <td>   -3.305</td> <td>    5.060</td>\n",
       "</tr>\n",
       "<tr>\n",
       "  <th>C(location)[T.Kenya]</th>         <td>    4.5706</td> <td>    5.410</td> <td>    0.845</td> <td> 0.398</td> <td>   -6.034</td> <td>   15.175</td>\n",
       "</tr>\n",
       "<tr>\n",
       "  <th>C(location)[T.United States]</th> <td>   -3.5558</td> <td>    5.392</td> <td>   -0.659</td> <td> 0.510</td> <td>  -14.124</td> <td>    7.012</td>\n",
       "</tr>\n",
       "</table>"
      ],
      "text/plain": [
       "<class 'statsmodels.iolib.table.SimpleTable'>"
      ]
     },
     "execution_count": 93,
     "metadata": {},
     "output_type": "execute_result"
    }
   ],
   "source": [
    "a = smf.ols('y_post ~ assign + C(gender) + C(location)', data= df_clean).fit(cov_type='HC3')\n",
    "a.summary().tables[1]"
   ]
  },
  {
   "cell_type": "code",
   "execution_count": null,
   "metadata": {},
   "outputs": [],
   "source": []
  },
  {
   "cell_type": "code",
   "execution_count": 94,
   "metadata": {},
   "outputs": [
    {
     "data": {
      "text/html": [
       "<table class=\"simpletable\">\n",
       "<tr>\n",
       "                      <td></td>                        <th>coef</th>     <th>std err</th>      <th>z</th>      <th>P>|z|</th>  <th>[0.025</th>    <th>0.975]</th>  \n",
       "</tr>\n",
       "<tr>\n",
       "  <th>Intercept</th>                                <td>   10.8000</td> <td>    4.159</td> <td>    2.597</td> <td> 0.009</td> <td>    2.648</td> <td>   18.952</td>\n",
       "</tr>\n",
       "<tr>\n",
       "  <th>assign[T.t]</th>                              <td>    1.8667</td> <td>   15.475</td> <td>    0.121</td> <td> 0.904</td> <td>  -28.463</td> <td>   32.197</td>\n",
       "</tr>\n",
       "<tr>\n",
       "  <th>C(location)[T.Kenya]</th>                     <td>    8.2303</td> <td>    4.693</td> <td>    1.754</td> <td> 0.079</td> <td>   -0.967</td> <td>   17.427</td>\n",
       "</tr>\n",
       "<tr>\n",
       "  <th>C(location)[T.United States]</th>             <td>   -0.7048</td> <td>    4.432</td> <td>   -0.159</td> <td> 0.874</td> <td>   -9.391</td> <td>    7.981</td>\n",
       "</tr>\n",
       "<tr>\n",
       "  <th>assign[T.t]:C(location)[T.Kenya]</th>         <td>   -9.7859</td> <td>   15.904</td> <td>   -0.615</td> <td> 0.538</td> <td>  -40.957</td> <td>   21.385</td>\n",
       "</tr>\n",
       "<tr>\n",
       "  <th>assign[T.t]:C(location)[T.United States]</th> <td>   -7.3278</td> <td>   15.688</td> <td>   -0.467</td> <td> 0.640</td> <td>  -38.076</td> <td>   23.421</td>\n",
       "</tr>\n",
       "</table>"
      ],
      "text/plain": [
       "<class 'statsmodels.iolib.table.SimpleTable'>"
      ]
     },
     "execution_count": 94,
     "metadata": {},
     "output_type": "execute_result"
    }
   ],
   "source": [
    "a = smf.ols('y_post ~   assign + C(location) + assign*C(location)', data= df_clean).fit(cov_type='HC3')\n",
    "a.summary().tables[1]"
   ]
  },
  {
   "cell_type": "code",
   "execution_count": null,
   "metadata": {},
   "outputs": [],
   "source": []
  },
  {
   "cell_type": "code",
   "execution_count": 95,
   "metadata": {},
   "outputs": [
    {
     "data": {
      "text/html": [
       "<table class=\"simpletable\">\n",
       "<tr>\n",
       "                <td></td>                   <th>coef</th>     <th>std err</th>      <th>z</th>      <th>P>|z|</th>  <th>[0.025</th>    <th>0.975]</th>  \n",
       "</tr>\n",
       "<tr>\n",
       "  <th>Intercept</th>                     <td>   15.4667</td> <td>    1.599</td> <td>    9.675</td> <td> 0.000</td> <td>   12.334</td> <td>   18.600</td>\n",
       "</tr>\n",
       "<tr>\n",
       "  <th>assign[T.t]</th>                   <td>  -11.2359</td> <td>    3.135</td> <td>   -3.584</td> <td> 0.000</td> <td>  -17.381</td> <td>   -5.091</td>\n",
       "</tr>\n",
       "<tr>\n",
       "  <th>C(gender)[T.male]</th>             <td>   -3.7524</td> <td>    2.679</td> <td>   -1.400</td> <td> 0.161</td> <td>   -9.004</td> <td>    1.499</td>\n",
       "</tr>\n",
       "<tr>\n",
       "  <th>assign[T.t]:C(gender)[T.male]</th> <td>    8.3549</td> <td>    4.406</td> <td>    1.896</td> <td> 0.058</td> <td>   -0.281</td> <td>   16.991</td>\n",
       "</tr>\n",
       "</table>"
      ],
      "text/plain": [
       "<class 'statsmodels.iolib.table.SimpleTable'>"
      ]
     },
     "execution_count": 95,
     "metadata": {},
     "output_type": "execute_result"
    }
   ],
   "source": [
    "a = smf.ols('y_post ~   assign + C(gender) + assign*C(gender)', data= df_clean).fit(cov_type='HC3')\n",
    "a.summary().tables[1]"
   ]
  },
  {
   "cell_type": "code",
   "execution_count": null,
   "metadata": {},
   "outputs": [],
   "source": []
  },
  {
   "cell_type": "code",
   "execution_count": 96,
   "metadata": {},
   "outputs": [],
   "source": [
    "df_clean['age_bin'] = pd.cut(df_clean.age, [0, 20, 35, 50, 100], labels=['0-20', '20-35', '35-50', '50-100'])"
   ]
  },
  {
   "cell_type": "code",
   "execution_count": 97,
   "metadata": {},
   "outputs": [
    {
     "data": {
      "text/html": [
       "<table class=\"simpletable\">\n",
       "<tr>\n",
       "                <td></td>                  <th>coef</th>     <th>std err</th>      <th>z</th>      <th>P>|z|</th>  <th>[0.025</th>    <th>0.975]</th>  \n",
       "</tr>\n",
       "<tr>\n",
       "  <th>Intercept</th>                    <td>   17.4027</td> <td>    6.479</td> <td>    2.686</td> <td> 0.007</td> <td>    4.703</td> <td>   30.102</td>\n",
       "</tr>\n",
       "<tr>\n",
       "  <th>assign[T.t]</th>                  <td>   -5.2936</td> <td>    2.179</td> <td>   -2.430</td> <td> 0.015</td> <td>   -9.564</td> <td>   -1.023</td>\n",
       "</tr>\n",
       "<tr>\n",
       "  <th>C(gender)[T.male]</th>            <td>    0.2973</td> <td>    2.115</td> <td>    0.141</td> <td> 0.888</td> <td>   -3.848</td> <td>    4.442</td>\n",
       "</tr>\n",
       "<tr>\n",
       "  <th>C(location)[T.Kenya]</th>         <td>    4.5352</td> <td>    5.410</td> <td>    0.838</td> <td> 0.402</td> <td>   -6.068</td> <td>   15.138</td>\n",
       "</tr>\n",
       "<tr>\n",
       "  <th>C(location)[T.United States]</th> <td>   -3.6735</td> <td>    5.460</td> <td>   -0.673</td> <td> 0.501</td> <td>  -14.375</td> <td>    7.028</td>\n",
       "</tr>\n",
       "<tr>\n",
       "  <th>C(age_bin)[T.20-35]</th>          <td>   -4.0290</td> <td>    4.101</td> <td>   -0.982</td> <td> 0.326</td> <td>  -12.067</td> <td>    4.008</td>\n",
       "</tr>\n",
       "<tr>\n",
       "  <th>C(age_bin)[T.35-50]</th>          <td>   -3.4136</td> <td>    5.584</td> <td>   -0.611</td> <td> 0.541</td> <td>  -14.357</td> <td>    7.530</td>\n",
       "</tr>\n",
       "<tr>\n",
       "  <th>C(age_bin)[T.50-100]</th>         <td>  -26.4356</td> <td>   32.323</td> <td>   -0.818</td> <td> 0.413</td> <td>  -89.787</td> <td>   36.916</td>\n",
       "</tr>\n",
       "</table>"
      ],
      "text/plain": [
       "<class 'statsmodels.iolib.table.SimpleTable'>"
      ]
     },
     "execution_count": 97,
     "metadata": {},
     "output_type": "execute_result"
    }
   ],
   "source": [
    "a = smf.ols('y_post ~   assign + C(gender) + C(location) + C(age_bin)', data= df_clean).fit(cov_type='HC3')\n",
    "a.summary().tables[1]"
   ]
  },
  {
   "cell_type": "code",
   "execution_count": null,
   "metadata": {},
   "outputs": [],
   "source": []
  },
  {
   "cell_type": "markdown",
   "metadata": {},
   "source": [
    "# For group level positive and negative models"
   ]
  },
  {
   "cell_type": "markdown",
   "metadata": {},
   "source": [
    "##  *ROXO Models*"
   ]
  },
  {
   "cell_type": "code",
   "execution_count": 98,
   "metadata": {},
   "outputs": [
    {
     "data": {
      "text/html": [
       "<div>\n",
       "<style scoped>\n",
       "    .dataframe tbody tr th:only-of-type {\n",
       "        vertical-align: middle;\n",
       "    }\n",
       "\n",
       "    .dataframe tbody tr th {\n",
       "        vertical-align: top;\n",
       "    }\n",
       "\n",
       "    .dataframe thead th {\n",
       "        text-align: right;\n",
       "    }\n",
       "</style>\n",
       "<table border=\"1\" class=\"dataframe\">\n",
       "  <thead>\n",
       "    <tr style=\"text-align: right;\">\n",
       "      <th></th>\n",
       "      <th>respondent_id</th>\n",
       "      <th>age</th>\n",
       "      <th>gender</th>\n",
       "      <th>location</th>\n",
       "      <th>education</th>\n",
       "      <th>group</th>\n",
       "      <th>enrolled</th>\n",
       "      <th>last_update</th>\n",
       "      <th>level</th>\n",
       "      <th>number_check</th>\n",
       "      <th>...</th>\n",
       "      <th>post_jittery</th>\n",
       "      <th>pre_active</th>\n",
       "      <th>post_active</th>\n",
       "      <th>pre_afraid</th>\n",
       "      <th>post_afraid</th>\n",
       "      <th>y_positive</th>\n",
       "      <th>y_negative</th>\n",
       "      <th>y_net</th>\n",
       "      <th>y_post</th>\n",
       "      <th>age_bin</th>\n",
       "    </tr>\n",
       "  </thead>\n",
       "  <tbody>\n",
       "    <tr>\n",
       "      <th>7</th>\n",
       "      <td>31</td>\n",
       "      <td>27</td>\n",
       "      <td>male</td>\n",
       "      <td>United States</td>\n",
       "      <td>4</td>\n",
       "      <td>ROXO</td>\n",
       "      <td>2018-11-17 03:46:12.767672+00:00</td>\n",
       "      <td>2018-11-17 03:57:52.832488+00:00</td>\n",
       "      <td>7</td>\n",
       "      <td>0</td>\n",
       "      <td>...</td>\n",
       "      <td>1</td>\n",
       "      <td>3</td>\n",
       "      <td>3</td>\n",
       "      <td>2</td>\n",
       "      <td>2</td>\n",
       "      <td>-1</td>\n",
       "      <td>6</td>\n",
       "      <td>-7</td>\n",
       "      <td>9</td>\n",
       "      <td>20-35</td>\n",
       "    </tr>\n",
       "    <tr>\n",
       "      <th>11</th>\n",
       "      <td>35</td>\n",
       "      <td>23</td>\n",
       "      <td>female</td>\n",
       "      <td>United States</td>\n",
       "      <td>1</td>\n",
       "      <td>ROXO</td>\n",
       "      <td>2018-11-17 04:27:14.830550+00:00</td>\n",
       "      <td>2018-11-17 05:14:52.274705+00:00</td>\n",
       "      <td>7</td>\n",
       "      <td>7</td>\n",
       "      <td>...</td>\n",
       "      <td>2</td>\n",
       "      <td>3</td>\n",
       "      <td>3</td>\n",
       "      <td>4</td>\n",
       "      <td>2</td>\n",
       "      <td>3</td>\n",
       "      <td>-5</td>\n",
       "      <td>8</td>\n",
       "      <td>14</td>\n",
       "      <td>20-35</td>\n",
       "    </tr>\n",
       "    <tr>\n",
       "      <th>12</th>\n",
       "      <td>36</td>\n",
       "      <td>32</td>\n",
       "      <td>male</td>\n",
       "      <td>Kenya</td>\n",
       "      <td>5</td>\n",
       "      <td>ROXO</td>\n",
       "      <td>2018-11-17 05:17:43.359763+00:00</td>\n",
       "      <td>2018-11-17 05:23:46.987133+00:00</td>\n",
       "      <td>7</td>\n",
       "      <td>0</td>\n",
       "      <td>...</td>\n",
       "      <td>1</td>\n",
       "      <td>2</td>\n",
       "      <td>2</td>\n",
       "      <td>3</td>\n",
       "      <td>2</td>\n",
       "      <td>-7</td>\n",
       "      <td>-4</td>\n",
       "      <td>-3</td>\n",
       "      <td>11</td>\n",
       "      <td>20-35</td>\n",
       "    </tr>\n",
       "    <tr>\n",
       "      <th>18</th>\n",
       "      <td>42</td>\n",
       "      <td>30</td>\n",
       "      <td>female</td>\n",
       "      <td>United States</td>\n",
       "      <td>5</td>\n",
       "      <td>ROXO</td>\n",
       "      <td>2018-11-17 19:56:59.460475+00:00</td>\n",
       "      <td>2018-11-17 20:02:16.054874+00:00</td>\n",
       "      <td>7</td>\n",
       "      <td>7</td>\n",
       "      <td>...</td>\n",
       "      <td>1</td>\n",
       "      <td>1</td>\n",
       "      <td>3</td>\n",
       "      <td>5</td>\n",
       "      <td>4</td>\n",
       "      <td>3</td>\n",
       "      <td>-4</td>\n",
       "      <td>7</td>\n",
       "      <td>-5</td>\n",
       "      <td>20-35</td>\n",
       "    </tr>\n",
       "    <tr>\n",
       "      <th>30</th>\n",
       "      <td>54</td>\n",
       "      <td>25</td>\n",
       "      <td>male</td>\n",
       "      <td>United States</td>\n",
       "      <td>4</td>\n",
       "      <td>ROXO</td>\n",
       "      <td>2018-11-17 22:31:26.931533+00:00</td>\n",
       "      <td>2018-11-17 22:41:17.518932+00:00</td>\n",
       "      <td>7</td>\n",
       "      <td>7</td>\n",
       "      <td>...</td>\n",
       "      <td>2</td>\n",
       "      <td>3</td>\n",
       "      <td>4</td>\n",
       "      <td>3</td>\n",
       "      <td>1</td>\n",
       "      <td>4</td>\n",
       "      <td>-4</td>\n",
       "      <td>8</td>\n",
       "      <td>22</td>\n",
       "      <td>20-35</td>\n",
       "    </tr>\n",
       "  </tbody>\n",
       "</table>\n",
       "<p>5 rows × 60 columns</p>\n",
       "</div>"
      ],
      "text/plain": [
       "    respondent_id  age  gender       location  education group  \\\n",
       "7              31   27    male  United States          4  ROXO   \n",
       "11             35   23  female  United States          1  ROXO   \n",
       "12             36   32    male          Kenya          5  ROXO   \n",
       "18             42   30  female  United States          5  ROXO   \n",
       "30             54   25    male  United States          4  ROXO   \n",
       "\n",
       "                            enrolled                       last_update  level  \\\n",
       "7   2018-11-17 03:46:12.767672+00:00  2018-11-17 03:57:52.832488+00:00      7   \n",
       "11  2018-11-17 04:27:14.830550+00:00  2018-11-17 05:14:52.274705+00:00      7   \n",
       "12  2018-11-17 05:17:43.359763+00:00  2018-11-17 05:23:46.987133+00:00      7   \n",
       "18  2018-11-17 19:56:59.460475+00:00  2018-11-17 20:02:16.054874+00:00      7   \n",
       "30  2018-11-17 22:31:26.931533+00:00  2018-11-17 22:41:17.518932+00:00      7   \n",
       "\n",
       "    number_check   ...     post_jittery  pre_active  post_active  pre_afraid  \\\n",
       "7              0   ...                1           3            3           2   \n",
       "11             7   ...                2           3            3           4   \n",
       "12             0   ...                1           2            2           3   \n",
       "18             7   ...                1           1            3           5   \n",
       "30             7   ...                2           3            4           3   \n",
       "\n",
       "    post_afraid  y_positive  y_negative  y_net  y_post  age_bin  \n",
       "7             2          -1           6     -7       9    20-35  \n",
       "11            2           3          -5      8      14    20-35  \n",
       "12            2          -7          -4     -3      11    20-35  \n",
       "18            4           3          -4      7      -5    20-35  \n",
       "30            1           4          -4      8      22    20-35  \n",
       "\n",
       "[5 rows x 60 columns]"
      ]
     },
     "execution_count": 98,
     "metadata": {},
     "output_type": "execute_result"
    }
   ],
   "source": [
    "df_ROXO_model = df_ROXO.copy()\n",
    "df_ROXO_model['age_bin'] = pd.cut(df_ROXO_model.age, [0, 20, 35, 50, 100], labels=['0-20', '20-35', '35-50', '50-100'])\n",
    "df_ROXO_model.head()"
   ]
  },
  {
   "cell_type": "code",
   "execution_count": 99,
   "metadata": {},
   "outputs": [
    {
     "data": {
      "text/plain": [
       "location\n",
       "India             2\n",
       "Kenya            15\n",
       "United States    29\n",
       "Name: group, dtype: int64"
      ]
     },
     "execution_count": 99,
     "metadata": {},
     "output_type": "execute_result"
    }
   ],
   "source": [
    "df_ROXO_model.groupby('location').group.count()"
   ]
  },
  {
   "cell_type": "markdown",
   "metadata": {},
   "source": [
    "###  1. ROXO Positive Model"
   ]
  },
  {
   "cell_type": "code",
   "execution_count": 100,
   "metadata": {},
   "outputs": [
    {
     "data": {
      "text/html": [
       "<table class=\"simpletable\">\n",
       "<tr>\n",
       "                <td></td>                  <th>coef</th>     <th>std err</th>      <th>z</th>      <th>P>|z|</th>  <th>[0.025</th>    <th>0.975]</th>  \n",
       "</tr>\n",
       "<tr>\n",
       "  <th>Intercept</th>                    <td>    0.4928</td> <td>   16.404</td> <td>    0.030</td> <td> 0.976</td> <td>  -31.658</td> <td>   32.644</td>\n",
       "</tr>\n",
       "<tr>\n",
       "  <th>C(gender)[T.male]</th>            <td>    1.4325</td> <td>    2.937</td> <td>    0.488</td> <td> 0.626</td> <td>   -4.325</td> <td>    7.190</td>\n",
       "</tr>\n",
       "<tr>\n",
       "  <th>C(education)[T.2]</th>            <td>   -7.4325</td> <td>   13.971</td> <td>   -0.532</td> <td> 0.595</td> <td>  -34.815</td> <td>   19.950</td>\n",
       "</tr>\n",
       "<tr>\n",
       "  <th>C(education)[T.4]</th>            <td>   -5.7891</td> <td>   13.759</td> <td>   -0.421</td> <td> 0.674</td> <td>  -32.755</td> <td>   21.177</td>\n",
       "</tr>\n",
       "<tr>\n",
       "  <th>C(education)[T.5]</th>            <td>   -8.6291</td> <td>   13.514</td> <td>   -0.639</td> <td> 0.523</td> <td>  -35.116</td> <td>   17.858</td>\n",
       "</tr>\n",
       "<tr>\n",
       "  <th>C(location)[T.Kenya]</th>         <td>   -4.1121</td> <td>    9.876</td> <td>   -0.416</td> <td> 0.677</td> <td>  -23.470</td> <td>   15.245</td>\n",
       "</tr>\n",
       "<tr>\n",
       "  <th>C(location)[T.United States]</th> <td>    2.5072</td> <td>    9.556</td> <td>    0.262</td> <td> 0.793</td> <td>  -16.222</td> <td>   21.236</td>\n",
       "</tr>\n",
       "</table>"
      ],
      "text/plain": [
       "<class 'statsmodels.iolib.table.SimpleTable'>"
      ]
     },
     "execution_count": 100,
     "metadata": {},
     "output_type": "execute_result"
    }
   ],
   "source": [
    "ROXO_positive = smf.ols('y_positive ~  C(gender) + C(education) + C(location)', data= df_ROXO_model).fit(cov_type='HC3')\n",
    "ROXO_positive.summary().tables[1]"
   ]
  },
  {
   "cell_type": "markdown",
   "metadata": {},
   "source": [
    "### 2. ROXO Negative Model"
   ]
  },
  {
   "cell_type": "code",
   "execution_count": 102,
   "metadata": {},
   "outputs": [
    {
     "data": {
      "text/html": [
       "<table class=\"simpletable\">\n",
       "<tr>\n",
       "                <td></td>                  <th>coef</th>     <th>std err</th>      <th>z</th>      <th>P>|z|</th>  <th>[0.025</th>    <th>0.975]</th>  \n",
       "</tr>\n",
       "<tr>\n",
       "  <th>Intercept</th>                    <td>  -12.9083</td> <td>    6.956</td> <td>   -1.856</td> <td> 0.064</td> <td>  -26.543</td> <td>    0.726</td>\n",
       "</tr>\n",
       "<tr>\n",
       "  <th>C(gender)[T.male]</th>            <td>    3.7635</td> <td>    2.221</td> <td>    1.695</td> <td> 0.090</td> <td>   -0.589</td> <td>    8.116</td>\n",
       "</tr>\n",
       "<tr>\n",
       "  <th>C(education)[T.2]</th>            <td>   -2.7635</td> <td>    5.296</td> <td>   -0.522</td> <td> 0.602</td> <td>  -13.143</td> <td>    7.616</td>\n",
       "</tr>\n",
       "<tr>\n",
       "  <th>C(education)[T.4]</th>            <td>    3.7005</td> <td>    4.691</td> <td>    0.789</td> <td> 0.430</td> <td>   -5.493</td> <td>   12.894</td>\n",
       "</tr>\n",
       "<tr>\n",
       "  <th>C(education)[T.5]</th>            <td>    3.3525</td> <td>    4.508</td> <td>    0.744</td> <td> 0.457</td> <td>   -5.482</td> <td>   12.187</td>\n",
       "</tr>\n",
       "<tr>\n",
       "  <th>C(location)[T.Kenya]</th>         <td>    2.6147</td> <td>    5.953</td> <td>    0.439</td> <td> 0.661</td> <td>   -9.054</td> <td>   14.283</td>\n",
       "</tr>\n",
       "<tr>\n",
       "  <th>C(location)[T.United States]</th> <td>    7.9083</td> <td>    5.691</td> <td>    1.390</td> <td> 0.165</td> <td>   -3.247</td> <td>   19.063</td>\n",
       "</tr>\n",
       "</table>"
      ],
      "text/plain": [
       "<class 'statsmodels.iolib.table.SimpleTable'>"
      ]
     },
     "execution_count": 102,
     "metadata": {},
     "output_type": "execute_result"
    }
   ],
   "source": [
    "ROXO_negative = smf.ols('y_negative ~  C(gender) + C(education) + C(location)', data= df_ROXO_model).fit(cov_type='HC3')\n",
    "ROXO_negative.summary().tables[1]"
   ]
  },
  {
   "cell_type": "code",
   "execution_count": null,
   "metadata": {},
   "outputs": [],
   "source": []
  },
  {
   "cell_type": "markdown",
   "metadata": {},
   "source": [
    "##  *RXO Models*"
   ]
  },
  {
   "cell_type": "code",
   "execution_count": 103,
   "metadata": {},
   "outputs": [
    {
     "data": {
      "text/html": [
       "<div>\n",
       "<style scoped>\n",
       "    .dataframe tbody tr th:only-of-type {\n",
       "        vertical-align: middle;\n",
       "    }\n",
       "\n",
       "    .dataframe tbody tr th {\n",
       "        vertical-align: top;\n",
       "    }\n",
       "\n",
       "    .dataframe thead th {\n",
       "        text-align: right;\n",
       "    }\n",
       "</style>\n",
       "<table border=\"1\" class=\"dataframe\">\n",
       "  <thead>\n",
       "    <tr style=\"text-align: right;\">\n",
       "      <th></th>\n",
       "      <th>respondent_id</th>\n",
       "      <th>age</th>\n",
       "      <th>gender</th>\n",
       "      <th>location</th>\n",
       "      <th>education</th>\n",
       "      <th>group</th>\n",
       "      <th>enrolled</th>\n",
       "      <th>last_update</th>\n",
       "      <th>level</th>\n",
       "      <th>number_check</th>\n",
       "      <th>...</th>\n",
       "      <th>post_jittery</th>\n",
       "      <th>pre_active</th>\n",
       "      <th>post_active</th>\n",
       "      <th>pre_afraid</th>\n",
       "      <th>post_afraid</th>\n",
       "      <th>y_positive</th>\n",
       "      <th>y_negative</th>\n",
       "      <th>y_net</th>\n",
       "      <th>y_post</th>\n",
       "      <th>age_bin</th>\n",
       "    </tr>\n",
       "  </thead>\n",
       "  <tbody>\n",
       "    <tr>\n",
       "      <th>35</th>\n",
       "      <td>59</td>\n",
       "      <td>33</td>\n",
       "      <td>male</td>\n",
       "      <td>United States</td>\n",
       "      <td>5</td>\n",
       "      <td>RXO</td>\n",
       "      <td>2018-11-18 00:29:27.591362+00:00</td>\n",
       "      <td>2018-11-18 00:38:22.889304+00:00</td>\n",
       "      <td>7</td>\n",
       "      <td>7</td>\n",
       "      <td>...</td>\n",
       "      <td>1</td>\n",
       "      <td>0</td>\n",
       "      <td>2</td>\n",
       "      <td>0</td>\n",
       "      <td>2</td>\n",
       "      <td>18</td>\n",
       "      <td>16</td>\n",
       "      <td>2</td>\n",
       "      <td>2</td>\n",
       "      <td>20-35</td>\n",
       "    </tr>\n",
       "    <tr>\n",
       "      <th>46</th>\n",
       "      <td>70</td>\n",
       "      <td>25</td>\n",
       "      <td>male</td>\n",
       "      <td>India</td>\n",
       "      <td>5</td>\n",
       "      <td>RXO</td>\n",
       "      <td>2018-11-18 05:36:21.552642+00:00</td>\n",
       "      <td>2018-11-18 05:44:35.690096+00:00</td>\n",
       "      <td>7</td>\n",
       "      <td>7</td>\n",
       "      <td>...</td>\n",
       "      <td>1</td>\n",
       "      <td>0</td>\n",
       "      <td>1</td>\n",
       "      <td>0</td>\n",
       "      <td>1</td>\n",
       "      <td>18</td>\n",
       "      <td>17</td>\n",
       "      <td>1</td>\n",
       "      <td>1</td>\n",
       "      <td>20-35</td>\n",
       "    </tr>\n",
       "    <tr>\n",
       "      <th>58</th>\n",
       "      <td>82</td>\n",
       "      <td>30</td>\n",
       "      <td>female</td>\n",
       "      <td>United States</td>\n",
       "      <td>4</td>\n",
       "      <td>RXO</td>\n",
       "      <td>2018-11-18 20:09:05.773931+00:00</td>\n",
       "      <td>2018-11-18 20:17:03.981312+00:00</td>\n",
       "      <td>7</td>\n",
       "      <td>0</td>\n",
       "      <td>...</td>\n",
       "      <td>2</td>\n",
       "      <td>0</td>\n",
       "      <td>3</td>\n",
       "      <td>0</td>\n",
       "      <td>5</td>\n",
       "      <td>16</td>\n",
       "      <td>37</td>\n",
       "      <td>-21</td>\n",
       "      <td>-21</td>\n",
       "      <td>20-35</td>\n",
       "    </tr>\n",
       "    <tr>\n",
       "      <th>62</th>\n",
       "      <td>86</td>\n",
       "      <td>49</td>\n",
       "      <td>male</td>\n",
       "      <td>United States</td>\n",
       "      <td>4</td>\n",
       "      <td>RXO</td>\n",
       "      <td>2018-11-19 00:44:20.156778+00:00</td>\n",
       "      <td>2018-11-19 00:52:44.443654+00:00</td>\n",
       "      <td>7</td>\n",
       "      <td>7</td>\n",
       "      <td>...</td>\n",
       "      <td>2</td>\n",
       "      <td>0</td>\n",
       "      <td>2</td>\n",
       "      <td>0</td>\n",
       "      <td>1</td>\n",
       "      <td>21</td>\n",
       "      <td>14</td>\n",
       "      <td>7</td>\n",
       "      <td>7</td>\n",
       "      <td>35-50</td>\n",
       "    </tr>\n",
       "    <tr>\n",
       "      <th>64</th>\n",
       "      <td>88</td>\n",
       "      <td>26</td>\n",
       "      <td>female</td>\n",
       "      <td>United States</td>\n",
       "      <td>5</td>\n",
       "      <td>RXO</td>\n",
       "      <td>2018-11-19 04:47:25.035857+00:00</td>\n",
       "      <td>2018-11-19 04:57:17.166517+00:00</td>\n",
       "      <td>7</td>\n",
       "      <td>7</td>\n",
       "      <td>...</td>\n",
       "      <td>2</td>\n",
       "      <td>0</td>\n",
       "      <td>2</td>\n",
       "      <td>0</td>\n",
       "      <td>1</td>\n",
       "      <td>25</td>\n",
       "      <td>12</td>\n",
       "      <td>13</td>\n",
       "      <td>13</td>\n",
       "      <td>20-35</td>\n",
       "    </tr>\n",
       "  </tbody>\n",
       "</table>\n",
       "<p>5 rows × 60 columns</p>\n",
       "</div>"
      ],
      "text/plain": [
       "    respondent_id  age  gender       location  education group  \\\n",
       "35             59   33    male  United States          5   RXO   \n",
       "46             70   25    male          India          5   RXO   \n",
       "58             82   30  female  United States          4   RXO   \n",
       "62             86   49    male  United States          4   RXO   \n",
       "64             88   26  female  United States          5   RXO   \n",
       "\n",
       "                            enrolled                       last_update  level  \\\n",
       "35  2018-11-18 00:29:27.591362+00:00  2018-11-18 00:38:22.889304+00:00      7   \n",
       "46  2018-11-18 05:36:21.552642+00:00  2018-11-18 05:44:35.690096+00:00      7   \n",
       "58  2018-11-18 20:09:05.773931+00:00  2018-11-18 20:17:03.981312+00:00      7   \n",
       "62  2018-11-19 00:44:20.156778+00:00  2018-11-19 00:52:44.443654+00:00      7   \n",
       "64  2018-11-19 04:47:25.035857+00:00  2018-11-19 04:57:17.166517+00:00      7   \n",
       "\n",
       "    number_check   ...     post_jittery  pre_active  post_active  pre_afraid  \\\n",
       "35             7   ...                1           0            2           0   \n",
       "46             7   ...                1           0            1           0   \n",
       "58             0   ...                2           0            3           0   \n",
       "62             7   ...                2           0            2           0   \n",
       "64             7   ...                2           0            2           0   \n",
       "\n",
       "    post_afraid  y_positive  y_negative  y_net  y_post  age_bin  \n",
       "35            2          18          16      2       2    20-35  \n",
       "46            1          18          17      1       1    20-35  \n",
       "58            5          16          37    -21     -21    20-35  \n",
       "62            1          21          14      7       7    35-50  \n",
       "64            1          25          12     13      13    20-35  \n",
       "\n",
       "[5 rows x 60 columns]"
      ]
     },
     "execution_count": 103,
     "metadata": {},
     "output_type": "execute_result"
    }
   ],
   "source": [
    "df_RXO_model = df_RXO.copy()\n",
    "df_RXO_model['age_bin'] = pd.cut(df_RXO_model.age, [0, 20, 35, 50, 100], labels=['0-20', '20-35', '35-50', '50-100'])\n",
    "df_RXO_model.head()"
   ]
  },
  {
   "cell_type": "code",
   "execution_count": 106,
   "metadata": {},
   "outputs": [
    {
     "data": {
      "text/plain": [
       "location\n",
       "India             1\n",
       "Kenya             3\n",
       "United States    12\n",
       "Name: group, dtype: int64"
      ]
     },
     "execution_count": 106,
     "metadata": {},
     "output_type": "execute_result"
    }
   ],
   "source": [
    "df_RXO_model.groupby('location').group.count()"
   ]
  },
  {
   "cell_type": "markdown",
   "metadata": {},
   "source": [
    "###  1. RXO Positive Model"
   ]
  },
  {
   "cell_type": "code",
   "execution_count": 107,
   "metadata": {},
   "outputs": [
    {
     "name": "stderr",
     "output_type": "stream",
     "text": [
      "/Library/Frameworks/Python.framework/Versions/3.6/lib/python3.6/site-packages/scipy/stats/stats.py:1394: UserWarning: kurtosistest only valid for n>=20 ... continuing anyway, n=16\n",
      "  \"anyway, n=%i\" % int(n))\n"
     ]
    },
    {
     "data": {
      "text/html": [
       "<table class=\"simpletable\">\n",
       "<tr>\n",
       "                <td></td>                  <th>coef</th>     <th>std err</th>      <th>z</th>      <th>P>|z|</th>  <th>[0.025</th>    <th>0.975]</th>  \n",
       "</tr>\n",
       "<tr>\n",
       "  <th>Intercept</th>                    <td>   23.2692</td> <td>   68.820</td> <td>    0.338</td> <td> 0.735</td> <td> -111.616</td> <td>  158.155</td>\n",
       "</tr>\n",
       "<tr>\n",
       "  <th>C(gender)[T.male]</th>            <td>   -3.6154</td> <td>    4.355</td> <td>   -0.830</td> <td> 0.406</td> <td>  -12.150</td> <td>    4.920</td>\n",
       "</tr>\n",
       "<tr>\n",
       "  <th>C(education)[T.4]</th>            <td>   -1.5000</td> <td>   66.397</td> <td>   -0.023</td> <td> 0.982</td> <td> -131.635</td> <td>  128.635</td>\n",
       "</tr>\n",
       "<tr>\n",
       "  <th>C(education)[T.5]</th>            <td>   -1.6538</td> <td>   66.634</td> <td>   -0.025</td> <td> 0.980</td> <td> -132.254</td> <td>  128.946</td>\n",
       "</tr>\n",
       "<tr>\n",
       "  <th>C(location)[T.Kenya]</th>         <td>   15.7308</td> <td>   25.303</td> <td>    0.622</td> <td> 0.534</td> <td>  -33.863</td> <td>   65.324</td>\n",
       "</tr>\n",
       "<tr>\n",
       "  <th>C(location)[T.United States]</th> <td>    1.7692</td> <td>   16.480</td> <td>    0.107</td> <td> 0.915</td> <td>  -30.532</td> <td>   34.070</td>\n",
       "</tr>\n",
       "</table>"
      ],
      "text/plain": [
       "<class 'statsmodels.iolib.table.SimpleTable'>"
      ]
     },
     "execution_count": 107,
     "metadata": {},
     "output_type": "execute_result"
    }
   ],
   "source": [
    "RXO_positive = smf.ols('y_positive ~  C(gender) + C(education) + C(location)', data= df_RXO_model).fit(cov_type='HC3')\n",
    "RXO_positive.summary().tables[1]"
   ]
  },
  {
   "cell_type": "markdown",
   "metadata": {},
   "source": [
    "### 2. RXO Negative Model"
   ]
  },
  {
   "cell_type": "code",
   "execution_count": 108,
   "metadata": {},
   "outputs": [
    {
     "name": "stderr",
     "output_type": "stream",
     "text": [
      "/Library/Frameworks/Python.framework/Versions/3.6/lib/python3.6/site-packages/scipy/stats/stats.py:1394: UserWarning: kurtosistest only valid for n>=20 ... continuing anyway, n=16\n",
      "  \"anyway, n=%i\" % int(n))\n"
     ]
    },
    {
     "data": {
      "text/html": [
       "<table class=\"simpletable\">\n",
       "<tr>\n",
       "                <td></td>                  <th>coef</th>     <th>std err</th>      <th>z</th>      <th>P>|z|</th>  <th>[0.025</th>    <th>0.975]</th>  \n",
       "</tr>\n",
       "<tr>\n",
       "  <th>Intercept</th>                    <td>   38.3846</td> <td>   53.618</td> <td>    0.716</td> <td> 0.474</td> <td>  -66.705</td> <td>  143.474</td>\n",
       "</tr>\n",
       "<tr>\n",
       "  <th>C(gender)[T.male]</th>            <td>  -12.3077</td> <td>    6.277</td> <td>   -1.961</td> <td> 0.050</td> <td>  -24.611</td> <td>   -0.004</td>\n",
       "</tr>\n",
       "<tr>\n",
       "  <th>C(education)[T.4]</th>            <td>   -6.0000</td> <td>   48.744</td> <td>   -0.123</td> <td> 0.902</td> <td> -101.537</td> <td>   89.537</td>\n",
       "</tr>\n",
       "<tr>\n",
       "  <th>C(education)[T.5]</th>            <td>   -9.0769</td> <td>   49.161</td> <td>   -0.185</td> <td> 0.854</td> <td> -105.430</td> <td>   87.277</td>\n",
       "</tr>\n",
       "<tr>\n",
       "  <th>C(location)[T.Kenya]</th>         <td>  -16.3846</td> <td>   23.894</td> <td>   -0.686</td> <td> 0.493</td> <td>  -63.215</td> <td>   30.446</td>\n",
       "</tr>\n",
       "<tr>\n",
       "  <th>C(location)[T.United States]</th> <td>    0.3846</td> <td>   21.821</td> <td>    0.018</td> <td> 0.986</td> <td>  -42.384</td> <td>   43.153</td>\n",
       "</tr>\n",
       "</table>"
      ],
      "text/plain": [
       "<class 'statsmodels.iolib.table.SimpleTable'>"
      ]
     },
     "execution_count": 108,
     "metadata": {},
     "output_type": "execute_result"
    }
   ],
   "source": [
    "RXO_negative = smf.ols('y_negative ~  C(gender) + C(education) + C(location)', data= df_RXO_model).fit(cov_type='HC3')\n",
    "RXO_negative.summary().tables[1]"
   ]
  },
  {
   "cell_type": "code",
   "execution_count": null,
   "metadata": {},
   "outputs": [],
   "source": []
  },
  {
   "cell_type": "markdown",
   "metadata": {},
   "source": [
    "##  *ROO Models*"
   ]
  },
  {
   "cell_type": "code",
   "execution_count": 109,
   "metadata": {},
   "outputs": [
    {
     "data": {
      "text/html": [
       "<div>\n",
       "<style scoped>\n",
       "    .dataframe tbody tr th:only-of-type {\n",
       "        vertical-align: middle;\n",
       "    }\n",
       "\n",
       "    .dataframe tbody tr th {\n",
       "        vertical-align: top;\n",
       "    }\n",
       "\n",
       "    .dataframe thead th {\n",
       "        text-align: right;\n",
       "    }\n",
       "</style>\n",
       "<table border=\"1\" class=\"dataframe\">\n",
       "  <thead>\n",
       "    <tr style=\"text-align: right;\">\n",
       "      <th></th>\n",
       "      <th>respondent_id</th>\n",
       "      <th>age</th>\n",
       "      <th>gender</th>\n",
       "      <th>location</th>\n",
       "      <th>education</th>\n",
       "      <th>group</th>\n",
       "      <th>enrolled</th>\n",
       "      <th>last_update</th>\n",
       "      <th>level</th>\n",
       "      <th>number_check</th>\n",
       "      <th>...</th>\n",
       "      <th>post_jittery</th>\n",
       "      <th>pre_active</th>\n",
       "      <th>post_active</th>\n",
       "      <th>pre_afraid</th>\n",
       "      <th>post_afraid</th>\n",
       "      <th>y_positive</th>\n",
       "      <th>y_negative</th>\n",
       "      <th>y_net</th>\n",
       "      <th>y_post</th>\n",
       "      <th>age_bin</th>\n",
       "    </tr>\n",
       "  </thead>\n",
       "  <tbody>\n",
       "    <tr>\n",
       "      <th>0</th>\n",
       "      <td>24</td>\n",
       "      <td>26</td>\n",
       "      <td>female</td>\n",
       "      <td>United States</td>\n",
       "      <td>5</td>\n",
       "      <td>ROO</td>\n",
       "      <td>2018-11-17 01:18:38.708246+00:00</td>\n",
       "      <td>2018-11-17 01:21:51.608501+00:00</td>\n",
       "      <td>7</td>\n",
       "      <td>0</td>\n",
       "      <td>...</td>\n",
       "      <td>0</td>\n",
       "      <td>3</td>\n",
       "      <td>2</td>\n",
       "      <td>2</td>\n",
       "      <td>2</td>\n",
       "      <td>0</td>\n",
       "      <td>-9</td>\n",
       "      <td>9</td>\n",
       "      <td>8</td>\n",
       "      <td>20-35</td>\n",
       "    </tr>\n",
       "    <tr>\n",
       "      <th>5</th>\n",
       "      <td>29</td>\n",
       "      <td>30</td>\n",
       "      <td>female</td>\n",
       "      <td>United States</td>\n",
       "      <td>4</td>\n",
       "      <td>ROO</td>\n",
       "      <td>2018-11-17 01:57:46.015614+00:00</td>\n",
       "      <td>2018-11-17 02:00:18.067241+00:00</td>\n",
       "      <td>7</td>\n",
       "      <td>0</td>\n",
       "      <td>...</td>\n",
       "      <td>4</td>\n",
       "      <td>5</td>\n",
       "      <td>5</td>\n",
       "      <td>1</td>\n",
       "      <td>2</td>\n",
       "      <td>2</td>\n",
       "      <td>1</td>\n",
       "      <td>1</td>\n",
       "      <td>22</td>\n",
       "      <td>20-35</td>\n",
       "    </tr>\n",
       "    <tr>\n",
       "      <th>9</th>\n",
       "      <td>33</td>\n",
       "      <td>23</td>\n",
       "      <td>male</td>\n",
       "      <td>Kenya</td>\n",
       "      <td>1</td>\n",
       "      <td>ROO</td>\n",
       "      <td>2018-11-17 04:03:40.900200+00:00</td>\n",
       "      <td>2018-11-17 04:20:50.586140+00:00</td>\n",
       "      <td>7</td>\n",
       "      <td>0</td>\n",
       "      <td>...</td>\n",
       "      <td>1</td>\n",
       "      <td>1</td>\n",
       "      <td>3</td>\n",
       "      <td>2</td>\n",
       "      <td>2</td>\n",
       "      <td>-1</td>\n",
       "      <td>-7</td>\n",
       "      <td>6</td>\n",
       "      <td>12</td>\n",
       "      <td>20-35</td>\n",
       "    </tr>\n",
       "    <tr>\n",
       "      <th>13</th>\n",
       "      <td>37</td>\n",
       "      <td>29</td>\n",
       "      <td>female</td>\n",
       "      <td>Kenya</td>\n",
       "      <td>5</td>\n",
       "      <td>ROO</td>\n",
       "      <td>2018-11-17 05:46:49.416065+00:00</td>\n",
       "      <td>2018-11-17 05:53:38.528661+00:00</td>\n",
       "      <td>7</td>\n",
       "      <td>0</td>\n",
       "      <td>...</td>\n",
       "      <td>1</td>\n",
       "      <td>2</td>\n",
       "      <td>3</td>\n",
       "      <td>1</td>\n",
       "      <td>1</td>\n",
       "      <td>-1</td>\n",
       "      <td>-2</td>\n",
       "      <td>1</td>\n",
       "      <td>19</td>\n",
       "      <td>20-35</td>\n",
       "    </tr>\n",
       "    <tr>\n",
       "      <th>14</th>\n",
       "      <td>38</td>\n",
       "      <td>33</td>\n",
       "      <td>female</td>\n",
       "      <td>United States</td>\n",
       "      <td>5</td>\n",
       "      <td>ROO</td>\n",
       "      <td>2018-11-17 07:31:07.329831+00:00</td>\n",
       "      <td>2018-11-17 07:35:31.127330+00:00</td>\n",
       "      <td>7</td>\n",
       "      <td>0</td>\n",
       "      <td>...</td>\n",
       "      <td>1</td>\n",
       "      <td>4</td>\n",
       "      <td>4</td>\n",
       "      <td>2</td>\n",
       "      <td>2</td>\n",
       "      <td>0</td>\n",
       "      <td>-1</td>\n",
       "      <td>1</td>\n",
       "      <td>27</td>\n",
       "      <td>20-35</td>\n",
       "    </tr>\n",
       "  </tbody>\n",
       "</table>\n",
       "<p>5 rows × 60 columns</p>\n",
       "</div>"
      ],
      "text/plain": [
       "    respondent_id  age  gender       location  education group  \\\n",
       "0              24   26  female  United States          5   ROO   \n",
       "5              29   30  female  United States          4   ROO   \n",
       "9              33   23    male          Kenya          1   ROO   \n",
       "13             37   29  female          Kenya          5   ROO   \n",
       "14             38   33  female  United States          5   ROO   \n",
       "\n",
       "                            enrolled                       last_update  level  \\\n",
       "0   2018-11-17 01:18:38.708246+00:00  2018-11-17 01:21:51.608501+00:00      7   \n",
       "5   2018-11-17 01:57:46.015614+00:00  2018-11-17 02:00:18.067241+00:00      7   \n",
       "9   2018-11-17 04:03:40.900200+00:00  2018-11-17 04:20:50.586140+00:00      7   \n",
       "13  2018-11-17 05:46:49.416065+00:00  2018-11-17 05:53:38.528661+00:00      7   \n",
       "14  2018-11-17 07:31:07.329831+00:00  2018-11-17 07:35:31.127330+00:00      7   \n",
       "\n",
       "    number_check   ...     post_jittery  pre_active  post_active  pre_afraid  \\\n",
       "0              0   ...                0           3            2           2   \n",
       "5              0   ...                4           5            5           1   \n",
       "9              0   ...                1           1            3           2   \n",
       "13             0   ...                1           2            3           1   \n",
       "14             0   ...                1           4            4           2   \n",
       "\n",
       "    post_afraid  y_positive  y_negative  y_net  y_post  age_bin  \n",
       "0             2           0          -9      9       8    20-35  \n",
       "5             2           2           1      1      22    20-35  \n",
       "9             2          -1          -7      6      12    20-35  \n",
       "13            1          -1          -2      1      19    20-35  \n",
       "14            2           0          -1      1      27    20-35  \n",
       "\n",
       "[5 rows x 60 columns]"
      ]
     },
     "execution_count": 109,
     "metadata": {},
     "output_type": "execute_result"
    }
   ],
   "source": [
    "df_ROO_model = df_ROO.copy()\n",
    "df_ROO_model['age_bin'] = pd.cut(df_ROO_model.age, [0, 20, 35, 50, 100], labels=['0-20', '20-35', '35-50', '50-100'])\n",
    "df_ROO_model.head()"
   ]
  },
  {
   "cell_type": "code",
   "execution_count": 110,
   "metadata": {},
   "outputs": [
    {
     "data": {
      "text/plain": [
       "location\n",
       "India             5\n",
       "Kenya            21\n",
       "United States    31\n",
       "Name: group, dtype: int64"
      ]
     },
     "execution_count": 110,
     "metadata": {},
     "output_type": "execute_result"
    }
   ],
   "source": [
    "df_ROO_model.groupby('location').group.count()"
   ]
  },
  {
   "cell_type": "markdown",
   "metadata": {},
   "source": [
    "###  1. ROO Positive Model"
   ]
  },
  {
   "cell_type": "code",
   "execution_count": null,
   "metadata": {},
   "outputs": [],
   "source": [
    "ROO_positive = smf.ols('y_positive ~  C(gender) + C(education) + C(location)', data= df_ROO_model).fit(cov_type='HC3')\n",
    "ROO_positive.summary().tables[1]"
   ]
  },
  {
   "cell_type": "markdown",
   "metadata": {},
   "source": [
    "### 2. ROO Negative Model"
   ]
  },
  {
   "cell_type": "code",
   "execution_count": null,
   "metadata": {},
   "outputs": [],
   "source": [
    "ROO_negative = smf.ols('y_negative ~  C(gender) + C(education) + C(location)', data= df_ROO_model).fit(cov_type='HC3')\n",
    "ROO_negative.summary().tables[1]"
   ]
  },
  {
   "cell_type": "code",
   "execution_count": null,
   "metadata": {},
   "outputs": [],
   "source": []
  },
  {
   "cell_type": "markdown",
   "metadata": {},
   "source": [
    "## *RO Models*"
   ]
  },
  {
   "cell_type": "code",
   "execution_count": 113,
   "metadata": {},
   "outputs": [
    {
     "data": {
      "text/html": [
       "<div>\n",
       "<style scoped>\n",
       "    .dataframe tbody tr th:only-of-type {\n",
       "        vertical-align: middle;\n",
       "    }\n",
       "\n",
       "    .dataframe tbody tr th {\n",
       "        vertical-align: top;\n",
       "    }\n",
       "\n",
       "    .dataframe thead th {\n",
       "        text-align: right;\n",
       "    }\n",
       "</style>\n",
       "<table border=\"1\" class=\"dataframe\">\n",
       "  <thead>\n",
       "    <tr style=\"text-align: right;\">\n",
       "      <th></th>\n",
       "      <th>respondent_id</th>\n",
       "      <th>age</th>\n",
       "      <th>gender</th>\n",
       "      <th>location</th>\n",
       "      <th>education</th>\n",
       "      <th>group</th>\n",
       "      <th>enrolled</th>\n",
       "      <th>last_update</th>\n",
       "      <th>level</th>\n",
       "      <th>number_check</th>\n",
       "      <th>...</th>\n",
       "      <th>post_jittery</th>\n",
       "      <th>pre_active</th>\n",
       "      <th>post_active</th>\n",
       "      <th>pre_afraid</th>\n",
       "      <th>post_afraid</th>\n",
       "      <th>y_positive</th>\n",
       "      <th>y_negative</th>\n",
       "      <th>y_net</th>\n",
       "      <th>y_post</th>\n",
       "      <th>age_bin</th>\n",
       "    </tr>\n",
       "  </thead>\n",
       "  <tbody>\n",
       "    <tr>\n",
       "      <th>2</th>\n",
       "      <td>26</td>\n",
       "      <td>25</td>\n",
       "      <td>female</td>\n",
       "      <td>United States</td>\n",
       "      <td>5</td>\n",
       "      <td>RO</td>\n",
       "      <td>2018-11-17 01:32:38.782377+00:00</td>\n",
       "      <td>2018-11-17 01:36:05.459238+00:00</td>\n",
       "      <td>7</td>\n",
       "      <td>0</td>\n",
       "      <td>...</td>\n",
       "      <td>1</td>\n",
       "      <td>0</td>\n",
       "      <td>4</td>\n",
       "      <td>0</td>\n",
       "      <td>1</td>\n",
       "      <td>24</td>\n",
       "      <td>11</td>\n",
       "      <td>13</td>\n",
       "      <td>13</td>\n",
       "      <td>20-35</td>\n",
       "    </tr>\n",
       "    <tr>\n",
       "      <th>6</th>\n",
       "      <td>30</td>\n",
       "      <td>36</td>\n",
       "      <td>male</td>\n",
       "      <td>Kenya</td>\n",
       "      <td>4</td>\n",
       "      <td>RO</td>\n",
       "      <td>2018-11-17 03:07:01.091136+00:00</td>\n",
       "      <td>2018-11-17 03:13:46.047357+00:00</td>\n",
       "      <td>7</td>\n",
       "      <td>0</td>\n",
       "      <td>...</td>\n",
       "      <td>2</td>\n",
       "      <td>0</td>\n",
       "      <td>3</td>\n",
       "      <td>0</td>\n",
       "      <td>3</td>\n",
       "      <td>24</td>\n",
       "      <td>26</td>\n",
       "      <td>-2</td>\n",
       "      <td>-2</td>\n",
       "      <td>35-50</td>\n",
       "    </tr>\n",
       "    <tr>\n",
       "      <th>21</th>\n",
       "      <td>45</td>\n",
       "      <td>42</td>\n",
       "      <td>male</td>\n",
       "      <td>United States</td>\n",
       "      <td>5</td>\n",
       "      <td>RO</td>\n",
       "      <td>2018-11-17 20:22:39.466785+00:00</td>\n",
       "      <td>2018-11-17 20:25:09.052666+00:00</td>\n",
       "      <td>7</td>\n",
       "      <td>0</td>\n",
       "      <td>...</td>\n",
       "      <td>1</td>\n",
       "      <td>0</td>\n",
       "      <td>1</td>\n",
       "      <td>0</td>\n",
       "      <td>1</td>\n",
       "      <td>18</td>\n",
       "      <td>10</td>\n",
       "      <td>8</td>\n",
       "      <td>8</td>\n",
       "      <td>35-50</td>\n",
       "    </tr>\n",
       "    <tr>\n",
       "      <th>29</th>\n",
       "      <td>53</td>\n",
       "      <td>29</td>\n",
       "      <td>male</td>\n",
       "      <td>United States</td>\n",
       "      <td>5</td>\n",
       "      <td>RO</td>\n",
       "      <td>2018-11-17 22:22:02.013427+00:00</td>\n",
       "      <td>2018-11-17 22:25:35.802046+00:00</td>\n",
       "      <td>7</td>\n",
       "      <td>0</td>\n",
       "      <td>...</td>\n",
       "      <td>1</td>\n",
       "      <td>0</td>\n",
       "      <td>1</td>\n",
       "      <td>0</td>\n",
       "      <td>1</td>\n",
       "      <td>13</td>\n",
       "      <td>11</td>\n",
       "      <td>2</td>\n",
       "      <td>2</td>\n",
       "      <td>20-35</td>\n",
       "    </tr>\n",
       "    <tr>\n",
       "      <th>61</th>\n",
       "      <td>85</td>\n",
       "      <td>31</td>\n",
       "      <td>female</td>\n",
       "      <td>United States</td>\n",
       "      <td>5</td>\n",
       "      <td>RO</td>\n",
       "      <td>2018-11-19 00:20:32.605893+00:00</td>\n",
       "      <td>2018-11-19 00:21:38.399317+00:00</td>\n",
       "      <td>7</td>\n",
       "      <td>0</td>\n",
       "      <td>...</td>\n",
       "      <td>1</td>\n",
       "      <td>0</td>\n",
       "      <td>2</td>\n",
       "      <td>0</td>\n",
       "      <td>1</td>\n",
       "      <td>15</td>\n",
       "      <td>10</td>\n",
       "      <td>5</td>\n",
       "      <td>5</td>\n",
       "      <td>20-35</td>\n",
       "    </tr>\n",
       "  </tbody>\n",
       "</table>\n",
       "<p>5 rows × 60 columns</p>\n",
       "</div>"
      ],
      "text/plain": [
       "    respondent_id  age  gender       location  education group  \\\n",
       "2              26   25  female  United States          5    RO   \n",
       "6              30   36    male          Kenya          4    RO   \n",
       "21             45   42    male  United States          5    RO   \n",
       "29             53   29    male  United States          5    RO   \n",
       "61             85   31  female  United States          5    RO   \n",
       "\n",
       "                            enrolled                       last_update  level  \\\n",
       "2   2018-11-17 01:32:38.782377+00:00  2018-11-17 01:36:05.459238+00:00      7   \n",
       "6   2018-11-17 03:07:01.091136+00:00  2018-11-17 03:13:46.047357+00:00      7   \n",
       "21  2018-11-17 20:22:39.466785+00:00  2018-11-17 20:25:09.052666+00:00      7   \n",
       "29  2018-11-17 22:22:02.013427+00:00  2018-11-17 22:25:35.802046+00:00      7   \n",
       "61  2018-11-19 00:20:32.605893+00:00  2018-11-19 00:21:38.399317+00:00      7   \n",
       "\n",
       "    number_check   ...     post_jittery  pre_active  post_active  pre_afraid  \\\n",
       "2              0   ...                1           0            4           0   \n",
       "6              0   ...                2           0            3           0   \n",
       "21             0   ...                1           0            1           0   \n",
       "29             0   ...                1           0            1           0   \n",
       "61             0   ...                1           0            2           0   \n",
       "\n",
       "    post_afraid  y_positive  y_negative  y_net  y_post  age_bin  \n",
       "2             1          24          11     13      13    20-35  \n",
       "6             3          24          26     -2      -2    35-50  \n",
       "21            1          18          10      8       8    35-50  \n",
       "29            1          13          11      2       2    20-35  \n",
       "61            1          15          10      5       5    20-35  \n",
       "\n",
       "[5 rows x 60 columns]"
      ]
     },
     "execution_count": 113,
     "metadata": {},
     "output_type": "execute_result"
    }
   ],
   "source": [
    "df_RO_model = df_RO.copy()\n",
    "df_RO_model['age_bin'] = pd.cut(df_RO_model.age, [0, 20, 35, 50, 100], labels=['0-20', '20-35', '35-50', '50-100'])\n",
    "df_RO_model.head()"
   ]
  },
  {
   "cell_type": "code",
   "execution_count": 114,
   "metadata": {},
   "outputs": [
    {
     "data": {
      "text/plain": [
       "location\n",
       "Kenya            12\n",
       "United States    11\n",
       "Name: group, dtype: int64"
      ]
     },
     "execution_count": 114,
     "metadata": {},
     "output_type": "execute_result"
    }
   ],
   "source": [
    "df_RO_model.groupby('location').group.count()"
   ]
  },
  {
   "cell_type": "markdown",
   "metadata": {},
   "source": [
    "###  1. RO Positive Model"
   ]
  },
  {
   "cell_type": "code",
   "execution_count": 115,
   "metadata": {},
   "outputs": [
    {
     "data": {
      "text/html": [
       "<table class=\"simpletable\">\n",
       "<tr>\n",
       "                <td></td>                  <th>coef</th>     <th>std err</th>      <th>z</th>      <th>P>|z|</th>  <th>[0.025</th>    <th>0.975]</th>  \n",
       "</tr>\n",
       "<tr>\n",
       "  <th>Intercept</th>                    <td>   38.0000</td> <td>    5.333</td> <td>    7.125</td> <td> 0.000</td> <td>   27.547</td> <td>   48.453</td>\n",
       "</tr>\n",
       "<tr>\n",
       "  <th>C(gender)[T.male]</th>            <td>    2.8461</td> <td>    4.740</td> <td>    0.600</td> <td> 0.548</td> <td>   -6.443</td> <td>   12.136</td>\n",
       "</tr>\n",
       "<tr>\n",
       "  <th>C(education)[T.2]</th>            <td>   -2.0012</td> <td>   21.196</td> <td>   -0.094</td> <td> 0.925</td> <td>  -43.546</td> <td>   39.543</td>\n",
       "</tr>\n",
       "<tr>\n",
       "  <th>C(education)[T.4]</th>            <td>   -4.4027</td> <td>    6.431</td> <td>   -0.685</td> <td> 0.494</td> <td>  -17.008</td> <td>    8.202</td>\n",
       "</tr>\n",
       "<tr>\n",
       "  <th>C(education)[T.5]</th>            <td>   -9.9569</td> <td>    7.957</td> <td>   -1.251</td> <td> 0.211</td> <td>  -25.553</td> <td>    5.639</td>\n",
       "</tr>\n",
       "<tr>\n",
       "  <th>C(location)[T.United States]</th> <td>   -9.9988</td> <td>    5.371</td> <td>   -1.862</td> <td> 0.063</td> <td>  -20.526</td> <td>    0.528</td>\n",
       "</tr>\n",
       "</table>"
      ],
      "text/plain": [
       "<class 'statsmodels.iolib.table.SimpleTable'>"
      ]
     },
     "execution_count": 115,
     "metadata": {},
     "output_type": "execute_result"
    }
   ],
   "source": [
    "RO_positive = smf.ols('y_positive ~  C(gender) + C(education) + C(location)', data= df_RO_model).fit(cov_type='HC3')\n",
    "RO_positive.summary().tables[1]"
   ]
  },
  {
   "cell_type": "markdown",
   "metadata": {},
   "source": [
    "### 2. RO Negative Model"
   ]
  },
  {
   "cell_type": "code",
   "execution_count": 116,
   "metadata": {},
   "outputs": [
    {
     "data": {
      "text/html": [
       "<table class=\"simpletable\">\n",
       "<tr>\n",
       "                <td></td>                  <th>coef</th>     <th>std err</th>      <th>z</th>      <th>P>|z|</th>  <th>[0.025</th>    <th>0.975]</th>  \n",
       "</tr>\n",
       "<tr>\n",
       "  <th>Intercept</th>                    <td>   12.0000</td> <td>    2.667</td> <td>    4.500</td> <td> 0.000</td> <td>    6.773</td> <td>   17.227</td>\n",
       "</tr>\n",
       "<tr>\n",
       "  <th>C(gender)[T.male]</th>            <td>    0.3929</td> <td>    2.208</td> <td>    0.178</td> <td> 0.859</td> <td>   -3.934</td> <td>    4.720</td>\n",
       "</tr>\n",
       "<tr>\n",
       "  <th>C(education)[T.2]</th>            <td>    1.1071</td> <td>    4.451</td> <td>    0.249</td> <td> 0.804</td> <td>   -7.617</td> <td>    9.832</td>\n",
       "</tr>\n",
       "<tr>\n",
       "  <th>C(education)[T.4]</th>            <td>    6.0357</td> <td>    3.024</td> <td>    1.996</td> <td> 0.046</td> <td>    0.109</td> <td>   11.963</td>\n",
       "</tr>\n",
       "<tr>\n",
       "  <th>C(education)[T.5]</th>            <td>   -0.7500</td> <td>    3.581</td> <td>   -0.209</td> <td> 0.834</td> <td>   -7.769</td> <td>    6.269</td>\n",
       "</tr>\n",
       "<tr>\n",
       "  <th>C(location)[T.United States]</th> <td>   -0.1071</td> <td>    2.169</td> <td>   -0.049</td> <td> 0.961</td> <td>   -4.358</td> <td>    4.144</td>\n",
       "</tr>\n",
       "</table>"
      ],
      "text/plain": [
       "<class 'statsmodels.iolib.table.SimpleTable'>"
      ]
     },
     "execution_count": 116,
     "metadata": {},
     "output_type": "execute_result"
    }
   ],
   "source": [
    "RO_negative = smf.ols('y_negative ~  C(gender) + C(education) + C(location)', data= df_RO_model).fit(cov_type='HC3')\n",
    "RO_negative.summary().tables[1]"
   ]
  },
  {
   "cell_type": "code",
   "execution_count": null,
   "metadata": {},
   "outputs": [],
   "source": []
  },
  {
   "cell_type": "code",
   "execution_count": null,
   "metadata": {},
   "outputs": [],
   "source": []
  },
  {
   "cell_type": "code",
   "execution_count": null,
   "metadata": {},
   "outputs": [],
   "source": []
  },
  {
   "cell_type": "code",
   "execution_count": null,
   "metadata": {},
   "outputs": [],
   "source": []
  }
 ],
 "metadata": {
  "kernelspec": {
   "display_name": "Python 3",
   "language": "python",
   "name": "python3"
  },
  "language_info": {
   "codemirror_mode": {
    "name": "ipython",
    "version": 3
   },
   "file_extension": ".py",
   "mimetype": "text/x-python",
   "name": "python",
   "nbconvert_exporter": "python",
   "pygments_lexer": "ipython3",
   "version": "3.6.2"
  }
 },
 "nbformat": 4,
 "nbformat_minor": 2
}
