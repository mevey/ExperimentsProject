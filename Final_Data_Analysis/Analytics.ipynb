{
 "cells": [
  {
   "cell_type": "code",
   "execution_count": 62,
   "metadata": {},
   "outputs": [],
   "source": [
    "## Libraries\n",
    "import pandas as pd\n",
    "import numpy as np\n",
    "import matplotlib.pyplot as plt\n",
    "import seaborn as sns\n",
    "\n",
    "import statsmodels as sm\n",
    "import statsmodels.formula.api as smf"
   ]
  },
  {
   "cell_type": "code",
   "execution_count": 63,
   "metadata": {},
   "outputs": [],
   "source": [
    "## Importing data\n",
    "path = 'experiments_data.csv'\n",
    "df = pd.read_csv(path)"
   ]
  },
  {
   "cell_type": "code",
   "execution_count": 64,
   "metadata": {},
   "outputs": [
    {
     "data": {
      "text/html": [
       "<div>\n",
       "<style scoped>\n",
       "    .dataframe tbody tr th:only-of-type {\n",
       "        vertical-align: middle;\n",
       "    }\n",
       "\n",
       "    .dataframe tbody tr th {\n",
       "        vertical-align: top;\n",
       "    }\n",
       "\n",
       "    .dataframe thead th {\n",
       "        text-align: right;\n",
       "    }\n",
       "</style>\n",
       "<table border=\"1\" class=\"dataframe\">\n",
       "  <thead>\n",
       "    <tr style=\"text-align: right;\">\n",
       "      <th></th>\n",
       "      <th>respondent_id</th>\n",
       "      <th>age</th>\n",
       "      <th>gender</th>\n",
       "      <th>location</th>\n",
       "      <th>group</th>\n",
       "      <th>enrolled</th>\n",
       "      <th>last_update</th>\n",
       "      <th>level</th>\n",
       "      <th>number_check</th>\n",
       "      <th>time_spent_in_treatment_or_control</th>\n",
       "      <th>...</th>\n",
       "      <th>pre_determined</th>\n",
       "      <th>post_determined</th>\n",
       "      <th>pre_attentive</th>\n",
       "      <th>post_attentive</th>\n",
       "      <th>pre_jittery</th>\n",
       "      <th>post_jittery</th>\n",
       "      <th>pre_active</th>\n",
       "      <th>post_active</th>\n",
       "      <th>pre_afraid</th>\n",
       "      <th>post_afraid</th>\n",
       "    </tr>\n",
       "  </thead>\n",
       "  <tbody>\n",
       "    <tr>\n",
       "      <th>0</th>\n",
       "      <td>24</td>\n",
       "      <td>26</td>\n",
       "      <td>female</td>\n",
       "      <td>United States</td>\n",
       "      <td>ROO</td>\n",
       "      <td>2018-11-17 01:18:38.708246+00:00</td>\n",
       "      <td>2018-11-17 01:21:51.608501+00:00</td>\n",
       "      <td>7</td>\n",
       "      <td>0</td>\n",
       "      <td>0.000000</td>\n",
       "      <td>...</td>\n",
       "      <td>4</td>\n",
       "      <td>4</td>\n",
       "      <td>4</td>\n",
       "      <td>3</td>\n",
       "      <td>2</td>\n",
       "      <td>0</td>\n",
       "      <td>3</td>\n",
       "      <td>2</td>\n",
       "      <td>2</td>\n",
       "      <td>2</td>\n",
       "    </tr>\n",
       "    <tr>\n",
       "      <th>1</th>\n",
       "      <td>25</td>\n",
       "      <td>25</td>\n",
       "      <td>male</td>\n",
       "      <td>United States</td>\n",
       "      <td>RO</td>\n",
       "      <td>2018-11-17 01:22:27.974986+00:00</td>\n",
       "      <td>2018-11-17 01:23:18.119645+00:00</td>\n",
       "      <td>6</td>\n",
       "      <td>0</td>\n",
       "      <td>0.000000</td>\n",
       "      <td>...</td>\n",
       "      <td>0</td>\n",
       "      <td>0</td>\n",
       "      <td>0</td>\n",
       "      <td>0</td>\n",
       "      <td>0</td>\n",
       "      <td>0</td>\n",
       "      <td>0</td>\n",
       "      <td>0</td>\n",
       "      <td>0</td>\n",
       "      <td>0</td>\n",
       "    </tr>\n",
       "    <tr>\n",
       "      <th>2</th>\n",
       "      <td>26</td>\n",
       "      <td>25</td>\n",
       "      <td>female</td>\n",
       "      <td>United States</td>\n",
       "      <td>RO</td>\n",
       "      <td>2018-11-17 01:32:38.782377+00:00</td>\n",
       "      <td>2018-11-17 01:36:05.459238+00:00</td>\n",
       "      <td>7</td>\n",
       "      <td>0</td>\n",
       "      <td>0.000000</td>\n",
       "      <td>...</td>\n",
       "      <td>0</td>\n",
       "      <td>2</td>\n",
       "      <td>0</td>\n",
       "      <td>3</td>\n",
       "      <td>0</td>\n",
       "      <td>1</td>\n",
       "      <td>0</td>\n",
       "      <td>4</td>\n",
       "      <td>0</td>\n",
       "      <td>1</td>\n",
       "    </tr>\n",
       "    <tr>\n",
       "      <th>3</th>\n",
       "      <td>27</td>\n",
       "      <td>32</td>\n",
       "      <td>male</td>\n",
       "      <td>Kenya</td>\n",
       "      <td>ROXO</td>\n",
       "      <td>2018-11-17 01:46:18.703943+00:00</td>\n",
       "      <td>2018-11-17 01:46:18.917251+00:00</td>\n",
       "      <td>2</td>\n",
       "      <td>0</td>\n",
       "      <td>0.000000</td>\n",
       "      <td>...</td>\n",
       "      <td>0</td>\n",
       "      <td>0</td>\n",
       "      <td>0</td>\n",
       "      <td>0</td>\n",
       "      <td>0</td>\n",
       "      <td>0</td>\n",
       "      <td>0</td>\n",
       "      <td>0</td>\n",
       "      <td>0</td>\n",
       "      <td>0</td>\n",
       "    </tr>\n",
       "    <tr>\n",
       "      <th>4</th>\n",
       "      <td>28</td>\n",
       "      <td>28</td>\n",
       "      <td>female</td>\n",
       "      <td>United States</td>\n",
       "      <td>ROXO</td>\n",
       "      <td>2018-11-17 01:47:34.454053+00:00</td>\n",
       "      <td>2018-11-17 01:53:51.607042+00:00</td>\n",
       "      <td>6</td>\n",
       "      <td>0</td>\n",
       "      <td>238.225232</td>\n",
       "      <td>...</td>\n",
       "      <td>5</td>\n",
       "      <td>0</td>\n",
       "      <td>3</td>\n",
       "      <td>0</td>\n",
       "      <td>1</td>\n",
       "      <td>0</td>\n",
       "      <td>4</td>\n",
       "      <td>0</td>\n",
       "      <td>2</td>\n",
       "      <td>0</td>\n",
       "    </tr>\n",
       "  </tbody>\n",
       "</table>\n",
       "<p>5 rows × 54 columns</p>\n",
       "</div>"
      ],
      "text/plain": [
       "   respondent_id  age  gender       location group  \\\n",
       "0             24   26  female  United States   ROO   \n",
       "1             25   25    male  United States    RO   \n",
       "2             26   25  female  United States    RO   \n",
       "3             27   32    male          Kenya  ROXO   \n",
       "4             28   28  female  United States  ROXO   \n",
       "\n",
       "                           enrolled                       last_update  level  \\\n",
       "0  2018-11-17 01:18:38.708246+00:00  2018-11-17 01:21:51.608501+00:00      7   \n",
       "1  2018-11-17 01:22:27.974986+00:00  2018-11-17 01:23:18.119645+00:00      6   \n",
       "2  2018-11-17 01:32:38.782377+00:00  2018-11-17 01:36:05.459238+00:00      7   \n",
       "3  2018-11-17 01:46:18.703943+00:00  2018-11-17 01:46:18.917251+00:00      2   \n",
       "4  2018-11-17 01:47:34.454053+00:00  2018-11-17 01:53:51.607042+00:00      6   \n",
       "\n",
       "   number_check  time_spent_in_treatment_or_control     ...       \\\n",
       "0             0                            0.000000     ...        \n",
       "1             0                            0.000000     ...        \n",
       "2             0                            0.000000     ...        \n",
       "3             0                            0.000000     ...        \n",
       "4             0                          238.225232     ...        \n",
       "\n",
       "   pre_determined  post_determined  pre_attentive  post_attentive  \\\n",
       "0               4                4              4               3   \n",
       "1               0                0              0               0   \n",
       "2               0                2              0               3   \n",
       "3               0                0              0               0   \n",
       "4               5                0              3               0   \n",
       "\n",
       "   pre_jittery  post_jittery  pre_active  post_active  pre_afraid  post_afraid  \n",
       "0            2             0           3            2           2            2  \n",
       "1            0             0           0            0           0            0  \n",
       "2            0             1           0            4           0            1  \n",
       "3            0             0           0            0           0            0  \n",
       "4            1             0           4            0           2            0  \n",
       "\n",
       "[5 rows x 54 columns]"
      ]
     },
     "execution_count": 64,
     "metadata": {},
     "output_type": "execute_result"
    }
   ],
   "source": [
    "df.head()"
   ]
  },
  {
   "cell_type": "code",
   "execution_count": null,
   "metadata": {},
   "outputs": [],
   "source": []
  },
  {
   "cell_type": "markdown",
   "metadata": {},
   "source": [
    "# EDA"
   ]
  },
  {
   "cell_type": "code",
   "execution_count": 65,
   "metadata": {},
   "outputs": [
    {
     "data": {
      "text/html": [
       "<div>\n",
       "<style scoped>\n",
       "    .dataframe tbody tr th:only-of-type {\n",
       "        vertical-align: middle;\n",
       "    }\n",
       "\n",
       "    .dataframe tbody tr th {\n",
       "        vertical-align: top;\n",
       "    }\n",
       "\n",
       "    .dataframe thead th {\n",
       "        text-align: right;\n",
       "    }\n",
       "</style>\n",
       "<table border=\"1\" class=\"dataframe\">\n",
       "  <thead>\n",
       "    <tr style=\"text-align: right;\">\n",
       "      <th></th>\n",
       "      <th>respondent_id</th>\n",
       "      <th>age</th>\n",
       "      <th>level</th>\n",
       "      <th>number_check</th>\n",
       "      <th>time_spent_in_treatment_or_control</th>\n",
       "      <th>pre_positive_affect</th>\n",
       "      <th>pre_negative_affect</th>\n",
       "      <th>post_positive_affect</th>\n",
       "      <th>post_negative_affect</th>\n",
       "      <th>pre_interested</th>\n",
       "      <th>...</th>\n",
       "      <th>pre_determined</th>\n",
       "      <th>post_determined</th>\n",
       "      <th>pre_attentive</th>\n",
       "      <th>post_attentive</th>\n",
       "      <th>pre_jittery</th>\n",
       "      <th>post_jittery</th>\n",
       "      <th>pre_active</th>\n",
       "      <th>post_active</th>\n",
       "      <th>pre_afraid</th>\n",
       "      <th>post_afraid</th>\n",
       "    </tr>\n",
       "  </thead>\n",
       "  <tbody>\n",
       "    <tr>\n",
       "      <th>count</th>\n",
       "      <td>216.000</td>\n",
       "      <td>216.000000</td>\n",
       "      <td>216.000000</td>\n",
       "      <td>216.000000</td>\n",
       "      <td>216.000000</td>\n",
       "      <td>216.000000</td>\n",
       "      <td>216.000000</td>\n",
       "      <td>216.000000</td>\n",
       "      <td>216.000000</td>\n",
       "      <td>216.000000</td>\n",
       "      <td>...</td>\n",
       "      <td>216.000000</td>\n",
       "      <td>216.000000</td>\n",
       "      <td>216.000000</td>\n",
       "      <td>216.000000</td>\n",
       "      <td>216.000000</td>\n",
       "      <td>216.000000</td>\n",
       "      <td>216.000000</td>\n",
       "      <td>216.000000</td>\n",
       "      <td>216.000000</td>\n",
       "      <td>216.000000</td>\n",
       "    </tr>\n",
       "    <tr>\n",
       "      <th>mean</th>\n",
       "      <td>131.500</td>\n",
       "      <td>29.518519</td>\n",
       "      <td>5.814815</td>\n",
       "      <td>1.523148</td>\n",
       "      <td>-506.799683</td>\n",
       "      <td>18.837963</td>\n",
       "      <td>11.791667</td>\n",
       "      <td>18.458333</td>\n",
       "      <td>11.356481</td>\n",
       "      <td>2.069444</td>\n",
       "      <td>...</td>\n",
       "      <td>2.083333</td>\n",
       "      <td>2.004630</td>\n",
       "      <td>1.990741</td>\n",
       "      <td>2.129630</td>\n",
       "      <td>1.115741</td>\n",
       "      <td>1.074074</td>\n",
       "      <td>1.763889</td>\n",
       "      <td>1.819444</td>\n",
       "      <td>1.222222</td>\n",
       "      <td>1.171296</td>\n",
       "    </tr>\n",
       "    <tr>\n",
       "      <th>std</th>\n",
       "      <td>62.498</td>\n",
       "      <td>11.359644</td>\n",
       "      <td>1.870944</td>\n",
       "      <td>2.885315</td>\n",
       "      <td>11847.484556</td>\n",
       "      <td>17.120004</td>\n",
       "      <td>11.448901</td>\n",
       "      <td>15.523070</td>\n",
       "      <td>10.266122</td>\n",
       "      <td>1.902212</td>\n",
       "      <td>...</td>\n",
       "      <td>1.998255</td>\n",
       "      <td>1.782336</td>\n",
       "      <td>1.904684</td>\n",
       "      <td>1.802286</td>\n",
       "      <td>1.276089</td>\n",
       "      <td>1.118169</td>\n",
       "      <td>1.777061</td>\n",
       "      <td>1.619587</td>\n",
       "      <td>1.359434</td>\n",
       "      <td>1.217435</td>\n",
       "    </tr>\n",
       "    <tr>\n",
       "      <th>min</th>\n",
       "      <td>24.000</td>\n",
       "      <td>-26.000000</td>\n",
       "      <td>2.000000</td>\n",
       "      <td>0.000000</td>\n",
       "      <td>-171805.884524</td>\n",
       "      <td>0.000000</td>\n",
       "      <td>0.000000</td>\n",
       "      <td>0.000000</td>\n",
       "      <td>0.000000</td>\n",
       "      <td>0.000000</td>\n",
       "      <td>...</td>\n",
       "      <td>0.000000</td>\n",
       "      <td>0.000000</td>\n",
       "      <td>0.000000</td>\n",
       "      <td>0.000000</td>\n",
       "      <td>0.000000</td>\n",
       "      <td>0.000000</td>\n",
       "      <td>0.000000</td>\n",
       "      <td>0.000000</td>\n",
       "      <td>0.000000</td>\n",
       "      <td>0.000000</td>\n",
       "    </tr>\n",
       "    <tr>\n",
       "      <th>25%</th>\n",
       "      <td>77.750</td>\n",
       "      <td>25.000000</td>\n",
       "      <td>5.000000</td>\n",
       "      <td>0.000000</td>\n",
       "      <td>0.000000</td>\n",
       "      <td>0.000000</td>\n",
       "      <td>0.000000</td>\n",
       "      <td>0.000000</td>\n",
       "      <td>0.000000</td>\n",
       "      <td>0.000000</td>\n",
       "      <td>...</td>\n",
       "      <td>0.000000</td>\n",
       "      <td>0.000000</td>\n",
       "      <td>0.000000</td>\n",
       "      <td>0.000000</td>\n",
       "      <td>0.000000</td>\n",
       "      <td>0.000000</td>\n",
       "      <td>0.000000</td>\n",
       "      <td>0.000000</td>\n",
       "      <td>0.000000</td>\n",
       "      <td>0.000000</td>\n",
       "    </tr>\n",
       "    <tr>\n",
       "      <th>50%</th>\n",
       "      <td>131.500</td>\n",
       "      <td>28.000000</td>\n",
       "      <td>7.000000</td>\n",
       "      <td>0.000000</td>\n",
       "      <td>0.000000</td>\n",
       "      <td>24.000000</td>\n",
       "      <td>12.000000</td>\n",
       "      <td>21.000000</td>\n",
       "      <td>10.000000</td>\n",
       "      <td>3.000000</td>\n",
       "      <td>...</td>\n",
       "      <td>2.000000</td>\n",
       "      <td>2.000000</td>\n",
       "      <td>2.000000</td>\n",
       "      <td>2.000000</td>\n",
       "      <td>1.000000</td>\n",
       "      <td>1.000000</td>\n",
       "      <td>1.500000</td>\n",
       "      <td>2.000000</td>\n",
       "      <td>1.000000</td>\n",
       "      <td>1.000000</td>\n",
       "    </tr>\n",
       "    <tr>\n",
       "      <th>75%</th>\n",
       "      <td>185.250</td>\n",
       "      <td>30.000000</td>\n",
       "      <td>7.000000</td>\n",
       "      <td>0.000000</td>\n",
       "      <td>170.969470</td>\n",
       "      <td>33.000000</td>\n",
       "      <td>21.000000</td>\n",
       "      <td>31.000000</td>\n",
       "      <td>18.000000</td>\n",
       "      <td>4.000000</td>\n",
       "      <td>...</td>\n",
       "      <td>4.000000</td>\n",
       "      <td>4.000000</td>\n",
       "      <td>4.000000</td>\n",
       "      <td>4.000000</td>\n",
       "      <td>2.000000</td>\n",
       "      <td>2.000000</td>\n",
       "      <td>3.000000</td>\n",
       "      <td>3.000000</td>\n",
       "      <td>2.000000</td>\n",
       "      <td>2.000000</td>\n",
       "    </tr>\n",
       "    <tr>\n",
       "      <th>max</th>\n",
       "      <td>239.000</td>\n",
       "      <td>99.000000</td>\n",
       "      <td>7.000000</td>\n",
       "      <td>7.000000</td>\n",
       "      <td>24735.092758</td>\n",
       "      <td>50.000000</td>\n",
       "      <td>42.000000</td>\n",
       "      <td>50.000000</td>\n",
       "      <td>41.000000</td>\n",
       "      <td>5.000000</td>\n",
       "      <td>...</td>\n",
       "      <td>5.000000</td>\n",
       "      <td>5.000000</td>\n",
       "      <td>5.000000</td>\n",
       "      <td>5.000000</td>\n",
       "      <td>5.000000</td>\n",
       "      <td>5.000000</td>\n",
       "      <td>5.000000</td>\n",
       "      <td>5.000000</td>\n",
       "      <td>5.000000</td>\n",
       "      <td>5.000000</td>\n",
       "    </tr>\n",
       "  </tbody>\n",
       "</table>\n",
       "<p>8 rows × 49 columns</p>\n",
       "</div>"
      ],
      "text/plain": [
       "       respondent_id         age       level  number_check  \\\n",
       "count        216.000  216.000000  216.000000    216.000000   \n",
       "mean         131.500   29.518519    5.814815      1.523148   \n",
       "std           62.498   11.359644    1.870944      2.885315   \n",
       "min           24.000  -26.000000    2.000000      0.000000   \n",
       "25%           77.750   25.000000    5.000000      0.000000   \n",
       "50%          131.500   28.000000    7.000000      0.000000   \n",
       "75%          185.250   30.000000    7.000000      0.000000   \n",
       "max          239.000   99.000000    7.000000      7.000000   \n",
       "\n",
       "       time_spent_in_treatment_or_control  pre_positive_affect  \\\n",
       "count                          216.000000           216.000000   \n",
       "mean                          -506.799683            18.837963   \n",
       "std                          11847.484556            17.120004   \n",
       "min                        -171805.884524             0.000000   \n",
       "25%                              0.000000             0.000000   \n",
       "50%                              0.000000            24.000000   \n",
       "75%                            170.969470            33.000000   \n",
       "max                          24735.092758            50.000000   \n",
       "\n",
       "       pre_negative_affect  post_positive_affect  post_negative_affect  \\\n",
       "count           216.000000            216.000000            216.000000   \n",
       "mean             11.791667             18.458333             11.356481   \n",
       "std              11.448901             15.523070             10.266122   \n",
       "min               0.000000              0.000000              0.000000   \n",
       "25%               0.000000              0.000000              0.000000   \n",
       "50%              12.000000             21.000000             10.000000   \n",
       "75%              21.000000             31.000000             18.000000   \n",
       "max              42.000000             50.000000             41.000000   \n",
       "\n",
       "       pre_interested     ...       pre_determined  post_determined  \\\n",
       "count      216.000000     ...           216.000000       216.000000   \n",
       "mean         2.069444     ...             2.083333         2.004630   \n",
       "std          1.902212     ...             1.998255         1.782336   \n",
       "min          0.000000     ...             0.000000         0.000000   \n",
       "25%          0.000000     ...             0.000000         0.000000   \n",
       "50%          3.000000     ...             2.000000         2.000000   \n",
       "75%          4.000000     ...             4.000000         4.000000   \n",
       "max          5.000000     ...             5.000000         5.000000   \n",
       "\n",
       "       pre_attentive  post_attentive  pre_jittery  post_jittery  pre_active  \\\n",
       "count     216.000000      216.000000   216.000000    216.000000  216.000000   \n",
       "mean        1.990741        2.129630     1.115741      1.074074    1.763889   \n",
       "std         1.904684        1.802286     1.276089      1.118169    1.777061   \n",
       "min         0.000000        0.000000     0.000000      0.000000    0.000000   \n",
       "25%         0.000000        0.000000     0.000000      0.000000    0.000000   \n",
       "50%         2.000000        2.000000     1.000000      1.000000    1.500000   \n",
       "75%         4.000000        4.000000     2.000000      2.000000    3.000000   \n",
       "max         5.000000        5.000000     5.000000      5.000000    5.000000   \n",
       "\n",
       "       post_active  pre_afraid  post_afraid  \n",
       "count   216.000000  216.000000   216.000000  \n",
       "mean      1.819444    1.222222     1.171296  \n",
       "std       1.619587    1.359434     1.217435  \n",
       "min       0.000000    0.000000     0.000000  \n",
       "25%       0.000000    0.000000     0.000000  \n",
       "50%       2.000000    1.000000     1.000000  \n",
       "75%       3.000000    2.000000     2.000000  \n",
       "max       5.000000    5.000000     5.000000  \n",
       "\n",
       "[8 rows x 49 columns]"
      ]
     },
     "execution_count": 65,
     "metadata": {},
     "output_type": "execute_result"
    }
   ],
   "source": [
    "df.describe()"
   ]
  },
  {
   "cell_type": "code",
   "execution_count": null,
   "metadata": {},
   "outputs": [],
   "source": []
  },
  {
   "cell_type": "code",
   "execution_count": 66,
   "metadata": {},
   "outputs": [
    {
     "data": {
      "text/plain": [
       "Text(0.5,1,'Participant Age Distribution')"
      ]
     },
     "execution_count": 66,
     "metadata": {},
     "output_type": "execute_result"
    },
    {
     "data": {
      "image/png": "[encoded data removed]",
      "text/plain": [
       "<Figure size 432x288 with 1 Axes>"
      ]
     },
     "metadata": {},
     "output_type": "display_data"
    }
   ],
   "source": [
    "# plotting distribution of age\n",
    "df.age.hist(grid=False)\n",
    "plt.xlabel('Participants Age')\n",
    "plt.ylabel('Frequency')\n",
    "plt.title('Participant Age Distribution')"
   ]
  },
  {
   "cell_type": "code",
   "execution_count": null,
   "metadata": {},
   "outputs": [],
   "source": []
  },
  {
   "cell_type": "code",
   "execution_count": 67,
   "metadata": {},
   "outputs": [
    {
     "data": {
      "text/plain": [
       "Text(0.5,1,'Participant Group Distribution')"
      ]
     },
     "execution_count": 67,
     "metadata": {},
     "output_type": "execute_result"
    },
    {
     "data": {
      "image/png": "[encoded data removed]",
      "text/plain": [
       "<Figure size 432x288 with 1 Axes>"
      ]
     },
     "metadata": {},
     "output_type": "display_data"
    }
   ],
   "source": [
    "# plotting distribution of groups\n",
    "ratio_of_groups = df['group'].value_counts()/sum(df['group'].value_counts())\n",
    "ratio_of_groups.plot(kind='bar')\n",
    "plt.xlabel('Group Assignment')\n",
    "plt.ylabel('Frequency')\n",
    "plt.title('Participant Group Distribution')"
   ]
  },
  {
   "cell_type": "code",
   "execution_count": 68,
   "metadata": {},
   "outputs": [
    {
     "data": {
      "text/html": [
       "<div>\n",
       "<style scoped>\n",
       "    .dataframe tbody tr th:only-of-type {\n",
       "        vertical-align: middle;\n",
       "    }\n",
       "\n",
       "    .dataframe tbody tr th {\n",
       "        vertical-align: top;\n",
       "    }\n",
       "\n",
       "    .dataframe thead th {\n",
       "        text-align: right;\n",
       "    }\n",
       "</style>\n",
       "<table border=\"1\" class=\"dataframe\">\n",
       "  <thead>\n",
       "    <tr style=\"text-align: right;\">\n",
       "      <th></th>\n",
       "      <th>respondent_id</th>\n",
       "      <th>age</th>\n",
       "      <th>gender</th>\n",
       "      <th>location</th>\n",
       "      <th>group</th>\n",
       "      <th>enrolled</th>\n",
       "      <th>last_update</th>\n",
       "      <th>level</th>\n",
       "      <th>number_check</th>\n",
       "      <th>time_spent_in_treatment_or_control</th>\n",
       "      <th>...</th>\n",
       "      <th>pre_determined</th>\n",
       "      <th>post_determined</th>\n",
       "      <th>pre_attentive</th>\n",
       "      <th>post_attentive</th>\n",
       "      <th>pre_jittery</th>\n",
       "      <th>post_jittery</th>\n",
       "      <th>pre_active</th>\n",
       "      <th>post_active</th>\n",
       "      <th>pre_afraid</th>\n",
       "      <th>post_afraid</th>\n",
       "    </tr>\n",
       "  </thead>\n",
       "  <tbody>\n",
       "    <tr>\n",
       "      <th>0</th>\n",
       "      <td>24</td>\n",
       "      <td>26</td>\n",
       "      <td>female</td>\n",
       "      <td>United States</td>\n",
       "      <td>ROO</td>\n",
       "      <td>2018-11-17 01:18:38.708246+00:00</td>\n",
       "      <td>2018-11-17 01:21:51.608501+00:00</td>\n",
       "      <td>7</td>\n",
       "      <td>0</td>\n",
       "      <td>0.000000</td>\n",
       "      <td>...</td>\n",
       "      <td>4</td>\n",
       "      <td>4</td>\n",
       "      <td>4</td>\n",
       "      <td>3</td>\n",
       "      <td>2</td>\n",
       "      <td>0</td>\n",
       "      <td>3</td>\n",
       "      <td>2</td>\n",
       "      <td>2</td>\n",
       "      <td>2</td>\n",
       "    </tr>\n",
       "    <tr>\n",
       "      <th>1</th>\n",
       "      <td>25</td>\n",
       "      <td>25</td>\n",
       "      <td>male</td>\n",
       "      <td>United States</td>\n",
       "      <td>RO</td>\n",
       "      <td>2018-11-17 01:22:27.974986+00:00</td>\n",
       "      <td>2018-11-17 01:23:18.119645+00:00</td>\n",
       "      <td>6</td>\n",
       "      <td>0</td>\n",
       "      <td>0.000000</td>\n",
       "      <td>...</td>\n",
       "      <td>0</td>\n",
       "      <td>0</td>\n",
       "      <td>0</td>\n",
       "      <td>0</td>\n",
       "      <td>0</td>\n",
       "      <td>0</td>\n",
       "      <td>0</td>\n",
       "      <td>0</td>\n",
       "      <td>0</td>\n",
       "      <td>0</td>\n",
       "    </tr>\n",
       "    <tr>\n",
       "      <th>2</th>\n",
       "      <td>26</td>\n",
       "      <td>25</td>\n",
       "      <td>female</td>\n",
       "      <td>United States</td>\n",
       "      <td>RO</td>\n",
       "      <td>2018-11-17 01:32:38.782377+00:00</td>\n",
       "      <td>2018-11-17 01:36:05.459238+00:00</td>\n",
       "      <td>7</td>\n",
       "      <td>0</td>\n",
       "      <td>0.000000</td>\n",
       "      <td>...</td>\n",
       "      <td>0</td>\n",
       "      <td>2</td>\n",
       "      <td>0</td>\n",
       "      <td>3</td>\n",
       "      <td>0</td>\n",
       "      <td>1</td>\n",
       "      <td>0</td>\n",
       "      <td>4</td>\n",
       "      <td>0</td>\n",
       "      <td>1</td>\n",
       "    </tr>\n",
       "    <tr>\n",
       "      <th>3</th>\n",
       "      <td>27</td>\n",
       "      <td>32</td>\n",
       "      <td>male</td>\n",
       "      <td>Kenya</td>\n",
       "      <td>ROXO</td>\n",
       "      <td>2018-11-17 01:46:18.703943+00:00</td>\n",
       "      <td>2018-11-17 01:46:18.917251+00:00</td>\n",
       "      <td>2</td>\n",
       "      <td>0</td>\n",
       "      <td>0.000000</td>\n",
       "      <td>...</td>\n",
       "      <td>0</td>\n",
       "      <td>0</td>\n",
       "      <td>0</td>\n",
       "      <td>0</td>\n",
       "      <td>0</td>\n",
       "      <td>0</td>\n",
       "      <td>0</td>\n",
       "      <td>0</td>\n",
       "      <td>0</td>\n",
       "      <td>0</td>\n",
       "    </tr>\n",
       "    <tr>\n",
       "      <th>4</th>\n",
       "      <td>28</td>\n",
       "      <td>28</td>\n",
       "      <td>female</td>\n",
       "      <td>United States</td>\n",
       "      <td>ROXO</td>\n",
       "      <td>2018-11-17 01:47:34.454053+00:00</td>\n",
       "      <td>2018-11-17 01:53:51.607042+00:00</td>\n",
       "      <td>6</td>\n",
       "      <td>0</td>\n",
       "      <td>238.225232</td>\n",
       "      <td>...</td>\n",
       "      <td>5</td>\n",
       "      <td>0</td>\n",
       "      <td>3</td>\n",
       "      <td>0</td>\n",
       "      <td>1</td>\n",
       "      <td>0</td>\n",
       "      <td>4</td>\n",
       "      <td>0</td>\n",
       "      <td>2</td>\n",
       "      <td>0</td>\n",
       "    </tr>\n",
       "  </tbody>\n",
       "</table>\n",
       "<p>5 rows × 54 columns</p>\n",
       "</div>"
      ],
      "text/plain": [
       "   respondent_id  age  gender       location group  \\\n",
       "0             24   26  female  United States   ROO   \n",
       "1             25   25    male  United States    RO   \n",
       "2             26   25  female  United States    RO   \n",
       "3             27   32    male          Kenya  ROXO   \n",
       "4             28   28  female  United States  ROXO   \n",
       "\n",
       "                           enrolled                       last_update  level  \\\n",
       "0  2018-11-17 01:18:38.708246+00:00  2018-11-17 01:21:51.608501+00:00      7   \n",
       "1  2018-11-17 01:22:27.974986+00:00  2018-11-17 01:23:18.119645+00:00      6   \n",
       "2  2018-11-17 01:32:38.782377+00:00  2018-11-17 01:36:05.459238+00:00      7   \n",
       "3  2018-11-17 01:46:18.703943+00:00  2018-11-17 01:46:18.917251+00:00      2   \n",
       "4  2018-11-17 01:47:34.454053+00:00  2018-11-17 01:53:51.607042+00:00      6   \n",
       "\n",
       "   number_check  time_spent_in_treatment_or_control     ...       \\\n",
       "0             0                            0.000000     ...        \n",
       "1             0                            0.000000     ...        \n",
       "2             0                            0.000000     ...        \n",
       "3             0                            0.000000     ...        \n",
       "4             0                          238.225232     ...        \n",
       "\n",
       "   pre_determined  post_determined  pre_attentive  post_attentive  \\\n",
       "0               4                4              4               3   \n",
       "1               0                0              0               0   \n",
       "2               0                2              0               3   \n",
       "3               0                0              0               0   \n",
       "4               5                0              3               0   \n",
       "\n",
       "   pre_jittery  post_jittery  pre_active  post_active  pre_afraid  post_afraid  \n",
       "0            2             0           3            2           2            2  \n",
       "1            0             0           0            0           0            0  \n",
       "2            0             1           0            4           0            1  \n",
       "3            0             0           0            0           0            0  \n",
       "4            1             0           4            0           2            0  \n",
       "\n",
       "[5 rows x 54 columns]"
      ]
     },
     "execution_count": 68,
     "metadata": {},
     "output_type": "execute_result"
    }
   ],
   "source": [
    "df.head()"
   ]
  },
  {
   "cell_type": "code",
   "execution_count": null,
   "metadata": {},
   "outputs": [],
   "source": []
  },
  {
   "cell_type": "code",
   "execution_count": null,
   "metadata": {},
   "outputs": [],
   "source": []
  },
  {
   "cell_type": "code",
   "execution_count": 69,
   "metadata": {},
   "outputs": [],
   "source": [
    "## Looking into Attrition"
   ]
  },
  {
   "cell_type": "code",
   "execution_count": 70,
   "metadata": {},
   "outputs": [],
   "source": [
    "df_ROXO = df[(df.group.isin(['ROXO']))]"
   ]
  },
  {
   "cell_type": "code",
   "execution_count": 54,
   "metadata": {},
   "outputs": [
    {
     "data": {
      "text/html": [
       "<div>\n",
       "<style scoped>\n",
       "    .dataframe tbody tr th:only-of-type {\n",
       "        vertical-align: middle;\n",
       "    }\n",
       "\n",
       "    .dataframe tbody tr th {\n",
       "        vertical-align: top;\n",
       "    }\n",
       "\n",
       "    .dataframe thead th {\n",
       "        text-align: right;\n",
       "    }\n",
       "</style>\n",
       "<table border=\"1\" class=\"dataframe\">\n",
       "  <thead>\n",
       "    <tr style=\"text-align: right;\">\n",
       "      <th></th>\n",
       "      <th>respondent_id</th>\n",
       "      <th>age</th>\n",
       "      <th>location</th>\n",
       "      <th>group</th>\n",
       "      <th>enrolled</th>\n",
       "      <th>last_update</th>\n",
       "      <th>level</th>\n",
       "      <th>number_check</th>\n",
       "      <th>time_spent_in_treatment_or_control</th>\n",
       "      <th>pre_positive_affect</th>\n",
       "      <th>...</th>\n",
       "      <th>pre_determined</th>\n",
       "      <th>post_determined</th>\n",
       "      <th>pre_attentive</th>\n",
       "      <th>post_attentive</th>\n",
       "      <th>pre_jittery</th>\n",
       "      <th>post_jittery</th>\n",
       "      <th>pre_active</th>\n",
       "      <th>post_active</th>\n",
       "      <th>pre_afraid</th>\n",
       "      <th>post_afraid</th>\n",
       "    </tr>\n",
       "    <tr>\n",
       "      <th>gender</th>\n",
       "      <th></th>\n",
       "      <th></th>\n",
       "      <th></th>\n",
       "      <th></th>\n",
       "      <th></th>\n",
       "      <th></th>\n",
       "      <th></th>\n",
       "      <th></th>\n",
       "      <th></th>\n",
       "      <th></th>\n",
       "      <th></th>\n",
       "      <th></th>\n",
       "      <th></th>\n",
       "      <th></th>\n",
       "      <th></th>\n",
       "      <th></th>\n",
       "      <th></th>\n",
       "      <th></th>\n",
       "      <th></th>\n",
       "      <th></th>\n",
       "      <th></th>\n",
       "    </tr>\n",
       "  </thead>\n",
       "  <tbody>\n",
       "    <tr>\n",
       "      <th>female</th>\n",
       "      <td>33</td>\n",
       "      <td>33</td>\n",
       "      <td>33</td>\n",
       "      <td>33</td>\n",
       "      <td>33</td>\n",
       "      <td>33</td>\n",
       "      <td>33</td>\n",
       "      <td>33</td>\n",
       "      <td>33</td>\n",
       "      <td>33</td>\n",
       "      <td>...</td>\n",
       "      <td>33</td>\n",
       "      <td>33</td>\n",
       "      <td>33</td>\n",
       "      <td>33</td>\n",
       "      <td>33</td>\n",
       "      <td>33</td>\n",
       "      <td>33</td>\n",
       "      <td>33</td>\n",
       "      <td>33</td>\n",
       "      <td>33</td>\n",
       "    </tr>\n",
       "    <tr>\n",
       "      <th>male</th>\n",
       "      <td>48</td>\n",
       "      <td>48</td>\n",
       "      <td>48</td>\n",
       "      <td>48</td>\n",
       "      <td>48</td>\n",
       "      <td>48</td>\n",
       "      <td>48</td>\n",
       "      <td>48</td>\n",
       "      <td>48</td>\n",
       "      <td>48</td>\n",
       "      <td>...</td>\n",
       "      <td>48</td>\n",
       "      <td>48</td>\n",
       "      <td>48</td>\n",
       "      <td>48</td>\n",
       "      <td>48</td>\n",
       "      <td>48</td>\n",
       "      <td>48</td>\n",
       "      <td>48</td>\n",
       "      <td>48</td>\n",
       "      <td>48</td>\n",
       "    </tr>\n",
       "  </tbody>\n",
       "</table>\n",
       "<p>2 rows × 53 columns</p>\n",
       "</div>"
      ],
      "text/plain": [
       "        respondent_id  age  location  group  enrolled  last_update  level  \\\n",
       "gender                                                                      \n",
       "female             33   33        33     33        33           33     33   \n",
       "male               48   48        48     48        48           48     48   \n",
       "\n",
       "        number_check  time_spent_in_treatment_or_control  pre_positive_affect  \\\n",
       "gender                                                                          \n",
       "female            33                                  33                   33   \n",
       "male              48                                  48                   48   \n",
       "\n",
       "           ...       pre_determined  post_determined  pre_attentive  \\\n",
       "gender     ...                                                        \n",
       "female     ...                   33               33             33   \n",
       "male       ...                   48               48             48   \n",
       "\n",
       "        post_attentive  pre_jittery  post_jittery  pre_active  post_active  \\\n",
       "gender                                                                       \n",
       "female              33           33            33          33           33   \n",
       "male                48           48            48          48           48   \n",
       "\n",
       "        pre_afraid  post_afraid  \n",
       "gender                           \n",
       "female          33           33  \n",
       "male            48           48  \n",
       "\n",
       "[2 rows x 53 columns]"
      ]
     },
     "execution_count": 54,
     "metadata": {},
     "output_type": "execute_result"
    }
   ],
   "source": [
    "df_ROXO.groupby('gender').count()"
   ]
  },
  {
   "cell_type": "code",
   "execution_count": 55,
   "metadata": {},
   "outputs": [],
   "source": [
    "df_ROXO_v1 = df[((df.group.isin(['ROXO'])) & (df.level == 7))]"
   ]
  },
  {
   "cell_type": "code",
   "execution_count": 56,
   "metadata": {},
   "outputs": [
    {
     "data": {
      "text/html": [
       "<div>\n",
       "<style scoped>\n",
       "    .dataframe tbody tr th:only-of-type {\n",
       "        vertical-align: middle;\n",
       "    }\n",
       "\n",
       "    .dataframe tbody tr th {\n",
       "        vertical-align: top;\n",
       "    }\n",
       "\n",
       "    .dataframe thead th {\n",
       "        text-align: right;\n",
       "    }\n",
       "</style>\n",
       "<table border=\"1\" class=\"dataframe\">\n",
       "  <thead>\n",
       "    <tr style=\"text-align: right;\">\n",
       "      <th></th>\n",
       "      <th>respondent_id</th>\n",
       "      <th>age</th>\n",
       "      <th>location</th>\n",
       "      <th>group</th>\n",
       "      <th>enrolled</th>\n",
       "      <th>last_update</th>\n",
       "      <th>level</th>\n",
       "      <th>number_check</th>\n",
       "      <th>time_spent_in_treatment_or_control</th>\n",
       "      <th>pre_positive_affect</th>\n",
       "      <th>...</th>\n",
       "      <th>pre_determined</th>\n",
       "      <th>post_determined</th>\n",
       "      <th>pre_attentive</th>\n",
       "      <th>post_attentive</th>\n",
       "      <th>pre_jittery</th>\n",
       "      <th>post_jittery</th>\n",
       "      <th>pre_active</th>\n",
       "      <th>post_active</th>\n",
       "      <th>pre_afraid</th>\n",
       "      <th>post_afraid</th>\n",
       "    </tr>\n",
       "    <tr>\n",
       "      <th>gender</th>\n",
       "      <th></th>\n",
       "      <th></th>\n",
       "      <th></th>\n",
       "      <th></th>\n",
       "      <th></th>\n",
       "      <th></th>\n",
       "      <th></th>\n",
       "      <th></th>\n",
       "      <th></th>\n",
       "      <th></th>\n",
       "      <th></th>\n",
       "      <th></th>\n",
       "      <th></th>\n",
       "      <th></th>\n",
       "      <th></th>\n",
       "      <th></th>\n",
       "      <th></th>\n",
       "      <th></th>\n",
       "      <th></th>\n",
       "      <th></th>\n",
       "      <th></th>\n",
       "    </tr>\n",
       "  </thead>\n",
       "  <tbody>\n",
       "    <tr>\n",
       "      <th>female</th>\n",
       "      <td>16</td>\n",
       "      <td>16</td>\n",
       "      <td>16</td>\n",
       "      <td>16</td>\n",
       "      <td>16</td>\n",
       "      <td>16</td>\n",
       "      <td>16</td>\n",
       "      <td>16</td>\n",
       "      <td>16</td>\n",
       "      <td>16</td>\n",
       "      <td>...</td>\n",
       "      <td>16</td>\n",
       "      <td>16</td>\n",
       "      <td>16</td>\n",
       "      <td>16</td>\n",
       "      <td>16</td>\n",
       "      <td>16</td>\n",
       "      <td>16</td>\n",
       "      <td>16</td>\n",
       "      <td>16</td>\n",
       "      <td>16</td>\n",
       "    </tr>\n",
       "    <tr>\n",
       "      <th>male</th>\n",
       "      <td>30</td>\n",
       "      <td>30</td>\n",
       "      <td>30</td>\n",
       "      <td>30</td>\n",
       "      <td>30</td>\n",
       "      <td>30</td>\n",
       "      <td>30</td>\n",
       "      <td>30</td>\n",
       "      <td>30</td>\n",
       "      <td>30</td>\n",
       "      <td>...</td>\n",
       "      <td>30</td>\n",
       "      <td>30</td>\n",
       "      <td>30</td>\n",
       "      <td>30</td>\n",
       "      <td>30</td>\n",
       "      <td>30</td>\n",
       "      <td>30</td>\n",
       "      <td>30</td>\n",
       "      <td>30</td>\n",
       "      <td>30</td>\n",
       "    </tr>\n",
       "  </tbody>\n",
       "</table>\n",
       "<p>2 rows × 53 columns</p>\n",
       "</div>"
      ],
      "text/plain": [
       "        respondent_id  age  location  group  enrolled  last_update  level  \\\n",
       "gender                                                                      \n",
       "female             16   16        16     16        16           16     16   \n",
       "male               30   30        30     30        30           30     30   \n",
       "\n",
       "        number_check  time_spent_in_treatment_or_control  pre_positive_affect  \\\n",
       "gender                                                                          \n",
       "female            16                                  16                   16   \n",
       "male              30                                  30                   30   \n",
       "\n",
       "           ...       pre_determined  post_determined  pre_attentive  \\\n",
       "gender     ...                                                        \n",
       "female     ...                   16               16             16   \n",
       "male       ...                   30               30             30   \n",
       "\n",
       "        post_attentive  pre_jittery  post_jittery  pre_active  post_active  \\\n",
       "gender                                                                       \n",
       "female              16           16            16          16           16   \n",
       "male                30           30            30          30           30   \n",
       "\n",
       "        pre_afraid  post_afraid  \n",
       "gender                           \n",
       "female          16           16  \n",
       "male            30           30  \n",
       "\n",
       "[2 rows x 53 columns]"
      ]
     },
     "execution_count": 56,
     "metadata": {},
     "output_type": "execute_result"
    }
   ],
   "source": [
    "df_ROXO_v1.groupby('gender').count()"
   ]
  },
  {
   "cell_type": "code",
   "execution_count": null,
   "metadata": {},
   "outputs": [],
   "source": []
  },
  {
   "cell_type": "code",
   "execution_count": null,
   "metadata": {},
   "outputs": [],
   "source": []
  },
  {
   "cell_type": "code",
   "execution_count": null,
   "metadata": {},
   "outputs": [],
   "source": []
  },
  {
   "cell_type": "markdown",
   "metadata": {},
   "source": [
    "# Data Cleaning"
   ]
  },
  {
   "cell_type": "code",
   "execution_count": 77,
   "metadata": {},
   "outputs": [],
   "source": [
    "## Remove age 99, 1"
   ]
  },
  {
   "cell_type": "code",
   "execution_count": 84,
   "metadata": {},
   "outputs": [],
   "source": [
    "df = df[df.age != 99]\n",
    "df = df[df.age != 1]"
   ]
  },
  {
   "cell_type": "code",
   "execution_count": 87,
   "metadata": {},
   "outputs": [],
   "source": [
    "## Change -26 age value to 26. The person completed the survey might be a mistake in entry."
   ]
  },
  {
   "cell_type": "code",
   "execution_count": 89,
   "metadata": {},
   "outputs": [],
   "source": [
    "df['age'] = np.where(df['age']== -26, 26, df['age'])"
   ]
  },
  {
   "cell_type": "code",
   "execution_count": null,
   "metadata": {},
   "outputs": [],
   "source": []
  },
  {
   "cell_type": "markdown",
   "metadata": {},
   "source": [
    "Notes:\n",
    "* 1. Remove people assigned to treatment but did not get the correct number check and who do not get to level 7\n",
    "* 2. Remove people in the control group who did not get to level 7"
   ]
  },
  {
   "cell_type": "code",
   "execution_count": null,
   "metadata": {},
   "outputs": [],
   "source": []
  },
  {
   "cell_type": "markdown",
   "metadata": {},
   "source": [
    "### 1"
   ]
  },
  {
   "cell_type": "code",
   "execution_count": 95,
   "metadata": {},
   "outputs": [],
   "source": [
    "df_ROXO = df[((df.group.isin(['ROXO'])) & (df.level == 7))]"
   ]
  },
  {
   "cell_type": "code",
   "execution_count": 96,
   "metadata": {},
   "outputs": [],
   "source": [
    "df_RXO = df[((df.group.isin(['RXO'])) &  (df.level == 7))]"
   ]
  },
  {
   "cell_type": "code",
   "execution_count": null,
   "metadata": {},
   "outputs": [],
   "source": []
  },
  {
   "cell_type": "markdown",
   "metadata": {},
   "source": [
    "### 2."
   ]
  },
  {
   "cell_type": "code",
   "execution_count": 97,
   "metadata": {},
   "outputs": [],
   "source": [
    "df_ROO =  df[((df.group.isin(['ROO'])) & (df.level == 7) ) ]"
   ]
  },
  {
   "cell_type": "code",
   "execution_count": 98,
   "metadata": {},
   "outputs": [],
   "source": [
    "df_RO = df[((df.group.isin(['RO'])) & (df.level == 7) ) ]"
   ]
  },
  {
   "cell_type": "code",
   "execution_count": null,
   "metadata": {},
   "outputs": [],
   "source": []
  },
  {
   "cell_type": "code",
   "execution_count": null,
   "metadata": {},
   "outputs": [],
   "source": []
  },
  {
   "cell_type": "code",
   "execution_count": 99,
   "metadata": {},
   "outputs": [],
   "source": [
    "## Calculating Treatment effect, y"
   ]
  },
  {
   "cell_type": "code",
   "execution_count": 103,
   "metadata": {
    "scrolled": true
   },
   "outputs": [
    {
     "name": "stderr",
     "output_type": "stream",
     "text": [
      "C:\\Users\\hamsh\\Anaconda3\\lib\\site-packages\\ipykernel_launcher.py:1: SettingWithCopyWarning: \n",
      "A value is trying to be set on a copy of a slice from a DataFrame.\n",
      "Try using .loc[row_indexer,col_indexer] = value instead\n",
      "\n",
      "See the caveats in the documentation: http://pandas.pydata.org/pandas-docs/stable/indexing.html#indexing-view-versus-copy\n",
      "  \"\"\"Entry point for launching an IPython kernel.\n",
      "C:\\Users\\hamsh\\Anaconda3\\lib\\site-packages\\ipykernel_launcher.py:2: SettingWithCopyWarning: \n",
      "A value is trying to be set on a copy of a slice from a DataFrame.\n",
      "Try using .loc[row_indexer,col_indexer] = value instead\n",
      "\n",
      "See the caveats in the documentation: http://pandas.pydata.org/pandas-docs/stable/indexing.html#indexing-view-versus-copy\n",
      "  \n",
      "C:\\Users\\hamsh\\Anaconda3\\lib\\site-packages\\ipykernel_launcher.py:3: SettingWithCopyWarning: \n",
      "A value is trying to be set on a copy of a slice from a DataFrame.\n",
      "Try using .loc[row_indexer,col_indexer] = value instead\n",
      "\n",
      "See the caveats in the documentation: http://pandas.pydata.org/pandas-docs/stable/indexing.html#indexing-view-versus-copy\n",
      "  This is separate from the ipykernel package so we can avoid doing imports until\n",
      "C:\\Users\\hamsh\\Anaconda3\\lib\\site-packages\\ipykernel_launcher.py:4: SettingWithCopyWarning: \n",
      "A value is trying to be set on a copy of a slice from a DataFrame.\n",
      "Try using .loc[row_indexer,col_indexer] = value instead\n",
      "\n",
      "See the caveats in the documentation: http://pandas.pydata.org/pandas-docs/stable/indexing.html#indexing-view-versus-copy\n",
      "  after removing the cwd from sys.path.\n",
      "C:\\Users\\hamsh\\Anaconda3\\lib\\site-packages\\ipykernel_launcher.py:7: SettingWithCopyWarning: \n",
      "A value is trying to be set on a copy of a slice from a DataFrame.\n",
      "Try using .loc[row_indexer,col_indexer] = value instead\n",
      "\n",
      "See the caveats in the documentation: http://pandas.pydata.org/pandas-docs/stable/indexing.html#indexing-view-versus-copy\n",
      "  import sys\n",
      "C:\\Users\\hamsh\\Anaconda3\\lib\\site-packages\\ipykernel_launcher.py:8: SettingWithCopyWarning: \n",
      "A value is trying to be set on a copy of a slice from a DataFrame.\n",
      "Try using .loc[row_indexer,col_indexer] = value instead\n",
      "\n",
      "See the caveats in the documentation: http://pandas.pydata.org/pandas-docs/stable/indexing.html#indexing-view-versus-copy\n",
      "  \n",
      "C:\\Users\\hamsh\\Anaconda3\\lib\\site-packages\\ipykernel_launcher.py:9: SettingWithCopyWarning: \n",
      "A value is trying to be set on a copy of a slice from a DataFrame.\n",
      "Try using .loc[row_indexer,col_indexer] = value instead\n",
      "\n",
      "See the caveats in the documentation: http://pandas.pydata.org/pandas-docs/stable/indexing.html#indexing-view-versus-copy\n",
      "  if __name__ == '__main__':\n",
      "C:\\Users\\hamsh\\Anaconda3\\lib\\site-packages\\ipykernel_launcher.py:10: SettingWithCopyWarning: \n",
      "A value is trying to be set on a copy of a slice from a DataFrame.\n",
      "Try using .loc[row_indexer,col_indexer] = value instead\n",
      "\n",
      "See the caveats in the documentation: http://pandas.pydata.org/pandas-docs/stable/indexing.html#indexing-view-versus-copy\n",
      "  # Remove the CWD from sys.path while we load stuff.\n",
      "C:\\Users\\hamsh\\Anaconda3\\lib\\site-packages\\ipykernel_launcher.py:13: SettingWithCopyWarning: \n",
      "A value is trying to be set on a copy of a slice from a DataFrame.\n",
      "Try using .loc[row_indexer,col_indexer] = value instead\n",
      "\n",
      "See the caveats in the documentation: http://pandas.pydata.org/pandas-docs/stable/indexing.html#indexing-view-versus-copy\n",
      "  del sys.path[0]\n",
      "C:\\Users\\hamsh\\Anaconda3\\lib\\site-packages\\ipykernel_launcher.py:14: SettingWithCopyWarning: \n",
      "A value is trying to be set on a copy of a slice from a DataFrame.\n",
      "Try using .loc[row_indexer,col_indexer] = value instead\n",
      "\n",
      "See the caveats in the documentation: http://pandas.pydata.org/pandas-docs/stable/indexing.html#indexing-view-versus-copy\n",
      "  \n",
      "C:\\Users\\hamsh\\Anaconda3\\lib\\site-packages\\ipykernel_launcher.py:15: SettingWithCopyWarning: \n",
      "A value is trying to be set on a copy of a slice from a DataFrame.\n",
      "Try using .loc[row_indexer,col_indexer] = value instead\n",
      "\n",
      "See the caveats in the documentation: http://pandas.pydata.org/pandas-docs/stable/indexing.html#indexing-view-versus-copy\n",
      "  from ipykernel import kernelapp as app\n",
      "C:\\Users\\hamsh\\Anaconda3\\lib\\site-packages\\ipykernel_launcher.py:16: SettingWithCopyWarning: \n",
      "A value is trying to be set on a copy of a slice from a DataFrame.\n",
      "Try using .loc[row_indexer,col_indexer] = value instead\n",
      "\n",
      "See the caveats in the documentation: http://pandas.pydata.org/pandas-docs/stable/indexing.html#indexing-view-versus-copy\n",
      "  app.launch_new_instance()\n"
     ]
    }
   ],
   "source": [
    "df_ROXO['y_positive'] = df_ROXO['post_positive_affect'] -  df_ROXO['pre_positive_affect']\n",
    "df_RXO['y_positive'] = df_RXO['post_positive_affect'] -  df_RXO['pre_positive_affect']\n",
    "df_ROO['y_positive'] = df_ROO['post_positive_affect'] -  df_ROO['pre_positive_affect']\n",
    "df_RO['y_positive'] = df_RO['post_positive_affect'] -  df_RO['pre_positive_affect']\n",
    "\n",
    "df_ROXO['y_negative'] = df_ROXO['post_negative_affect'] -  df_ROXO['pre_negative_affect']\n",
    "df_RXO['y_negative'] = df_RXO['post_negative_affect'] -  df_RXO['pre_negative_affect']\n",
    "df_ROO['y_negative'] = df_ROO['post_negative_affect'] -  df_ROO['pre_negative_affect']\n",
    "df_RO['y_negative'] = df_RO['post_negative_affect'] -  df_RO['pre_negative_affect']\n",
    "\n",
    "\n",
    "df_ROXO['y_net'] = df_ROXO['y_positive'] -  df_ROXO['y_negative']\n",
    "df_RXO['y_net'] = df_RXO['y_positive'] -  df_RXO['y_negative']\n",
    "df_ROO['y_net'] = df_ROO['y_positive'] -  df_ROO['y_negative']\n",
    "df_RO['y_net'] = df_RO['y_positive'] -  df_RO['y_negative']\n"
   ]
  },
  {
   "cell_type": "code",
   "execution_count": null,
   "metadata": {},
   "outputs": [],
   "source": []
  },
  {
   "cell_type": "code",
   "execution_count": null,
   "metadata": {},
   "outputs": [],
   "source": []
  },
  {
   "cell_type": "code",
   "execution_count": 104,
   "metadata": {},
   "outputs": [],
   "source": [
    "## Recombining all the dataframes\n",
    "df_clean = pd.concat([df_RO, df_ROO, df_ROXO, df_RXO])"
   ]
  },
  {
   "cell_type": "code",
   "execution_count": null,
   "metadata": {},
   "outputs": [],
   "source": []
  },
  {
   "cell_type": "markdown",
   "metadata": {},
   "source": [
    "# Analysis"
   ]
  },
  {
   "cell_type": "code",
   "execution_count": 111,
   "metadata": {},
   "outputs": [
    {
     "data": {
      "text/plain": [
       "group\n",
       "RO      13.043478\n",
       "ROO      2.771930\n",
       "ROXO    -4.413043\n",
       "RXO      1.250000\n",
       "Name: y_net, dtype: float64"
      ]
     },
     "execution_count": 111,
     "metadata": {},
     "output_type": "execute_result"
    }
   ],
   "source": [
    "df_clean.groupby('group')['y_net'].mean()"
   ]
  },
  {
   "cell_type": "code",
   "execution_count": null,
   "metadata": {},
   "outputs": [],
   "source": []
  },
  {
   "cell_type": "code",
   "execution_count": null,
   "metadata": {},
   "outputs": [],
   "source": [
    "## Attempting to normalize the distributions to have a better t test analysis"
   ]
  },
  {
   "cell_type": "code",
   "execution_count": 158,
   "metadata": {},
   "outputs": [
    {
     "data": {
      "text/plain": [
       "(array([4., 2., 3., 2., 1., 2., 0., 4., 3., 2.]),\n",
       " array([-2. ,  1.2,  4.4,  7.6, 10.8, 14. , 17.2, 20.4, 23.6, 26.8, 30. ]),\n",
       " <a list of 10 Patch objects>)"
      ]
     },
     "execution_count": 158,
     "metadata": {},
     "output_type": "execute_result"
    },
    {
     "data": {
      "image/png": "[encoded data removed]",
      "text/plain": [
       "<Figure size 432x288 with 1 Axes>"
      ]
     },
     "metadata": {},
     "output_type": "display_data"
    }
   ],
   "source": [
    "plt.hist(df_RO.y_net)"
   ]
  },
  {
   "cell_type": "code",
   "execution_count": 160,
   "metadata": {},
   "outputs": [
    {
     "data": {
      "text/plain": [
       "(array([21.,  0.,  0.,  1.,  0.,  0.,  0.,  0.,  0.,  1.]),\n",
       " array([1.35335283e-01, 1.06864746e+12, 2.13729492e+12, 3.20594237e+12,\n",
       "        4.27458983e+12, 5.34323729e+12, 6.41188475e+12, 7.48053221e+12,\n",
       "        8.54917967e+12, 9.61782712e+12, 1.06864746e+13]),\n",
       " <a list of 10 Patch objects>)"
      ]
     },
     "execution_count": 160,
     "metadata": {},
     "output_type": "execute_result"
    },
    {
     "data": {
      "image/png": "[encoded data removed]",
      "text/plain": [
       "<Figure size 432x288 with 1 Axes>"
      ]
     },
     "metadata": {},
     "output_type": "display_data"
    }
   ],
   "source": [
    "ro_normal = df_RO.y_net.apply(lambda x: np.exp(x))\n",
    "ro_normal.replace([np.inf, -np.inf], np.nan, inplace=True)\n",
    "ro_normal.dropna(inplace=True)\n",
    "\n",
    "plt.hist(ro_normal)"
   ]
  },
  {
   "cell_type": "code",
   "execution_count": null,
   "metadata": {},
   "outputs": [],
   "source": []
  },
  {
   "cell_type": "code",
   "execution_count": null,
   "metadata": {},
   "outputs": [],
   "source": []
  },
  {
   "cell_type": "code",
   "execution_count": null,
   "metadata": {},
   "outputs": [],
   "source": [
    "## T Test to look into the different groups and determine if we can collapse them"
   ]
  },
  {
   "cell_type": "code",
   "execution_count": null,
   "metadata": {},
   "outputs": [],
   "source": [
    "## Control groups"
   ]
  },
  {
   "cell_type": "code",
   "execution_count": 161,
   "metadata": {},
   "outputs": [
    {
     "data": {
      "text/plain": [
       "Ttest_indResult(statistic=-0.5455336409750448, pvalue=0.5889985200914156)"
      ]
     },
     "execution_count": 161,
     "metadata": {},
     "output_type": "execute_result"
    }
   ],
   "source": [
    "## We reject the Ho, means are not equal\n",
    "import scipy\n",
    "scipy.stats.ttest_ind(df_RO.post_positive_affect, df_ROO.post_positive_affect, equal_var=False)"
   ]
  },
  {
   "cell_type": "code",
   "execution_count": 162,
   "metadata": {},
   "outputs": [
    {
     "data": {
      "text/plain": [
       "Ttest_indResult(statistic=-0.2406628328487015, pvalue=0.8106365737048619)"
      ]
     },
     "execution_count": 162,
     "metadata": {},
     "output_type": "execute_result"
    }
   ],
   "source": [
    "scipy.stats.ttest_ind(df_RO.post_negative_affect, df_ROO.post_negative_affect, equal_var=False)"
   ]
  },
  {
   "cell_type": "code",
   "execution_count": null,
   "metadata": {},
   "outputs": [],
   "source": [
    "## Treatment groups"
   ]
  },
  {
   "cell_type": "code",
   "execution_count": 164,
   "metadata": {},
   "outputs": [
    {
     "data": {
      "text/plain": [
       "Ttest_indResult(statistic=0.7942903552190325, pvalue=0.433938438092911)"
      ]
     },
     "execution_count": 164,
     "metadata": {},
     "output_type": "execute_result"
    }
   ],
   "source": [
    "## We cannot reject the Ho, so we can assume the means are equal\n",
    "scipy.stats.ttest_ind(df_ROXO.post_positive_affect, df_RXO.post_positive_affect, equal_var=False)"
   ]
  },
  {
   "cell_type": "code",
   "execution_count": 165,
   "metadata": {},
   "outputs": [
    {
     "data": {
      "text/plain": [
       "Ttest_indResult(statistic=-1.9445042646773587, pvalue=0.06507728109941102)"
      ]
     },
     "execution_count": 165,
     "metadata": {},
     "output_type": "execute_result"
    }
   ],
   "source": [
    "scipy.stats.ttest_ind(df_ROXO.post_negative_affect, df_RXO.post_negative_affect, equal_var=False)"
   ]
  },
  {
   "cell_type": "code",
   "execution_count": null,
   "metadata": {},
   "outputs": [],
   "source": []
  },
  {
   "cell_type": "code",
   "execution_count": 142,
   "metadata": {},
   "outputs": [
    {
     "data": {
      "text/html": [
       "<table class=\"simpletable\">\n",
       "<tr>\n",
       "        <td></td>           <th>coef</th>     <th>std err</th>      <th>z</th>      <th>P>|z|</th>  <th>[0.025</th>    <th>0.975]</th>  \n",
       "</tr>\n",
       "<tr>\n",
       "  <th>Intercept</th>     <td>   13.0435</td> <td>    2.279</td> <td>    5.724</td> <td> 0.000</td> <td>    8.577</td> <td>   17.509</td>\n",
       "</tr>\n",
       "<tr>\n",
       "  <th>group[T.ROO]</th>  <td>  -10.2715</td> <td>    2.445</td> <td>   -4.200</td> <td> 0.000</td> <td>  -15.065</td> <td>   -5.479</td>\n",
       "</tr>\n",
       "<tr>\n",
       "  <th>group[T.ROXO]</th> <td>  -17.4565</td> <td>    2.601</td> <td>   -6.712</td> <td> 0.000</td> <td>  -22.554</td> <td>  -12.359</td>\n",
       "</tr>\n",
       "<tr>\n",
       "  <th>group[T.RXO]</th>  <td>  -11.7935</td> <td>    4.710</td> <td>   -2.504</td> <td> 0.012</td> <td>  -21.025</td> <td>   -2.562</td>\n",
       "</tr>\n",
       "</table>"
      ],
      "text/plain": [
       "<class 'statsmodels.iolib.table.SimpleTable'>"
      ]
     },
     "execution_count": 142,
     "metadata": {},
     "output_type": "execute_result"
    }
   ],
   "source": [
    "a = smf.ols('y_net ~   group ', data= df_clean).fit(cov_type='HC3')\n",
    "a.summary().tables[1]"
   ]
  },
  {
   "cell_type": "code",
   "execution_count": 134,
   "metadata": {},
   "outputs": [
    {
     "data": {
      "text/html": [
       "<table class=\"simpletable\">\n",
       "<tr>\n",
       "                       <td></td>                         <th>coef</th>     <th>std err</th>      <th>z</th>      <th>P>|z|</th>  <th>[0.025</th>    <th>0.975]</th>  \n",
       "</tr>\n",
       "<tr>\n",
       "  <th>Intercept</th>                                  <td>    9.8304</td> <td>    3.071</td> <td>    3.201</td> <td> 0.001</td> <td>    3.811</td> <td>   15.850</td>\n",
       "</tr>\n",
       "<tr>\n",
       "  <th>group[T.ROO]</th>                               <td>   -3.2304</td> <td>    4.341</td> <td>   -0.744</td> <td> 0.457</td> <td>  -11.739</td> <td>    5.278</td>\n",
       "</tr>\n",
       "<tr>\n",
       "  <th>group[T.ROXO]</th>                              <td>   -8.3304</td> <td>    3.960</td> <td>   -2.104</td> <td> 0.035</td> <td>  -16.092</td> <td>   -0.568</td>\n",
       "</tr>\n",
       "<tr>\n",
       "  <th>group[T.RXO]</th>                               <td>   -8.8304</td> <td>    6.437</td> <td>   -1.372</td> <td> 0.170</td> <td>  -21.446</td> <td>    3.786</td>\n",
       "</tr>\n",
       "<tr>\n",
       "  <th>C(location)[T.Kenya]</th>                       <td>    7.4196</td> <td>    3.564</td> <td>    2.082</td> <td> 0.037</td> <td>    0.435</td> <td>   14.405</td>\n",
       "</tr>\n",
       "<tr>\n",
       "  <th>C(location)[T.United States]</th>               <td>   -1.3758</td> <td>    3.518</td> <td>   -0.391</td> <td> 0.696</td> <td>   -8.271</td> <td>    5.519</td>\n",
       "</tr>\n",
       "<tr>\n",
       "  <th>group[T.ROO]:C(location)[T.Kenya]</th>          <td>  -10.4482</td> <td>    4.940</td> <td>   -2.115</td> <td> 0.034</td> <td>  -20.131</td> <td>   -0.765</td>\n",
       "</tr>\n",
       "<tr>\n",
       "  <th>group[T.ROXO]:C(location)[T.Kenya]</th>         <td>  -14.1196</td> <td>    4.970</td> <td>   -2.841</td> <td> 0.004</td> <td>  -23.861</td> <td>   -4.379</td>\n",
       "</tr>\n",
       "<tr>\n",
       "  <th>group[T.RXO]:C(location)[T.Kenya]</th>          <td>   11.5804</td> <td>   13.788</td> <td>    0.840</td> <td> 0.401</td> <td>  -15.444</td> <td>   38.605</td>\n",
       "</tr>\n",
       "<tr>\n",
       "  <th>group[T.ROO]:C(location)[T.United States]</th>  <td>   -3.6113</td> <td>    4.760</td> <td>   -0.759</td> <td> 0.448</td> <td>  -12.941</td> <td>    5.719</td>\n",
       "</tr>\n",
       "<tr>\n",
       "  <th>group[T.ROXO]:C(location)[T.United States]</th> <td>   -4.5380</td> <td>    4.525</td> <td>   -1.003</td> <td> 0.316</td> <td>  -13.407</td> <td>    4.331</td>\n",
       "</tr>\n",
       "<tr>\n",
       "  <th>group[T.RXO]:C(location)[T.United States]</th>  <td>   -3.0409</td> <td>    7.539</td> <td>   -0.403</td> <td> 0.687</td> <td>  -17.817</td> <td>   11.735</td>\n",
       "</tr>\n",
       "</table>"
      ],
      "text/plain": [
       "<class 'statsmodels.iolib.table.SimpleTable'>"
      ]
     },
     "execution_count": 134,
     "metadata": {},
     "output_type": "execute_result"
    }
   ],
   "source": [
    "a = smf.ols('y_net ~ group + C(location) + group*C(location)', data= df_clean).fit(cov_type='HC3')\n",
    "a.summary().tables[1]"
   ]
  },
  {
   "cell_type": "code",
   "execution_count": null,
   "metadata": {},
   "outputs": [],
   "source": []
  },
  {
   "cell_type": "code",
   "execution_count": 166,
   "metadata": {},
   "outputs": [],
   "source": [
    "## Since we are assuming all the means are equal when running t test for only the post survey, we will collapse the post positive and negative\n",
    "## responses and look at the treatment effect"
   ]
  },
  {
   "cell_type": "code",
   "execution_count": null,
   "metadata": {},
   "outputs": [],
   "source": []
  },
  {
   "cell_type": "code",
   "execution_count": 179,
   "metadata": {
    "scrolled": false
   },
   "outputs": [
    {
     "name": "stderr",
     "output_type": "stream",
     "text": [
      "C:\\Users\\hamsh\\Anaconda3\\lib\\site-packages\\ipykernel_launcher.py:1: SettingWithCopyWarning: \n",
      "A value is trying to be set on a copy of a slice from a DataFrame.\n",
      "Try using .loc[row_indexer,col_indexer] = value instead\n",
      "\n",
      "See the caveats in the documentation: http://pandas.pydata.org/pandas-docs/stable/indexing.html#indexing-view-versus-copy\n",
      "  \"\"\"Entry point for launching an IPython kernel.\n",
      "C:\\Users\\hamsh\\Anaconda3\\lib\\site-packages\\ipykernel_launcher.py:2: SettingWithCopyWarning: \n",
      "A value is trying to be set on a copy of a slice from a DataFrame.\n",
      "Try using .loc[row_indexer,col_indexer] = value instead\n",
      "\n",
      "See the caveats in the documentation: http://pandas.pydata.org/pandas-docs/stable/indexing.html#indexing-view-versus-copy\n",
      "  \n",
      "C:\\Users\\hamsh\\Anaconda3\\lib\\site-packages\\ipykernel_launcher.py:7: SettingWithCopyWarning: \n",
      "A value is trying to be set on a copy of a slice from a DataFrame.\n",
      "Try using .loc[row_indexer,col_indexer] = value instead\n",
      "\n",
      "See the caveats in the documentation: http://pandas.pydata.org/pandas-docs/stable/indexing.html#indexing-view-versus-copy\n",
      "  import sys\n",
      "C:\\Users\\hamsh\\Anaconda3\\lib\\site-packages\\ipykernel_launcher.py:8: SettingWithCopyWarning: \n",
      "A value is trying to be set on a copy of a slice from a DataFrame.\n",
      "Try using .loc[row_indexer,col_indexer] = value instead\n",
      "\n",
      "See the caveats in the documentation: http://pandas.pydata.org/pandas-docs/stable/indexing.html#indexing-view-versus-copy\n",
      "  \n"
     ]
    }
   ],
   "source": [
    "df_ROXO['y_post'] = df_ROXO['post_positive_affect'] - df_ROXO['post_negative_affect']\n",
    "df_RXO['y_post'] = df_RXO['post_positive_affect'] - df_RXO['post_negative_affect']\n",
    "df_treatment = pd.concat([df_ROXO, df_RXO])\n",
    "df_treatment['assign'] = 't'\n",
    "\n",
    "\n",
    "df_ROO['y_post'] = df_ROO['post_positive_affect'] - df_ROO['post_negative_affect']\n",
    "df_RO['y_post'] = df_RO['post_positive_affect'] - df_RO['post_negative_affect']\n",
    "df_control = pd.concat([df_ROO, df_RO])\n",
    "df_control['assign'] = 'c'"
   ]
  },
  {
   "cell_type": "code",
   "execution_count": 180,
   "metadata": {},
   "outputs": [],
   "source": [
    "## combine treatment and control df to one df\n",
    "df_clean = pd.concat([df_treatment, df_control])"
   ]
  },
  {
   "cell_type": "code",
   "execution_count": null,
   "metadata": {},
   "outputs": [],
   "source": []
  },
  {
   "cell_type": "code",
   "execution_count": 183,
   "metadata": {},
   "outputs": [
    {
     "data": {
      "text/html": [
       "<table class=\"simpletable\">\n",
       "<tr>\n",
       "       <td></td>          <th>coef</th>     <th>std err</th>      <th>z</th>      <th>P>|z|</th>  <th>[0.025</th>    <th>0.975]</th>  \n",
       "</tr>\n",
       "<tr>\n",
       "  <th>Intercept</th>   <td>   13.8250</td> <td>    1.301</td> <td>   10.623</td> <td> 0.000</td> <td>   11.274</td> <td>   16.376</td>\n",
       "</tr>\n",
       "<tr>\n",
       "  <th>assign[T.t]</th> <td>   -6.9218</td> <td>    2.153</td> <td>   -3.215</td> <td> 0.001</td> <td>  -11.141</td> <td>   -2.702</td>\n",
       "</tr>\n",
       "</table>"
      ],
      "text/plain": [
       "<class 'statsmodels.iolib.table.SimpleTable'>"
      ]
     },
     "execution_count": 183,
     "metadata": {},
     "output_type": "execute_result"
    }
   ],
   "source": [
    "a = smf.ols('y_post ~   assign ', data= df_clean).fit(cov_type='HC3')\n",
    "a.summary().tables[1]"
   ]
  },
  {
   "cell_type": "code",
   "execution_count": null,
   "metadata": {},
   "outputs": [],
   "source": []
  },
  {
   "cell_type": "code",
   "execution_count": 189,
   "metadata": {},
   "outputs": [
    {
     "data": {
      "text/html": [
       "<table class=\"simpletable\">\n",
       "<tr>\n",
       "          <td></td>             <th>coef</th>     <th>std err</th>      <th>z</th>      <th>P>|z|</th>  <th>[0.025</th>    <th>0.975]</th>  \n",
       "</tr>\n",
       "<tr>\n",
       "  <th>Intercept</th>         <td>   13.8802</td> <td>    1.522</td> <td>    9.119</td> <td> 0.000</td> <td>   10.897</td> <td>   16.863</td>\n",
       "</tr>\n",
       "<tr>\n",
       "  <th>assign[T.t]</th>       <td>   -6.9037</td> <td>    2.218</td> <td>   -3.112</td> <td> 0.002</td> <td>  -11.251</td> <td>   -2.556</td>\n",
       "</tr>\n",
       "<tr>\n",
       "  <th>C(gender)[T.male]</th> <td>   -0.1262</td> <td>    2.160</td> <td>   -0.058</td> <td> 0.953</td> <td>   -4.360</td> <td>    4.108</td>\n",
       "</tr>\n",
       "</table>"
      ],
      "text/plain": [
       "<class 'statsmodels.iolib.table.SimpleTable'>"
      ]
     },
     "execution_count": 189,
     "metadata": {},
     "output_type": "execute_result"
    }
   ],
   "source": [
    "a = smf.ols('y_post ~   assign + C(gender)', data= df_clean).fit(cov_type='HC3')\n",
    "a.summary().tables[1]"
   ]
  },
  {
   "cell_type": "code",
   "execution_count": null,
   "metadata": {},
   "outputs": [],
   "source": []
  },
  {
   "cell_type": "code",
   "execution_count": 190,
   "metadata": {},
   "outputs": [
    {
     "data": {
      "text/html": [
       "<table class=\"simpletable\">\n",
       "<tr>\n",
       "                <td></td>                  <th>coef</th>     <th>std err</th>      <th>z</th>      <th>P>|z|</th>  <th>[0.025</th>    <th>0.975]</th>  \n",
       "</tr>\n",
       "<tr>\n",
       "  <th>Intercept</th>                    <td>   13.4226</td> <td>    4.913</td> <td>    2.732</td> <td> 0.006</td> <td>    3.794</td> <td>   23.051</td>\n",
       "</tr>\n",
       "<tr>\n",
       "  <th>assign[T.t]</th>                  <td>   -6.0043</td> <td>    2.134</td> <td>   -2.813</td> <td> 0.005</td> <td>  -10.188</td> <td>   -1.821</td>\n",
       "</tr>\n",
       "<tr>\n",
       "  <th>C(gender)[T.male]</th>            <td>    0.8774</td> <td>    2.134</td> <td>    0.411</td> <td> 0.681</td> <td>   -3.305</td> <td>    5.060</td>\n",
       "</tr>\n",
       "<tr>\n",
       "  <th>C(location)[T.Kenya]</th>         <td>    4.5706</td> <td>    5.410</td> <td>    0.845</td> <td> 0.398</td> <td>   -6.034</td> <td>   15.175</td>\n",
       "</tr>\n",
       "<tr>\n",
       "  <th>C(location)[T.United States]</th> <td>   -3.5558</td> <td>    5.392</td> <td>   -0.659</td> <td> 0.510</td> <td>  -14.124</td> <td>    7.012</td>\n",
       "</tr>\n",
       "</table>"
      ],
      "text/plain": [
       "<class 'statsmodels.iolib.table.SimpleTable'>"
      ]
     },
     "execution_count": 190,
     "metadata": {},
     "output_type": "execute_result"
    }
   ],
   "source": [
    "a = smf.ols('y_post ~ assign + C(gender) + C(location)', data= df_clean).fit(cov_type='HC3')\n",
    "a.summary().tables[1]"
   ]
  },
  {
   "cell_type": "code",
   "execution_count": null,
   "metadata": {},
   "outputs": [],
   "source": []
  },
  {
   "cell_type": "code",
   "execution_count": 185,
   "metadata": {},
   "outputs": [
    {
     "data": {
      "text/html": [
       "<table class=\"simpletable\">\n",
       "<tr>\n",
       "                      <td></td>                        <th>coef</th>     <th>std err</th>      <th>z</th>      <th>P>|z|</th>  <th>[0.025</th>    <th>0.975]</th>  \n",
       "</tr>\n",
       "<tr>\n",
       "  <th>Intercept</th>                                <td>   10.8000</td> <td>    4.159</td> <td>    2.597</td> <td> 0.009</td> <td>    2.648</td> <td>   18.952</td>\n",
       "</tr>\n",
       "<tr>\n",
       "  <th>assign[T.t]</th>                              <td>    1.8667</td> <td>   15.475</td> <td>    0.121</td> <td> 0.904</td> <td>  -28.463</td> <td>   32.197</td>\n",
       "</tr>\n",
       "<tr>\n",
       "  <th>C(location)[T.Kenya]</th>                     <td>    8.2303</td> <td>    4.693</td> <td>    1.754</td> <td> 0.079</td> <td>   -0.967</td> <td>   17.427</td>\n",
       "</tr>\n",
       "<tr>\n",
       "  <th>C(location)[T.United States]</th>             <td>   -0.7048</td> <td>    4.432</td> <td>   -0.159</td> <td> 0.874</td> <td>   -9.391</td> <td>    7.981</td>\n",
       "</tr>\n",
       "<tr>\n",
       "  <th>assign[T.t]:C(location)[T.Kenya]</th>         <td>   -9.7859</td> <td>   15.904</td> <td>   -0.615</td> <td> 0.538</td> <td>  -40.957</td> <td>   21.385</td>\n",
       "</tr>\n",
       "<tr>\n",
       "  <th>assign[T.t]:C(location)[T.United States]</th> <td>   -7.3278</td> <td>   15.688</td> <td>   -0.467</td> <td> 0.640</td> <td>  -38.076</td> <td>   23.421</td>\n",
       "</tr>\n",
       "</table>"
      ],
      "text/plain": [
       "<class 'statsmodels.iolib.table.SimpleTable'>"
      ]
     },
     "execution_count": 185,
     "metadata": {},
     "output_type": "execute_result"
    }
   ],
   "source": [
    "a = smf.ols('y_post ~   assign + C(location) + assign*C(location)', data= df_clean).fit(cov_type='HC3')\n",
    "a.summary().tables[1]"
   ]
  },
  {
   "cell_type": "code",
   "execution_count": null,
   "metadata": {},
   "outputs": [],
   "source": []
  },
  {
   "cell_type": "code",
   "execution_count": 186,
   "metadata": {},
   "outputs": [
    {
     "data": {
      "text/html": [
       "<table class=\"simpletable\">\n",
       "<tr>\n",
       "                <td></td>                   <th>coef</th>     <th>std err</th>      <th>z</th>      <th>P>|z|</th>  <th>[0.025</th>    <th>0.975]</th>  \n",
       "</tr>\n",
       "<tr>\n",
       "  <th>Intercept</th>                     <td>   15.4667</td> <td>    1.599</td> <td>    9.675</td> <td> 0.000</td> <td>   12.334</td> <td>   18.600</td>\n",
       "</tr>\n",
       "<tr>\n",
       "  <th>assign[T.t]</th>                   <td>  -11.2359</td> <td>    3.135</td> <td>   -3.584</td> <td> 0.000</td> <td>  -17.381</td> <td>   -5.091</td>\n",
       "</tr>\n",
       "<tr>\n",
       "  <th>C(gender)[T.male]</th>             <td>   -3.7524</td> <td>    2.679</td> <td>   -1.400</td> <td> 0.161</td> <td>   -9.004</td> <td>    1.499</td>\n",
       "</tr>\n",
       "<tr>\n",
       "  <th>assign[T.t]:C(gender)[T.male]</th> <td>    8.3549</td> <td>    4.406</td> <td>    1.896</td> <td> 0.058</td> <td>   -0.281</td> <td>   16.991</td>\n",
       "</tr>\n",
       "</table>"
      ],
      "text/plain": [
       "<class 'statsmodels.iolib.table.SimpleTable'>"
      ]
     },
     "execution_count": 186,
     "metadata": {},
     "output_type": "execute_result"
    }
   ],
   "source": [
    "a = smf.ols('y_post ~   assign + C(gender) + assign*C(gender)', data= df_clean).fit(cov_type='HC3')\n",
    "a.summary().tables[1]"
   ]
  },
  {
   "cell_type": "code",
   "execution_count": null,
   "metadata": {},
   "outputs": [],
   "source": []
  },
  {
   "cell_type": "code",
   "execution_count": 187,
   "metadata": {},
   "outputs": [],
   "source": [
    "df_clean['age_bin'] = pd.cut(df_clean.age, [0, 20, 35, 50, 100], labels=['0-20', '20-35', '35-50', '50-100'])"
   ]
  },
  {
   "cell_type": "code",
   "execution_count": 191,
   "metadata": {},
   "outputs": [
    {
     "data": {
      "text/html": [
       "<table class=\"simpletable\">\n",
       "<tr>\n",
       "                <td></td>                  <th>coef</th>     <th>std err</th>      <th>z</th>      <th>P>|z|</th>  <th>[0.025</th>    <th>0.975]</th>  \n",
       "</tr>\n",
       "<tr>\n",
       "  <th>Intercept</th>                    <td>   17.4027</td> <td>    6.479</td> <td>    2.686</td> <td> 0.007</td> <td>    4.703</td> <td>   30.102</td>\n",
       "</tr>\n",
       "<tr>\n",
       "  <th>assign[T.t]</th>                  <td>   -5.2936</td> <td>    2.179</td> <td>   -2.430</td> <td> 0.015</td> <td>   -9.564</td> <td>   -1.023</td>\n",
       "</tr>\n",
       "<tr>\n",
       "  <th>C(gender)[T.male]</th>            <td>    0.2973</td> <td>    2.115</td> <td>    0.141</td> <td> 0.888</td> <td>   -3.848</td> <td>    4.442</td>\n",
       "</tr>\n",
       "<tr>\n",
       "  <th>C(location)[T.Kenya]</th>         <td>    4.5352</td> <td>    5.410</td> <td>    0.838</td> <td> 0.402</td> <td>   -6.068</td> <td>   15.138</td>\n",
       "</tr>\n",
       "<tr>\n",
       "  <th>C(location)[T.United States]</th> <td>   -3.6735</td> <td>    5.460</td> <td>   -0.673</td> <td> 0.501</td> <td>  -14.375</td> <td>    7.028</td>\n",
       "</tr>\n",
       "<tr>\n",
       "  <th>C(age_bin)[T.20-35]</th>          <td>   -4.0290</td> <td>    4.101</td> <td>   -0.982</td> <td> 0.326</td> <td>  -12.067</td> <td>    4.008</td>\n",
       "</tr>\n",
       "<tr>\n",
       "  <th>C(age_bin)[T.35-50]</th>          <td>   -3.4136</td> <td>    5.584</td> <td>   -0.611</td> <td> 0.541</td> <td>  -14.357</td> <td>    7.530</td>\n",
       "</tr>\n",
       "<tr>\n",
       "  <th>C(age_bin)[T.50-100]</th>         <td>  -26.4356</td> <td>   40.259</td> <td>   -0.657</td> <td> 0.511</td> <td> -105.341</td> <td>   52.470</td>\n",
       "</tr>\n",
       "</table>"
      ],
      "text/plain": [
       "<class 'statsmodels.iolib.table.SimpleTable'>"
      ]
     },
     "execution_count": 191,
     "metadata": {},
     "output_type": "execute_result"
    }
   ],
   "source": [
    "a = smf.ols('y_post ~   assign + C(gender) + C(location) + C(age_bin)', data= df_clean).fit(cov_type='HC3')\n",
    "a.summary().tables[1]"
   ]
  },
  {
   "cell_type": "code",
   "execution_count": null,
   "metadata": {},
   "outputs": [],
   "source": []
  },
  {
   "cell_type": "code",
   "execution_count": null,
   "metadata": {},
   "outputs": [],
   "source": []
  },
  {
   "cell_type": "code",
   "execution_count": null,
   "metadata": {},
   "outputs": [],
   "source": []
  }
 ],
 "metadata": {
  "kernelspec": {
   "display_name": "Python 3",
   "language": "python",
   "name": "python3"
  },
  "language_info": {
   "codemirror_mode": {
    "name": "ipython",
    "version": 3
   },
   "file_extension": ".py",
   "mimetype": "text/x-python",
   "name": "python",
   "nbconvert_exporter": "python",
   "pygments_lexer": "ipython3",
   "version": "3.6.5"
  }
 },
 "nbformat": 4,
 "nbformat_minor": 2
}
